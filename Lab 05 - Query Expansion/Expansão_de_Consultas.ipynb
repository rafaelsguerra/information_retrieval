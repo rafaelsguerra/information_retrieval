{
  "nbformat": 4,
  "nbformat_minor": 0,
  "metadata": {
    "colab": {
      "name": "Expansão de Consultas.ipynb",
      "version": "0.3.2",
      "provenance": [],
      "collapsed_sections": [],
      "include_colab_link": true
    },
    "kernelspec": {
      "name": "python3",
      "display_name": "Python 3"
    }
  },
  "cells": [
    {
      "cell_type": "markdown",
      "metadata": {
        "id": "view-in-github",
        "colab_type": "text"
      },
      "source": [
        "<a href=\"https://colab.research.google.com/github/rafaelsguerra/information_retrieval/blob/master/Lab%2005%20-%20Query%20Expansion/Expans%C3%A3o_de_Consultas.ipynb\" target=\"_parent\"><img src=\"https://colab.research.google.com/assets/colab-badge.svg\" alt=\"Open In Colab\"/></a>"
      ]
    },
    {
      "cell_type": "code",
      "metadata": {
        "id": "XIuuKuTer0pn",
        "colab_type": "code",
        "outputId": "2362e5d1-e569-4596-db3c-6c7579fc2d75",
        "colab": {
          "base_uri": "https://localhost:8080/",
          "height": 70
        }
      },
      "source": [
        "import collections\n",
        "import pandas as pd\n",
        "import matplotlib.pyplot as plt\n",
        "import numpy as np\n",
        "import re\n",
        "import seaborn as sns\n",
        "import nltk\n",
        "import heapq\n",
        "import time\n",
        "import math\n",
        "\n",
        "from nltk.tokenize import RegexpTokenizer\n",
        "from nltk.corpus import stopwords\n",
        "nltk.download('stopwords')"
      ],
      "execution_count": 1,
      "outputs": [
        {
          "output_type": "stream",
          "text": [
            "[nltk_data] Downloading package stopwords to /root/nltk_data...\n",
            "[nltk_data]   Package stopwords is already up-to-date!\n"
          ],
          "name": "stdout"
        },
        {
          "output_type": "execute_result",
          "data": {
            "text/plain": [
              "True"
            ]
          },
          "metadata": {
            "tags": []
          },
          "execution_count": 1
        }
      ]
    },
    {
      "cell_type": "code",
      "metadata": {
        "id": "HBC5IK15smfv",
        "colab_type": "code",
        "colab": {}
      },
      "source": [
        "data = pd.read_csv('https://raw.githubusercontent.com/rafaelsguerra/information_retrieval/master/data/results.csv')\n",
        "data_title = data['title'].tolist()\n",
        "data_subtitle = data['subtitle'].tolist()\n",
        "data_text = data['text'].tolist()"
      ],
      "execution_count": 0,
      "outputs": []
    },
    {
      "cell_type": "code",
      "metadata": {
        "id": "W0XYdHuPtgK7",
        "colab_type": "code",
        "colab": {}
      },
      "source": [
        "def parse(document):  \n",
        "  tokenizer = RegexpTokenizer(r'\\b[A-zÀ-ú\\d\\-\\']+') \n",
        "  tokens = []\n",
        "\n",
        "  tokens.extend(tokenizer.tokenize(document.lower()))\n",
        "    \n",
        "  stop_words = stopwords.words('portuguese')\n",
        "\n",
        "  filtered_tokens = []\n",
        "\n",
        "  for token in tokens:\n",
        "    if token not in stop_words  and len(token) >= 2: # and len(token) > 2\n",
        "      filtered_tokens.append(token)\n",
        "  \n",
        "  return filtered_tokens"
      ],
      "execution_count": 0,
      "outputs": []
    },
    {
      "cell_type": "code",
      "metadata": {
        "id": "6g7PTplitEYL",
        "colab_type": "code",
        "colab": {}
      },
      "source": [
        "def build_index(data):\n",
        "  inverted_list = {}\n",
        "  n = 0\n",
        "  \n",
        "  for document in data:\n",
        "    n = n + 1\n",
        "    tokens = parse(document)\n",
        "    \n",
        "    tokens_no_duplicates = collections.Counter(tokens)\n",
        "    \n",
        "    for token in tokens_no_duplicates.keys():\n",
        "      if token not in inverted_list:\n",
        "        inverted_list[token] = []\n",
        "      inverted_list[token].append((n, tokens_no_duplicates[token]))\n",
        "    \n",
        "  return inverted_list\n"
      ],
      "execution_count": 0,
      "outputs": []
    },
    {
      "cell_type": "code",
      "metadata": {
        "id": "UlfgNN22uULO",
        "colab_type": "code",
        "colab": {}
      },
      "source": [
        "def document_at_a_time(query, inverted_index, k):\n",
        "  inverted_lists = {}\n",
        "  r = []\n",
        "  \n",
        "  for word in query.split(\" \"):\n",
        "    if word in inverted_index.keys():\n",
        "      inverted_lists[word] = inverted_index[word]\n",
        "      \n",
        "  documents = list(range(1, len(data.url) + 1))\n",
        "  \n",
        "  for document in documents:\n",
        "    score = 0\n",
        "    \n",
        "    for key in inverted_lists.keys():\n",
        "      for tuple in inverted_lists[key]:\n",
        "        if tuple[0] == document:\n",
        "          score += tuple[1]\n",
        "          break\n",
        "        \n",
        "    if score != 0:\n",
        "      heapq.heappush(r, (score, document))\n",
        "      \n",
        "  return heapq.nlargest(k, r)   \n",
        "  "
      ],
      "execution_count": 0,
      "outputs": []
    },
    {
      "cell_type": "code",
      "metadata": {
        "id": "hslls-UUu3kH",
        "colab_type": "code",
        "colab": {}
      },
      "source": [
        "inverted_index = build_index(data_text)\n",
        "\n",
        "queries = [\"bolsonaro\", \"corrupção\", \"economia\", \"brasil\", \"governo\"]"
      ],
      "execution_count": 0,
      "outputs": []
    },
    {
      "cell_type": "code",
      "metadata": {
        "id": "CNkUgVpY7rlF",
        "colab_type": "code",
        "colab": {}
      },
      "source": [
        "def mim(intersection, a, b):\n",
        "  if len(a) > 0 and len(b) > 0:\n",
        "    return (len(intersection) / (len(a) * len(b)))\n",
        "  \n",
        "  return 0"
      ],
      "execution_count": 0,
      "outputs": []
    },
    {
      "cell_type": "code",
      "metadata": {
        "id": "jeb1cwYh7vQ2",
        "colab_type": "code",
        "colab": {}
      },
      "source": [
        "def emim(intersection, a, b, N):\n",
        "  if len(intersection) > 0:\n",
        "    return len(intersection) * math.log10(N * mim(intersection, a, b))\n",
        "  \n",
        "  return 0"
      ],
      "execution_count": 0,
      "outputs": []
    },
    {
      "cell_type": "code",
      "metadata": {
        "id": "OGcsYjsOL6bp",
        "colab_type": "code",
        "colab": {}
      },
      "source": [
        "def chi_2(intersection, a, b, n):\n",
        "  if len(a) > 0 and len(b) > 0:\n",
        "    return ((len(intersection) - ((1/n) * len(a) * len(b))) ** 2) / (len(a) * len(b))\n",
        "  \n",
        "  return 0"
      ],
      "execution_count": 0,
      "outputs": []
    },
    {
      "cell_type": "code",
      "metadata": {
        "id": "z4oNENoNCyyb",
        "colab_type": "code",
        "colab": {}
      },
      "source": [
        "def dice(intersection, a, b):\n",
        "  if len(a) + len(b) == 0 :\n",
        "    return 0\n",
        "  return len(intersection) / (len(a) + len(b))"
      ],
      "execution_count": 0,
      "outputs": []
    },
    {
      "cell_type": "code",
      "metadata": {
        "id": "22sG1M-otVQ1",
        "colab_type": "code",
        "colab": {}
      },
      "source": [
        "def get_intersection(a, b):\n",
        "  docs_a = []\n",
        "  for item in a:\n",
        "    docs_a.append(item[0])\n",
        "    \n",
        "  \n",
        "  docs_b = []\n",
        "  for item in b:\n",
        "    docs_b.append(item[0])\n",
        "      \n",
        "  return [value for value in docs_a if value in docs_b]"
      ],
      "execution_count": 0,
      "outputs": []
    },
    {
      "cell_type": "code",
      "metadata": {
        "id": "PujrJ2rCzIKj",
        "colab_type": "code",
        "colab": {}
      },
      "source": [
        "def generate_table(query, inverted_index):\n",
        "  col_mim = {}\n",
        "  col_emim = {}\n",
        "  col_chi_squared = {}\n",
        "  col_dice = {}\n",
        "\n",
        "  a = inverted_index[query]\n",
        "\n",
        "  for key in inverted_index.keys():\n",
        "    if key != query: \n",
        "    \n",
        "      b = inverted_index[key]\n",
        "  \n",
        "      intersection = get_intersection(a, b)\n",
        "  \n",
        "      mim_value = mim(intersection, a, b)\n",
        "      emim_value = emim(intersection, a, b, len(inverted_index))\n",
        "      chi_squared_value = chi_2(intersection, a, b, len(inverted_index))\n",
        "      dice_value = dice(intersection, a, b)\n",
        "    \n",
        "      col_mim[mim_value] = key\n",
        "      col_emim[emim_value] = key\n",
        "      col_chi_squared[chi_squared_value] = key\n",
        "      col_dice[dice_value] = key\n",
        "    \n",
        "  top10_mim = []\n",
        "  top10_emim = []\n",
        "  top10_chi_2 = []\n",
        "  top10_dice = []\n",
        "    \n",
        "  for i in range(10) :\n",
        "    top10_mim.append(col_mim.pop(max(col_mim)))\n",
        "    top10_emim.append(col_emim.pop(max(col_emim)))\n",
        "    top10_chi_2.append(col_chi_squared.pop(max(col_chi_squared)))\n",
        "    top10_dice.append(col_dice.pop(max(col_dice)))\n",
        "\n",
        "  table = {\"MIM\": top10_mim, \"EMIM\": top10_emim, \"CHI-SQUARED\": top10_chi_2, \"DICE\": top10_dice}\n",
        "  df = pd.DataFrame.from_dict(table) \n",
        "  \n",
        "  return df "
      ],
      "execution_count": 0,
      "outputs": []
    },
    {
      "cell_type": "code",
      "metadata": {
        "id": "XCzATTklVwBd",
        "colab_type": "code",
        "colab": {}
      },
      "source": [
        "#Questão 1"
      ],
      "execution_count": 0,
      "outputs": []
    },
    {
      "cell_type": "code",
      "metadata": {
        "id": "1mvBknnjDuPE",
        "colab_type": "code",
        "outputId": "bf8809a3-e74e-4bf5-87c8-a10ec0762c2a",
        "colab": {
          "base_uri": "https://localhost:8080/",
          "height": 347
        }
      },
      "source": [
        "df = generate_table('bolsonaro', inverted_index)\n",
        "df"
      ],
      "execution_count": 14,
      "outputs": [
        {
          "output_type": "execute_result",
          "data": {
            "text/html": [
              "<div>\n",
              "<style scoped>\n",
              "    .dataframe tbody tr th:only-of-type {\n",
              "        vertical-align: middle;\n",
              "    }\n",
              "\n",
              "    .dataframe tbody tr th {\n",
              "        vertical-align: top;\n",
              "    }\n",
              "\n",
              "    .dataframe thead th {\n",
              "        text-align: right;\n",
              "    }\n",
              "</style>\n",
              "<table border=\"1\" class=\"dataframe\">\n",
              "  <thead>\n",
              "    <tr style=\"text-align: right;\">\n",
              "      <th></th>\n",
              "      <th>MIM</th>\n",
              "      <th>EMIM</th>\n",
              "      <th>CHI-SQUARED</th>\n",
              "      <th>DICE</th>\n",
              "    </tr>\n",
              "  </thead>\n",
              "  <tbody>\n",
              "    <tr>\n",
              "      <th>0</th>\n",
              "      <td>participativos</td>\n",
              "      <td>presidente</td>\n",
              "      <td>presidente</td>\n",
              "      <td>presidente</td>\n",
              "    </tr>\n",
              "    <tr>\n",
              "      <th>1</th>\n",
              "      <td>planalto</td>\n",
              "      <td>brasil</td>\n",
              "      <td>brasil</td>\n",
              "      <td>brasil</td>\n",
              "    </tr>\n",
              "    <tr>\n",
              "      <th>2</th>\n",
              "      <td>psl</td>\n",
              "      <td>ainda</td>\n",
              "      <td>governo</td>\n",
              "      <td>governo</td>\n",
              "    </tr>\n",
              "    <tr>\n",
              "      <th>3</th>\n",
              "      <td>guedes</td>\n",
              "      <td>governo</td>\n",
              "      <td>brasileiro</td>\n",
              "      <td>brasileiro</td>\n",
              "    </tr>\n",
              "    <tr>\n",
              "      <th>4</th>\n",
              "      <td>lula</td>\n",
              "      <td>sobre</td>\n",
              "      <td>ainda</td>\n",
              "      <td>político</td>\n",
              "    </tr>\n",
              "    <tr>\n",
              "      <th>5</th>\n",
              "      <td>consegue</td>\n",
              "      <td>ser</td>\n",
              "      <td>ministro</td>\n",
              "      <td>ministro</td>\n",
              "    </tr>\n",
              "    <tr>\n",
              "      <th>6</th>\n",
              "      <td>articulação</td>\n",
              "      <td>país</td>\n",
              "      <td>político</td>\n",
              "      <td>brasileira</td>\n",
              "    </tr>\n",
              "    <tr>\n",
              "      <th>7</th>\n",
              "      <td>capitão</td>\n",
              "      <td>anos</td>\n",
              "      <td>reforma</td>\n",
              "      <td>ainda</td>\n",
              "    </tr>\n",
              "    <tr>\n",
              "      <th>8</th>\n",
              "      <td>relevantes</td>\n",
              "      <td>ter</td>\n",
              "      <td>jair</td>\n",
              "      <td>federal</td>\n",
              "    </tr>\n",
              "    <tr>\n",
              "      <th>9</th>\n",
              "      <td>palácio</td>\n",
              "      <td>política</td>\n",
              "      <td>brasileira</td>\n",
              "      <td>reforma</td>\n",
              "    </tr>\n",
              "  </tbody>\n",
              "</table>\n",
              "</div>"
            ],
            "text/plain": [
              "              MIM        EMIM CHI-SQUARED        DICE\n",
              "0  participativos  presidente  presidente  presidente\n",
              "1        planalto      brasil      brasil      brasil\n",
              "2             psl       ainda     governo     governo\n",
              "3          guedes     governo  brasileiro  brasileiro\n",
              "4            lula       sobre       ainda    político\n",
              "5        consegue         ser    ministro    ministro\n",
              "6     articulação        país    político  brasileira\n",
              "7         capitão        anos     reforma       ainda\n",
              "8      relevantes         ter        jair     federal\n",
              "9         palácio    política  brasileira     reforma"
            ]
          },
          "metadata": {
            "tags": []
          },
          "execution_count": 14
        }
      ]
    },
    {
      "cell_type": "code",
      "metadata": {
        "id": "70Hd1oeAD7oD",
        "colab_type": "code",
        "outputId": "bf77ecc5-d199-4322-8e5e-7061f9fc5998",
        "colab": {
          "base_uri": "https://localhost:8080/",
          "height": 347
        }
      },
      "source": [
        "df = generate_table('corrupção', inverted_index)\n",
        "df"
      ],
      "execution_count": 15,
      "outputs": [
        {
          "output_type": "execute_result",
          "data": {
            "text/html": [
              "<div>\n",
              "<style scoped>\n",
              "    .dataframe tbody tr th:only-of-type {\n",
              "        vertical-align: middle;\n",
              "    }\n",
              "\n",
              "    .dataframe tbody tr th {\n",
              "        vertical-align: top;\n",
              "    }\n",
              "\n",
              "    .dataframe thead th {\n",
              "        text-align: right;\n",
              "    }\n",
              "</style>\n",
              "<table border=\"1\" class=\"dataframe\">\n",
              "  <thead>\n",
              "    <tr style=\"text-align: right;\">\n",
              "      <th></th>\n",
              "      <th>MIM</th>\n",
              "      <th>EMIM</th>\n",
              "      <th>CHI-SQUARED</th>\n",
              "      <th>DICE</th>\n",
              "    </tr>\n",
              "  </thead>\n",
              "  <tbody>\n",
              "    <tr>\n",
              "      <th>0</th>\n",
              "      <td>somavam</td>\n",
              "      <td>ainda</td>\n",
              "      <td>ex-chefe</td>\n",
              "      <td>mdb</td>\n",
              "    </tr>\n",
              "    <tr>\n",
              "      <th>1</th>\n",
              "      <td>email</td>\n",
              "      <td>contra</td>\n",
              "      <td>mdb</td>\n",
              "      <td>federal</td>\n",
              "    </tr>\n",
              "    <tr>\n",
              "      <th>2</th>\n",
              "      <td>suspeitos</td>\n",
              "      <td>federal</td>\n",
              "      <td>federal</td>\n",
              "      <td>popularidade</td>\n",
              "    </tr>\n",
              "    <tr>\n",
              "      <th>3</th>\n",
              "      <td>lavagem</td>\n",
              "      <td>ser</td>\n",
              "      <td>lavagem</td>\n",
              "      <td>temer</td>\n",
              "    </tr>\n",
              "    <tr>\n",
              "      <th>4</th>\n",
              "      <td>patrão</td>\n",
              "      <td>outros</td>\n",
              "      <td>popularidade</td>\n",
              "      <td>lavagem</td>\n",
              "    </tr>\n",
              "    <tr>\n",
              "      <th>5</th>\n",
              "      <td>moreira</td>\n",
              "      <td>menos</td>\n",
              "      <td>email</td>\n",
              "      <td>poderoso</td>\n",
              "    </tr>\n",
              "    <tr>\n",
              "      <th>6</th>\n",
              "      <td>lava</td>\n",
              "      <td>anos</td>\n",
              "      <td>bretas</td>\n",
              "      <td>confiança</td>\n",
              "    </tr>\n",
              "    <tr>\n",
              "      <th>7</th>\n",
              "      <td>poderoso</td>\n",
              "      <td>política</td>\n",
              "      <td>temer</td>\n",
              "      <td>garantir</td>\n",
              "    </tr>\n",
              "    <tr>\n",
              "      <th>8</th>\n",
              "      <td>popularidade</td>\n",
              "      <td>político</td>\n",
              "      <td>político</td>\n",
              "      <td>prisão</td>\n",
              "    </tr>\n",
              "    <tr>\n",
              "      <th>9</th>\n",
              "      <td>permaneceram</td>\n",
              "      <td>maior</td>\n",
              "      <td>poderoso</td>\n",
              "      <td>ex-chefe</td>\n",
              "    </tr>\n",
              "  </tbody>\n",
              "</table>\n",
              "</div>"
            ],
            "text/plain": [
              "            MIM      EMIM   CHI-SQUARED          DICE\n",
              "0       somavam     ainda      ex-chefe           mdb\n",
              "1         email    contra           mdb       federal\n",
              "2     suspeitos   federal       federal  popularidade\n",
              "3       lavagem       ser       lavagem         temer\n",
              "4        patrão    outros  popularidade       lavagem\n",
              "5       moreira     menos         email      poderoso\n",
              "6          lava      anos        bretas     confiança\n",
              "7      poderoso  política         temer      garantir\n",
              "8  popularidade  político      político        prisão\n",
              "9  permaneceram     maior      poderoso      ex-chefe"
            ]
          },
          "metadata": {
            "tags": []
          },
          "execution_count": 15
        }
      ]
    },
    {
      "cell_type": "code",
      "metadata": {
        "id": "qFQPDmKgEiyS",
        "colab_type": "code",
        "outputId": "4ca19817-7a59-4906-9c08-d2bf044aabd2",
        "colab": {
          "base_uri": "https://localhost:8080/",
          "height": 347
        }
      },
      "source": [
        "df = generate_table('economia', inverted_index)\n",
        "df"
      ],
      "execution_count": 16,
      "outputs": [
        {
          "output_type": "execute_result",
          "data": {
            "text/html": [
              "<div>\n",
              "<style scoped>\n",
              "    .dataframe tbody tr th:only-of-type {\n",
              "        vertical-align: middle;\n",
              "    }\n",
              "\n",
              "    .dataframe tbody tr th {\n",
              "        vertical-align: top;\n",
              "    }\n",
              "\n",
              "    .dataframe thead th {\n",
              "        text-align: right;\n",
              "    }\n",
              "</style>\n",
              "<table border=\"1\" class=\"dataframe\">\n",
              "  <thead>\n",
              "    <tr style=\"text-align: right;\">\n",
              "      <th></th>\n",
              "      <th>MIM</th>\n",
              "      <th>EMIM</th>\n",
              "      <th>CHI-SQUARED</th>\n",
              "      <th>DICE</th>\n",
              "    </tr>\n",
              "  </thead>\n",
              "  <tbody>\n",
              "    <tr>\n",
              "      <th>0</th>\n",
              "      <td>participativos</td>\n",
              "      <td>sobre</td>\n",
              "      <td>previdência</td>\n",
              "      <td>reforma</td>\n",
              "    </tr>\n",
              "    <tr>\n",
              "      <th>1</th>\n",
              "      <td>guedes</td>\n",
              "      <td>menos</td>\n",
              "      <td>reforma</td>\n",
              "      <td>previdência</td>\n",
              "    </tr>\n",
              "    <tr>\n",
              "      <th>2</th>\n",
              "      <td>maia</td>\n",
              "      <td>ser</td>\n",
              "      <td>mercado</td>\n",
              "      <td>mercado</td>\n",
              "    </tr>\n",
              "    <tr>\n",
              "      <th>3</th>\n",
              "      <td>aposentadoria</td>\n",
              "      <td>governo</td>\n",
              "      <td>guedes</td>\n",
              "      <td>governo</td>\n",
              "    </tr>\n",
              "    <tr>\n",
              "      <th>4</th>\n",
              "      <td>articulação</td>\n",
              "      <td>ainda</td>\n",
              "      <td>governo</td>\n",
              "      <td>ministro</td>\n",
              "    </tr>\n",
              "    <tr>\n",
              "      <th>5</th>\n",
              "      <td>emenda</td>\n",
              "      <td>presidente</td>\n",
              "      <td>menos</td>\n",
              "      <td>econômica</td>\n",
              "    </tr>\n",
              "    <tr>\n",
              "      <th>6</th>\n",
              "      <td>mercados</td>\n",
              "      <td>anos</td>\n",
              "      <td>econômica</td>\n",
              "      <td>menos</td>\n",
              "    </tr>\n",
              "    <tr>\n",
              "      <th>7</th>\n",
              "      <td>sustentável</td>\n",
              "      <td>política</td>\n",
              "      <td>política</td>\n",
              "      <td>política</td>\n",
              "    </tr>\n",
              "    <tr>\n",
              "      <th>8</th>\n",
              "      <td>presidir</td>\n",
              "      <td>outros</td>\n",
              "      <td>sobre</td>\n",
              "      <td>presidente</td>\n",
              "    </tr>\n",
              "    <tr>\n",
              "      <th>9</th>\n",
              "      <td>previdência</td>\n",
              "      <td>pode</td>\n",
              "      <td>ministro</td>\n",
              "      <td>bolsonaro</td>\n",
              "    </tr>\n",
              "  </tbody>\n",
              "</table>\n",
              "</div>"
            ],
            "text/plain": [
              "              MIM        EMIM  CHI-SQUARED         DICE\n",
              "0  participativos       sobre  previdência      reforma\n",
              "1          guedes       menos      reforma  previdência\n",
              "2            maia         ser      mercado      mercado\n",
              "3   aposentadoria     governo       guedes      governo\n",
              "4     articulação       ainda      governo     ministro\n",
              "5          emenda  presidente        menos    econômica\n",
              "6        mercados        anos    econômica        menos\n",
              "7     sustentável    política     política     política\n",
              "8        presidir      outros        sobre   presidente\n",
              "9     previdência        pode     ministro    bolsonaro"
            ]
          },
          "metadata": {
            "tags": []
          },
          "execution_count": 16
        }
      ]
    },
    {
      "cell_type": "code",
      "metadata": {
        "id": "Uamyt2sfEv1o",
        "colab_type": "code",
        "outputId": "5861a7bd-6ada-422e-e2d2-d49c644351f9",
        "colab": {
          "base_uri": "https://localhost:8080/",
          "height": 347
        }
      },
      "source": [
        "df = generate_table('brasil', inverted_index)\n",
        "df"
      ],
      "execution_count": 17,
      "outputs": [
        {
          "output_type": "execute_result",
          "data": {
            "text/html": [
              "<div>\n",
              "<style scoped>\n",
              "    .dataframe tbody tr th:only-of-type {\n",
              "        vertical-align: middle;\n",
              "    }\n",
              "\n",
              "    .dataframe tbody tr th {\n",
              "        vertical-align: top;\n",
              "    }\n",
              "\n",
              "    .dataframe thead th {\n",
              "        text-align: right;\n",
              "    }\n",
              "</style>\n",
              "<table border=\"1\" class=\"dataframe\">\n",
              "  <thead>\n",
              "    <tr style=\"text-align: right;\">\n",
              "      <th></th>\n",
              "      <th>MIM</th>\n",
              "      <th>EMIM</th>\n",
              "      <th>CHI-SQUARED</th>\n",
              "      <th>DICE</th>\n",
              "    </tr>\n",
              "  </thead>\n",
              "  <tbody>\n",
              "    <tr>\n",
              "      <th>0</th>\n",
              "      <td>participativos</td>\n",
              "      <td>sobre</td>\n",
              "      <td>bolsonaro</td>\n",
              "      <td>bolsonaro</td>\n",
              "    </tr>\n",
              "    <tr>\n",
              "      <th>1</th>\n",
              "      <td>brasileiros</td>\n",
              "      <td>ainda</td>\n",
              "      <td>ainda</td>\n",
              "      <td>ainda</td>\n",
              "    </tr>\n",
              "    <tr>\n",
              "      <th>2</th>\n",
              "      <td>pra</td>\n",
              "      <td>ser</td>\n",
              "      <td>sobre</td>\n",
              "      <td>sobre</td>\n",
              "    </tr>\n",
              "    <tr>\n",
              "      <th>3</th>\n",
              "      <td>diferenças</td>\n",
              "      <td>anos</td>\n",
              "      <td>ser</td>\n",
              "      <td>governo</td>\n",
              "    </tr>\n",
              "    <tr>\n",
              "      <th>4</th>\n",
              "      <td>planejamento</td>\n",
              "      <td>país</td>\n",
              "      <td>governo</td>\n",
              "      <td>ser</td>\n",
              "    </tr>\n",
              "    <tr>\n",
              "      <th>5</th>\n",
              "      <td>acionistas</td>\n",
              "      <td>ter</td>\n",
              "      <td>brasileiros</td>\n",
              "      <td>presidente</td>\n",
              "    </tr>\n",
              "    <tr>\n",
              "      <th>6</th>\n",
              "      <td>simbólico</td>\n",
              "      <td>governo</td>\n",
              "      <td>anos</td>\n",
              "      <td>anos</td>\n",
              "    </tr>\n",
              "    <tr>\n",
              "      <th>7</th>\n",
              "      <td>denúncia</td>\n",
              "      <td>presidente</td>\n",
              "      <td>sociais</td>\n",
              "      <td>país</td>\n",
              "    </tr>\n",
              "    <tr>\n",
              "      <th>8</th>\n",
              "      <td>grosso</td>\n",
              "      <td>bolsonaro</td>\n",
              "      <td>presidente</td>\n",
              "      <td>sociais</td>\n",
              "    </tr>\n",
              "    <tr>\n",
              "      <th>9</th>\n",
              "      <td>horizonte</td>\n",
              "      <td>outros</td>\n",
              "      <td>brasileira</td>\n",
              "      <td>outros</td>\n",
              "    </tr>\n",
              "  </tbody>\n",
              "</table>\n",
              "</div>"
            ],
            "text/plain": [
              "              MIM        EMIM  CHI-SQUARED        DICE\n",
              "0  participativos       sobre    bolsonaro   bolsonaro\n",
              "1     brasileiros       ainda        ainda       ainda\n",
              "2             pra         ser        sobre       sobre\n",
              "3      diferenças        anos          ser     governo\n",
              "4    planejamento        país      governo         ser\n",
              "5      acionistas         ter  brasileiros  presidente\n",
              "6       simbólico     governo         anos        anos\n",
              "7        denúncia  presidente      sociais        país\n",
              "8          grosso   bolsonaro   presidente     sociais\n",
              "9       horizonte      outros   brasileira      outros"
            ]
          },
          "metadata": {
            "tags": []
          },
          "execution_count": 17
        }
      ]
    },
    {
      "cell_type": "code",
      "metadata": {
        "id": "kZtGK53WE82B",
        "colab_type": "code",
        "outputId": "48333fef-762d-4507-f7f8-1ed29921497e",
        "colab": {
          "base_uri": "https://localhost:8080/",
          "height": 347
        }
      },
      "source": [
        "df = generate_table('governo', inverted_index)\n",
        "df"
      ],
      "execution_count": 18,
      "outputs": [
        {
          "output_type": "execute_result",
          "data": {
            "text/html": [
              "<div>\n",
              "<style scoped>\n",
              "    .dataframe tbody tr th:only-of-type {\n",
              "        vertical-align: middle;\n",
              "    }\n",
              "\n",
              "    .dataframe tbody tr th {\n",
              "        vertical-align: top;\n",
              "    }\n",
              "\n",
              "    .dataframe thead th {\n",
              "        text-align: right;\n",
              "    }\n",
              "</style>\n",
              "<table border=\"1\" class=\"dataframe\">\n",
              "  <thead>\n",
              "    <tr style=\"text-align: right;\">\n",
              "      <th></th>\n",
              "      <th>MIM</th>\n",
              "      <th>EMIM</th>\n",
              "      <th>CHI-SQUARED</th>\n",
              "      <th>DICE</th>\n",
              "    </tr>\n",
              "  </thead>\n",
              "  <tbody>\n",
              "    <tr>\n",
              "      <th>0</th>\n",
              "      <td>detida</td>\n",
              "      <td>sobre</td>\n",
              "      <td>presidente</td>\n",
              "      <td>presidente</td>\n",
              "    </tr>\n",
              "    <tr>\n",
              "      <th>1</th>\n",
              "      <td>guedes</td>\n",
              "      <td>país</td>\n",
              "      <td>país</td>\n",
              "      <td>país</td>\n",
              "    </tr>\n",
              "    <tr>\n",
              "      <th>2</th>\n",
              "      <td>legislativo</td>\n",
              "      <td>ser</td>\n",
              "      <td>bolsonaro</td>\n",
              "      <td>bolsonaro</td>\n",
              "    </tr>\n",
              "    <tr>\n",
              "      <th>3</th>\n",
              "      <td>desemprego</td>\n",
              "      <td>ainda</td>\n",
              "      <td>sobre</td>\n",
              "      <td>sobre</td>\n",
              "    </tr>\n",
              "    <tr>\n",
              "      <th>4</th>\n",
              "      <td>cometidos</td>\n",
              "      <td>presidente</td>\n",
              "      <td>ainda</td>\n",
              "      <td>ainda</td>\n",
              "    </tr>\n",
              "    <tr>\n",
              "      <th>5</th>\n",
              "      <td>sinais</td>\n",
              "      <td>anos</td>\n",
              "      <td>ser</td>\n",
              "      <td>parte</td>\n",
              "    </tr>\n",
              "    <tr>\n",
              "      <th>6</th>\n",
              "      <td>reformado</td>\n",
              "      <td>parte</td>\n",
              "      <td>parte</td>\n",
              "      <td>brasil</td>\n",
              "    </tr>\n",
              "    <tr>\n",
              "      <th>7</th>\n",
              "      <td>reformas</td>\n",
              "      <td>menos</td>\n",
              "      <td>brasil</td>\n",
              "      <td>ser</td>\n",
              "    </tr>\n",
              "    <tr>\n",
              "      <th>8</th>\n",
              "      <td>executivo</td>\n",
              "      <td>brasil</td>\n",
              "      <td>ministro</td>\n",
              "      <td>menos</td>\n",
              "    </tr>\n",
              "    <tr>\n",
              "      <th>9</th>\n",
              "      <td>incapaz</td>\n",
              "      <td>ter</td>\n",
              "      <td>menos</td>\n",
              "      <td>estado</td>\n",
              "    </tr>\n",
              "  </tbody>\n",
              "</table>\n",
              "</div>"
            ],
            "text/plain": [
              "           MIM        EMIM CHI-SQUARED        DICE\n",
              "0       detida       sobre  presidente  presidente\n",
              "1       guedes        país        país        país\n",
              "2  legislativo         ser   bolsonaro   bolsonaro\n",
              "3   desemprego       ainda       sobre       sobre\n",
              "4    cometidos  presidente       ainda       ainda\n",
              "5       sinais        anos         ser       parte\n",
              "6    reformado       parte       parte      brasil\n",
              "7     reformas       menos      brasil         ser\n",
              "8    executivo      brasil    ministro       menos\n",
              "9      incapaz         ter       menos      estado"
            ]
          },
          "metadata": {
            "tags": []
          },
          "execution_count": 18
        }
      ]
    },
    {
      "cell_type": "markdown",
      "metadata": {
        "id": "pmbucfcZCE6u",
        "colab_type": "text"
      },
      "source": [
        "Analisando as cinco tabelas acima, é possível afirmar que as métricas Qui-quadrado e Dice apresentaram resultados melhores em relação às outras, sendo o qui-quadrado um pouco melhor."
      ]
    },
    {
      "cell_type": "code",
      "metadata": {
        "id": "TbE1E0jyVsHt",
        "colab_type": "code",
        "colab": {}
      },
      "source": [
        "#Questão 2"
      ],
      "execution_count": 0,
      "outputs": []
    },
    {
      "cell_type": "markdown",
      "metadata": {
        "id": "82OvmgiYWZzu",
        "colab_type": "text"
      },
      "source": [
        "A query escolhida foi 'governo'. A seguir, será realizada a consulta expandida para, respectivamente, os top 3, 5 e 10 documentos de acordo com a métrica qui-quadrado"
      ]
    },
    {
      "cell_type": "code",
      "metadata": {
        "colab_type": "code",
        "id": "X2fkOzVmVicm",
        "colab": {}
      },
      "source": [
        "top3 = document_at_a_time('governo presidente país bolsonaro', inverted_index, 10)\n",
        "top5 = document_at_a_time('governo presidente país bolsonaro sobre ainda', inverted_index, 10)\n",
        "top10 = document_at_a_time('governo presidente país bolsonaro sobre ainda ser parte brasil ministro menos', inverted_index, 10)\n"
      ],
      "execution_count": 0,
      "outputs": []
    },
    {
      "cell_type": "code",
      "metadata": {
        "id": "uxllW4pLPcU2",
        "colab_type": "code",
        "colab": {}
      },
      "source": [
        "from IPython.display import display, HTML\n",
        "pd.options.display.max_colwidth = 500"
      ],
      "execution_count": 0,
      "outputs": []
    },
    {
      "cell_type": "code",
      "metadata": {
        "id": "qtXEY0v3VSnb",
        "colab_type": "code",
        "colab": {
          "base_uri": "https://localhost:8080/",
          "height": 464
        },
        "outputId": "a5e6558c-5a58-4ae8-82e6-9d94a74aad80"
      },
      "source": [
        "df = {'title': [], 'subtitle': []}\n",
        "for item in top3:\n",
        "  df['title'].append(data_title[item[1]])\n",
        "  df['subtitle'].append(data_subtitle[item[1]])\n",
        "  \n",
        "df = pd.DataFrame.from_dict(df)\n",
        "display(df)"
      ],
      "execution_count": 22,
      "outputs": [
        {
          "output_type": "display_data",
          "data": {
            "text/html": [
              "<div>\n",
              "<style scoped>\n",
              "    .dataframe tbody tr th:only-of-type {\n",
              "        vertical-align: middle;\n",
              "    }\n",
              "\n",
              "    .dataframe tbody tr th {\n",
              "        vertical-align: top;\n",
              "    }\n",
              "\n",
              "    .dataframe thead th {\n",
              "        text-align: right;\n",
              "    }\n",
              "</style>\n",
              "<table border=\"1\" class=\"dataframe\">\n",
              "  <thead>\n",
              "    <tr style=\"text-align: right;\">\n",
              "      <th></th>\n",
              "      <th>title</th>\n",
              "      <th>subtitle</th>\n",
              "    </tr>\n",
              "  </thead>\n",
              "  <tbody>\n",
              "    <tr>\n",
              "      <th>0</th>\n",
              "      <td>Mas quem é essa nova direita que ganha espaço pelo mundo?</td>\n",
              "      <td>Movimento que cresce na Europa  EUA e América Latina não se apresenta da mesma forma em todos os lugares  mas mescla em doses distintas algumas características</td>\n",
              "    </tr>\n",
              "    <tr>\n",
              "      <th>1</th>\n",
              "      <td>Socialismo ‘millennial’ nos EUA</td>\n",
              "      <td>A temida palavra ‘socialista’ já não é mais tabu entre os jovens do país. Críticos da má distribuição de oportunidades e do ‘status quo’  encontraram sua voz em Alexandria Ocasio-Cortez</td>\n",
              "    </tr>\n",
              "    <tr>\n",
              "      <th>2</th>\n",
              "      <td>Igualdade radical</td>\n",
              "      <td>Movimento feminista impõe uma nova energia democratizante</td>\n",
              "    </tr>\n",
              "    <tr>\n",
              "      <th>3</th>\n",
              "      <td>Bolsonaro escancara cadáver insepulto da ditadura com celebração do golpe</td>\n",
              "      <td>Com medida simbólica  presidente determinou que Forças Armadas façam \"comemorações devidas\" da data</td>\n",
              "    </tr>\n",
              "    <tr>\n",
              "      <th>4</th>\n",
              "      <td>Paulo Guedes cancela ida à Câmara para defender reforma da Previdência e acirra tensão com o Legislativo</td>\n",
              "      <td>Ministro da Economia ia em 'missão de paz' para explicar projeto de reforma na CCJ e tentar atenuar crise entre Governo e Rodrigo Maia. Desistência de Guedes foi criticada</td>\n",
              "    </tr>\n",
              "    <tr>\n",
              "      <th>5</th>\n",
              "      <td>Os sete tiros de fuzil do presidente</td>\n",
              "      <td>A guerra  a das armas e das ideologias  é a grama que melhor parece crescer nesse jardim sombrio do capitão reformado caçador de conflitos</td>\n",
              "    </tr>\n",
              "    <tr>\n",
              "      <th>6</th>\n",
              "      <td>“Mostre o que as loucas podem fazer”: o anúncio da Nike sobre as mulheres no esporte</td>\n",
              "      <td>Tenista norte-americana Serena Williams narra como as esportistas são vistas em momentos de tensão</td>\n",
              "    </tr>\n",
              "    <tr>\n",
              "      <th>7</th>\n",
              "      <td>Michel Temer deixa a prisão após decisão da Justiça Federal no Rio</td>\n",
              "      <td>Decisão é do desembargador Antonio Ivan Athié  do TRF-2  que também mandou soltar o ex-ministro Moreira Franco e outros seis presos na Operação Descontaminação</td>\n",
              "    </tr>\n",
              "    <tr>\n",
              "      <th>8</th>\n",
              "      <td>Estatal espanhola fica com aeroportos do Nordeste em leilão positivo para Bolsonaro</td>\n",
              "      <td>É a maior operação internacional da estatal aeroportuária espanhola  que tem 51% das ações controladas pelo Estado espanhol</td>\n",
              "    </tr>\n",
              "    <tr>\n",
              "      <th>9</th>\n",
              "      <td>Brasil leva susto  mas vence a República Tcheca de virada</td>\n",
              "      <td>Em amistoso  seleção de Tite saiu perdendo  mas Firmino e Gabriel Jesus (duas vezes) marcaram os gols da vitória por 3 a 1</td>\n",
              "    </tr>\n",
              "  </tbody>\n",
              "</table>\n",
              "</div>"
            ],
            "text/plain": [
              "                                                                                                      title                                                                                                                                                                                   subtitle\n",
              "0                                                 Mas quem é essa nova direita que ganha espaço pelo mundo?                            Movimento que cresce na Europa  EUA e América Latina não se apresenta da mesma forma em todos os lugares  mas mescla em doses distintas algumas características\n",
              "1                                                                           Socialismo ‘millennial’ nos EUA  A temida palavra ‘socialista’ já não é mais tabu entre os jovens do país. Críticos da má distribuição de oportunidades e do ‘status quo’  encontraram sua voz em Alexandria Ocasio-Cortez\n",
              "2                                                                                         Igualdade radical                                                                                                                                  Movimento feminista impõe uma nova energia democratizante\n",
              "3                                 Bolsonaro escancara cadáver insepulto da ditadura com celebração do golpe                                                                                        Com medida simbólica  presidente determinou que Forças Armadas façam \"comemorações devidas\" da data\n",
              "4  Paulo Guedes cancela ida à Câmara para defender reforma da Previdência e acirra tensão com o Legislativo                Ministro da Economia ia em 'missão de paz' para explicar projeto de reforma na CCJ e tentar atenuar crise entre Governo e Rodrigo Maia. Desistência de Guedes foi criticada\n",
              "5                                                                      Os sete tiros de fuzil do presidente                                                 A guerra  a das armas e das ideologias  é a grama que melhor parece crescer nesse jardim sombrio do capitão reformado caçador de conflitos\n",
              "6                      “Mostre o que as loucas podem fazer”: o anúncio da Nike sobre as mulheres no esporte                                                                                         Tenista norte-americana Serena Williams narra como as esportistas são vistas em momentos de tensão\n",
              "7                                        Michel Temer deixa a prisão após decisão da Justiça Federal no Rio                            Decisão é do desembargador Antonio Ivan Athié  do TRF-2  que também mandou soltar o ex-ministro Moreira Franco e outros seis presos na Operação Descontaminação\n",
              "8                       Estatal espanhola fica com aeroportos do Nordeste em leilão positivo para Bolsonaro                                                                É a maior operação internacional da estatal aeroportuária espanhola  que tem 51% das ações controladas pelo Estado espanhol\n",
              "9                                                 Brasil leva susto  mas vence a República Tcheca de virada                                                                 Em amistoso  seleção de Tite saiu perdendo  mas Firmino e Gabriel Jesus (duas vezes) marcaram os gols da vitória por 3 a 1"
            ]
          },
          "metadata": {
            "tags": []
          }
        }
      ]
    },
    {
      "cell_type": "code",
      "metadata": {
        "id": "QCvO7udlVT7F",
        "colab_type": "code",
        "colab": {
          "base_uri": "https://localhost:8080/",
          "height": 497
        },
        "outputId": "b6b5e408-4850-4396-f3eb-52e5be4af982"
      },
      "source": [
        "df = {'title': [], 'subtitle': []}\n",
        "for item in top5:\n",
        "  df['title'].append(data_title[item[1]])\n",
        "  df['subtitle'].append(data_subtitle[item[1]])\n",
        "  \n",
        "df = pd.DataFrame.from_dict(df)\n",
        "display(df)"
      ],
      "execution_count": 23,
      "outputs": [
        {
          "output_type": "display_data",
          "data": {
            "text/html": [
              "<div>\n",
              "<style scoped>\n",
              "    .dataframe tbody tr th:only-of-type {\n",
              "        vertical-align: middle;\n",
              "    }\n",
              "\n",
              "    .dataframe tbody tr th {\n",
              "        vertical-align: top;\n",
              "    }\n",
              "\n",
              "    .dataframe thead th {\n",
              "        text-align: right;\n",
              "    }\n",
              "</style>\n",
              "<table border=\"1\" class=\"dataframe\">\n",
              "  <thead>\n",
              "    <tr style=\"text-align: right;\">\n",
              "      <th></th>\n",
              "      <th>title</th>\n",
              "      <th>subtitle</th>\n",
              "    </tr>\n",
              "  </thead>\n",
              "  <tbody>\n",
              "    <tr>\n",
              "      <th>0</th>\n",
              "      <td>Socialismo ‘millennial’ nos EUA</td>\n",
              "      <td>A temida palavra ‘socialista’ já não é mais tabu entre os jovens do país. Críticos da má distribuição de oportunidades e do ‘status quo’  encontraram sua voz em Alexandria Ocasio-Cortez</td>\n",
              "    </tr>\n",
              "    <tr>\n",
              "      <th>1</th>\n",
              "      <td>Mas quem é essa nova direita que ganha espaço pelo mundo?</td>\n",
              "      <td>Movimento que cresce na Europa  EUA e América Latina não se apresenta da mesma forma em todos os lugares  mas mescla em doses distintas algumas características</td>\n",
              "    </tr>\n",
              "    <tr>\n",
              "      <th>2</th>\n",
              "      <td>Igualdade radical</td>\n",
              "      <td>Movimento feminista impõe uma nova energia democratizante</td>\n",
              "    </tr>\n",
              "    <tr>\n",
              "      <th>3</th>\n",
              "      <td>Bolsonaro escancara cadáver insepulto da ditadura com celebração do golpe</td>\n",
              "      <td>Com medida simbólica  presidente determinou que Forças Armadas façam \"comemorações devidas\" da data</td>\n",
              "    </tr>\n",
              "    <tr>\n",
              "      <th>4</th>\n",
              "      <td>Os sete tiros de fuzil do presidente</td>\n",
              "      <td>A guerra  a das armas e das ideologias  é a grama que melhor parece crescer nesse jardim sombrio do capitão reformado caçador de conflitos</td>\n",
              "    </tr>\n",
              "    <tr>\n",
              "      <th>5</th>\n",
              "      <td>Paulo Guedes cancela ida à Câmara para defender reforma da Previdência e acirra tensão com o Legislativo</td>\n",
              "      <td>Ministro da Economia ia em 'missão de paz' para explicar projeto de reforma na CCJ e tentar atenuar crise entre Governo e Rodrigo Maia. Desistência de Guedes foi criticada</td>\n",
              "    </tr>\n",
              "    <tr>\n",
              "      <th>6</th>\n",
              "      <td>Michel Temer deixa a prisão após decisão da Justiça Federal no Rio</td>\n",
              "      <td>Decisão é do desembargador Antonio Ivan Athié  do TRF-2  que também mandou soltar o ex-ministro Moreira Franco e outros seis presos na Operação Descontaminação</td>\n",
              "    </tr>\n",
              "    <tr>\n",
              "      <th>7</th>\n",
              "      <td>Moro é mais popular que Bolsonaro em Governo que segue perdendo aprovação</td>\n",
              "      <td>Atlas Político confirma tendência de queda na popularidade da gestão e do presidente e mostra índice bom/excelente numericamente atrás de regular e ruim/péssimo. 87% são a favor da prisão de Temer</td>\n",
              "    </tr>\n",
              "    <tr>\n",
              "      <th>8</th>\n",
              "      <td>Estatal espanhola fica com aeroportos do Nordeste em leilão positivo para Bolsonaro</td>\n",
              "      <td>É a maior operação internacional da estatal aeroportuária espanhola  que tem 51% das ações controladas pelo Estado espanhol</td>\n",
              "    </tr>\n",
              "    <tr>\n",
              "      <th>9</th>\n",
              "      <td>De surpresa  Trump revoga as últimas sanções impostas à Coreia do Norte</td>\n",
              "      <td>A Casa Branca contradiz o Departamento do Tesouro e justifica a decisão dizendo que “o presidente Trump simpatiza com o líder” norte-coreano</td>\n",
              "    </tr>\n",
              "  </tbody>\n",
              "</table>\n",
              "</div>"
            ],
            "text/plain": [
              "                                                                                                      title                                                                                                                                                                                              subtitle\n",
              "0                                                                           Socialismo ‘millennial’ nos EUA             A temida palavra ‘socialista’ já não é mais tabu entre os jovens do país. Críticos da má distribuição de oportunidades e do ‘status quo’  encontraram sua voz em Alexandria Ocasio-Cortez\n",
              "1                                                 Mas quem é essa nova direita que ganha espaço pelo mundo?                                       Movimento que cresce na Europa  EUA e América Latina não se apresenta da mesma forma em todos os lugares  mas mescla em doses distintas algumas características\n",
              "2                                                                                         Igualdade radical                                                                                                                                             Movimento feminista impõe uma nova energia democratizante\n",
              "3                                 Bolsonaro escancara cadáver insepulto da ditadura com celebração do golpe                                                                                                   Com medida simbólica  presidente determinou que Forças Armadas façam \"comemorações devidas\" da data\n",
              "4                                                                      Os sete tiros de fuzil do presidente                                                            A guerra  a das armas e das ideologias  é a grama que melhor parece crescer nesse jardim sombrio do capitão reformado caçador de conflitos\n",
              "5  Paulo Guedes cancela ida à Câmara para defender reforma da Previdência e acirra tensão com o Legislativo                           Ministro da Economia ia em 'missão de paz' para explicar projeto de reforma na CCJ e tentar atenuar crise entre Governo e Rodrigo Maia. Desistência de Guedes foi criticada\n",
              "6                                        Michel Temer deixa a prisão após decisão da Justiça Federal no Rio                                       Decisão é do desembargador Antonio Ivan Athié  do TRF-2  que também mandou soltar o ex-ministro Moreira Franco e outros seis presos na Operação Descontaminação\n",
              "7                                 Moro é mais popular que Bolsonaro em Governo que segue perdendo aprovação  Atlas Político confirma tendência de queda na popularidade da gestão e do presidente e mostra índice bom/excelente numericamente atrás de regular e ruim/péssimo. 87% são a favor da prisão de Temer\n",
              "8                       Estatal espanhola fica com aeroportos do Nordeste em leilão positivo para Bolsonaro                                                                           É a maior operação internacional da estatal aeroportuária espanhola  que tem 51% das ações controladas pelo Estado espanhol\n",
              "9                                   De surpresa  Trump revoga as últimas sanções impostas à Coreia do Norte                                                          A Casa Branca contradiz o Departamento do Tesouro e justifica a decisão dizendo que “o presidente Trump simpatiza com o líder” norte-coreano"
            ]
          },
          "metadata": {
            "tags": []
          }
        }
      ]
    },
    {
      "cell_type": "code",
      "metadata": {
        "id": "AN2kVOVaVVrg",
        "colab_type": "code",
        "colab": {
          "base_uri": "https://localhost:8080/",
          "height": 464
        },
        "outputId": "cf6fd88e-2304-4914-bfaf-3205213804a3"
      },
      "source": [
        "df = {'title': [], 'subtitle': []}\n",
        "for item in top10:\n",
        "  df['title'].append(data_title[item[1]])\n",
        "  df['subtitle'].append(data_subtitle[item[1]])\n",
        "  \n",
        "df = pd.DataFrame.from_dict(df)\n",
        "display(df)"
      ],
      "execution_count": 24,
      "outputs": [
        {
          "output_type": "display_data",
          "data": {
            "text/html": [
              "<div>\n",
              "<style scoped>\n",
              "    .dataframe tbody tr th:only-of-type {\n",
              "        vertical-align: middle;\n",
              "    }\n",
              "\n",
              "    .dataframe tbody tr th {\n",
              "        vertical-align: top;\n",
              "    }\n",
              "\n",
              "    .dataframe thead th {\n",
              "        text-align: right;\n",
              "    }\n",
              "</style>\n",
              "<table border=\"1\" class=\"dataframe\">\n",
              "  <thead>\n",
              "    <tr style=\"text-align: right;\">\n",
              "      <th></th>\n",
              "      <th>title</th>\n",
              "      <th>subtitle</th>\n",
              "    </tr>\n",
              "  </thead>\n",
              "  <tbody>\n",
              "    <tr>\n",
              "      <th>0</th>\n",
              "      <td>Socialismo ‘millennial’ nos EUA</td>\n",
              "      <td>A temida palavra ‘socialista’ já não é mais tabu entre os jovens do país. Críticos da má distribuição de oportunidades e do ‘status quo’  encontraram sua voz em Alexandria Ocasio-Cortez</td>\n",
              "    </tr>\n",
              "    <tr>\n",
              "      <th>1</th>\n",
              "      <td>Mas quem é essa nova direita que ganha espaço pelo mundo?</td>\n",
              "      <td>Movimento que cresce na Europa  EUA e América Latina não se apresenta da mesma forma em todos os lugares  mas mescla em doses distintas algumas características</td>\n",
              "    </tr>\n",
              "    <tr>\n",
              "      <th>2</th>\n",
              "      <td>Igualdade radical</td>\n",
              "      <td>Movimento feminista impõe uma nova energia democratizante</td>\n",
              "    </tr>\n",
              "    <tr>\n",
              "      <th>3</th>\n",
              "      <td>Os sete tiros de fuzil do presidente</td>\n",
              "      <td>A guerra  a das armas e das ideologias  é a grama que melhor parece crescer nesse jardim sombrio do capitão reformado caçador de conflitos</td>\n",
              "    </tr>\n",
              "    <tr>\n",
              "      <th>4</th>\n",
              "      <td>Bolsonaro escancara cadáver insepulto da ditadura com celebração do golpe</td>\n",
              "      <td>Com medida simbólica  presidente determinou que Forças Armadas façam \"comemorações devidas\" da data</td>\n",
              "    </tr>\n",
              "    <tr>\n",
              "      <th>5</th>\n",
              "      <td>Paulo Guedes cancela ida à Câmara para defender reforma da Previdência e acirra tensão com o Legislativo</td>\n",
              "      <td>Ministro da Economia ia em 'missão de paz' para explicar projeto de reforma na CCJ e tentar atenuar crise entre Governo e Rodrigo Maia. Desistência de Guedes foi criticada</td>\n",
              "    </tr>\n",
              "    <tr>\n",
              "      <th>6</th>\n",
              "      <td>Michel Temer deixa a prisão após decisão da Justiça Federal no Rio</td>\n",
              "      <td>Decisão é do desembargador Antonio Ivan Athié  do TRF-2  que também mandou soltar o ex-ministro Moreira Franco e outros seis presos na Operação Descontaminação</td>\n",
              "    </tr>\n",
              "    <tr>\n",
              "      <th>7</th>\n",
              "      <td>Brasil leva susto  mas vence a República Tcheca de virada</td>\n",
              "      <td>Em amistoso  seleção de Tite saiu perdendo  mas Firmino e Gabriel Jesus (duas vezes) marcaram os gols da vitória por 3 a 1</td>\n",
              "    </tr>\n",
              "    <tr>\n",
              "      <th>8</th>\n",
              "      <td>De surpresa  Trump revoga as últimas sanções impostas à Coreia do Norte</td>\n",
              "      <td>A Casa Branca contradiz o Departamento do Tesouro e justifica a decisão dizendo que “o presidente Trump simpatiza com o líder” norte-coreano</td>\n",
              "    </tr>\n",
              "    <tr>\n",
              "      <th>9</th>\n",
              "      <td>Estatal espanhola fica com aeroportos do Nordeste em leilão positivo para Bolsonaro</td>\n",
              "      <td>É a maior operação internacional da estatal aeroportuária espanhola  que tem 51% das ações controladas pelo Estado espanhol</td>\n",
              "    </tr>\n",
              "  </tbody>\n",
              "</table>\n",
              "</div>"
            ],
            "text/plain": [
              "                                                                                                      title                                                                                                                                                                                   subtitle\n",
              "0                                                                           Socialismo ‘millennial’ nos EUA  A temida palavra ‘socialista’ já não é mais tabu entre os jovens do país. Críticos da má distribuição de oportunidades e do ‘status quo’  encontraram sua voz em Alexandria Ocasio-Cortez\n",
              "1                                                 Mas quem é essa nova direita que ganha espaço pelo mundo?                            Movimento que cresce na Europa  EUA e América Latina não se apresenta da mesma forma em todos os lugares  mas mescla em doses distintas algumas características\n",
              "2                                                                                         Igualdade radical                                                                                                                                  Movimento feminista impõe uma nova energia democratizante\n",
              "3                                                                      Os sete tiros de fuzil do presidente                                                 A guerra  a das armas e das ideologias  é a grama que melhor parece crescer nesse jardim sombrio do capitão reformado caçador de conflitos\n",
              "4                                 Bolsonaro escancara cadáver insepulto da ditadura com celebração do golpe                                                                                        Com medida simbólica  presidente determinou que Forças Armadas façam \"comemorações devidas\" da data\n",
              "5  Paulo Guedes cancela ida à Câmara para defender reforma da Previdência e acirra tensão com o Legislativo                Ministro da Economia ia em 'missão de paz' para explicar projeto de reforma na CCJ e tentar atenuar crise entre Governo e Rodrigo Maia. Desistência de Guedes foi criticada\n",
              "6                                        Michel Temer deixa a prisão após decisão da Justiça Federal no Rio                            Decisão é do desembargador Antonio Ivan Athié  do TRF-2  que também mandou soltar o ex-ministro Moreira Franco e outros seis presos na Operação Descontaminação\n",
              "7                                                 Brasil leva susto  mas vence a República Tcheca de virada                                                                 Em amistoso  seleção de Tite saiu perdendo  mas Firmino e Gabriel Jesus (duas vezes) marcaram os gols da vitória por 3 a 1\n",
              "8                                   De surpresa  Trump revoga as últimas sanções impostas à Coreia do Norte                                               A Casa Branca contradiz o Departamento do Tesouro e justifica a decisão dizendo que “o presidente Trump simpatiza com o líder” norte-coreano\n",
              "9                       Estatal espanhola fica com aeroportos do Nordeste em leilão positivo para Bolsonaro                                                                É a maior operação internacional da estatal aeroportuária espanhola  que tem 51% das ações controladas pelo Estado espanhol"
            ]
          },
          "metadata": {
            "tags": []
          }
        }
      ]
    },
    {
      "cell_type": "markdown",
      "metadata": {
        "id": "44chGzl3Wl1M",
        "colab_type": "text"
      },
      "source": [
        "Observando os resultados acima, apesar de alguns documentos estarem presentes em todas as três consultas, é possível verificar uma nítida melhora nos resultdos referentes à consulta com os top 10 elementos,"
      ]
    }
  ]
}