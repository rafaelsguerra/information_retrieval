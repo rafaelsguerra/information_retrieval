{
  "nbformat": 4,
  "nbformat_minor": 0,
  "metadata": {
    "colab": {
      "name": "Indexação e Processamento de Consulta",
      "version": "0.3.2",
      "provenance": [],
      "collapsed_sections": []
    },
    "kernelspec": {
      "name": "python3",
      "display_name": "Python 3"
    }
  },
  "cells": [
    {
      "cell_type": "code",
      "metadata": {
        "id": "31_NqGDg2VDQ",
        "colab_type": "code",
        "outputId": "7ed0b2a3-c2dc-4dfa-c243-b4f136627eac",
        "colab": {
          "base_uri": "https://localhost:8080/",
          "height": 70
        }
      },
      "source": [
        "import collections\n",
        "import pandas as pd\n",
        "import matplotlib.pyplot as plt\n",
        "import numpy as np\n",
        "import re\n",
        "import seaborn as sns\n",
        "import nltk\n",
        "import heapq\n",
        "import time\n",
        "\n",
        "from nltk.tokenize import RegexpTokenizer\n",
        "from nltk.corpus import stopwords\n",
        "nltk.download('stopwords')"
      ],
      "execution_count": 0,
      "outputs": [
        {
          "output_type": "stream",
          "text": [
            "[nltk_data] Downloading package stopwords to /root/nltk_data...\n",
            "[nltk_data]   Package stopwords is already up-to-date!\n"
          ],
          "name": "stdout"
        },
        {
          "output_type": "execute_result",
          "data": {
            "text/plain": [
              "True"
            ]
          },
          "metadata": {
            "tags": []
          },
          "execution_count": 53
        }
      ]
    },
    {
      "cell_type": "code",
      "metadata": {
        "id": "44yb9O7P4hKh",
        "colab_type": "code",
        "colab": {}
      },
      "source": [
        "data = pd.read_csv('https://raw.githubusercontent.com/rafaelsguerra/information_retrieval/master/lab02/results.csv?token=AEGSL3ECKRA2WO4RA4CWPEC44SMKW')"
      ],
      "execution_count": 0,
      "outputs": []
    },
    {
      "cell_type": "code",
      "metadata": {
        "id": "LzF8HAGZ-k8D",
        "colab_type": "code",
        "colab": {}
      },
      "source": [
        "data_text = data['text'].tolist()"
      ],
      "execution_count": 0,
      "outputs": []
    },
    {
      "cell_type": "code",
      "metadata": {
        "id": "oTn27C-c9MVZ",
        "colab_type": "code",
        "colab": {}
      },
      "source": [
        "# Para a estratégia de tokenização, foi optado incluir números palavras compostas por hífen (sexta-feira é considerada como uma só palavra).\n",
        "# Ainda como parte da estratégia, foi decidido retirar stopwords e palavras com tamanho 2 ou maior.\n",
        "# Todas as palavras estão escritas em caixa baixa.\n",
        "\n",
        "def parse(document):  \n",
        "  tokenizer = RegexpTokenizer(r'\\b[A-zÀ-ú\\d\\-\\']+') \n",
        "  tokens = []\n",
        "\n",
        "  tokens.extend(tokenizer.tokenize(document.lower()))\n",
        "    \n",
        "  stop_words = stopwords.words('portuguese')\n",
        "\n",
        "  filtered_tokens = []\n",
        "\n",
        "  for token in tokens:\n",
        "    if token not in stop_words  and len(token) >= 2: # and len(token) > 2\n",
        "      filtered_tokens.append(token)\n",
        "  \n",
        "  return filtered_tokens"
      ],
      "execution_count": 0,
      "outputs": []
    },
    {
      "cell_type": "code",
      "metadata": {
        "id": "MNWp_lqm9dZ7",
        "colab_type": "code",
        "colab": {}
      },
      "source": [
        "def build_index(data):\n",
        "  inverted_list = {}\n",
        "  n = 0\n",
        "  \n",
        "  for document in data:\n",
        "    n = n + 1\n",
        "    tokens = parse(document)\n",
        "    \n",
        "    tokens_no_duplicates = collections.Counter(tokens)\n",
        "    \n",
        "    for token in tokens_no_duplicates.keys():\n",
        "      if token not in inverted_list:\n",
        "        inverted_list[token] = []\n",
        "      inverted_list[token].append((n, tokens_no_duplicates[token]))\n",
        "    \n",
        "  return inverted_list\n"
      ],
      "execution_count": 0,
      "outputs": []
    },
    {
      "cell_type": "code",
      "metadata": {
        "id": "c6d9u-wH-1aZ",
        "colab_type": "code",
        "colab": {}
      },
      "source": [
        "inverted_index = build_index(data_text)"
      ],
      "execution_count": 0,
      "outputs": []
    },
    {
      "cell_type": "code",
      "metadata": {
        "id": "X8eG0e2xG5tC",
        "colab_type": "code",
        "colab": {}
      },
      "source": [
        "def document_at_a_time(query, inverted_index, k):\n",
        "  inverted_lists = {}\n",
        "  r = []\n",
        "  \n",
        "  for word in query.split(\" \"):\n",
        "    if word in inverted_index.keys():\n",
        "      inverted_lists[word] = inverted_index[word]\n",
        "      \n",
        "  documents = list(range(1, len(data.url) + 1))\n",
        "  \n",
        "  for document in documents:\n",
        "    score = 0\n",
        "    \n",
        "    for key in inverted_lists.keys():\n",
        "      for tuple in inverted_lists[key]:\n",
        "        if tuple[0] == document:\n",
        "          score += tuple[1]\n",
        "          break\n",
        "        \n",
        "    if score != 0:\n",
        "      heapq.heappush(r, (score, document))\n",
        "      \n",
        "  return heapq.nlargest(k, r)   \n",
        "  \n",
        "    "
      ],
      "execution_count": 0,
      "outputs": []
    },
    {
      "cell_type": "code",
      "metadata": {
        "id": "u9x-N9i_BCfC",
        "colab_type": "code",
        "colab": {}
      },
      "source": [
        "def term_at_a_time(query, inverted_index, k):\n",
        "  accumulators = {}\n",
        "  inverted_lists = {}\n",
        "  r = []\n",
        "  \n",
        "  for word in query.split(\" \"):\n",
        "    if word in inverted_index.keys():\n",
        "      inverted_lists[word] = inverted_index[word]\n",
        "      \n",
        "  for key in inverted_lists.keys():\n",
        "    for tuple in inverted_lists[key]:\n",
        "      document = tuple[0]\n",
        "      freq = tuple[1]\n",
        "      if document in accumulators.keys():\n",
        "        accumulators[document] += freq\n",
        "      else:\n",
        "        accumulators[document] = freq\n",
        "        \n",
        "  for tuple in accumulators.items():\n",
        "    score = tuple[1]\n",
        "    heapq.heappush(r, (score, tuple[0]))\n",
        "    \n",
        "  return heapq.nlargest(k, r)"
      ],
      "execution_count": 0,
      "outputs": []
    },
    {
      "cell_type": "code",
      "metadata": {
        "id": "L8Re-fvkSlOJ",
        "colab_type": "code",
        "colab": {}
      },
      "source": [
        "def query_results(queries):\n",
        "  results_document = []\n",
        "  results_term = []\n",
        "  time_results_document = []\n",
        "  time_results_term = []\n",
        "  k = 10\n",
        "\n",
        "  for query in queries:\n",
        "    init_document = time.time()\n",
        "    result_document = document_at_a_time(query, inverted_index, k)\n",
        "    end_document = time.time()\n",
        "    results_document.append(result_document)\n",
        "    time_results_document.append(end_document - init_document)\n",
        "  \n",
        "    init_term = time.time()\n",
        "    result_term = term_at_a_time(query, inverted_index, k)\n",
        "    end_term = time.time()\n",
        "    results_term.append(result_term)\n",
        "    time_results_term.append(end_term - init_term)\n",
        "\n",
        "  queries_df = pd.DataFrame()\n",
        "  queries_df['query'] = queries\n",
        "  queries_df['document_at_a_time'] = results_document\n",
        "  queries_df['term_at_a_time'] = results_term\n",
        "  queries_df['compare'] = queries_df.document_at_a_time == queries_df.term_at_a_time\n",
        "  queries_df['tempo_médio_document_at_a_time'] = time_results_document\n",
        "  queries_df['tempo_médio_term_at_a_time'] = time_results_term\n",
        "  \n",
        "  return queries_df"
      ],
      "execution_count": 0,
      "outputs": []
    },
    {
      "cell_type": "code",
      "metadata": {
        "id": "gdJatd7LFEWJ",
        "colab_type": "code",
        "outputId": "49641518-2100-4a0e-beb6-95cc4c3516d3",
        "colab": {
          "base_uri": "https://localhost:8080/",
          "height": 197
        }
      },
      "source": [
        "queries = [\"bolsonaro\", \"corrupção\", \"economia\", \"brasil\", \"governo\"]\n",
        "df = query_results(queries)\n",
        "\n",
        "df"
      ],
      "execution_count": 0,
      "outputs": [
        {
          "output_type": "execute_result",
          "data": {
            "text/html": [
              "<div>\n",
              "<style scoped>\n",
              "    .dataframe tbody tr th:only-of-type {\n",
              "        vertical-align: middle;\n",
              "    }\n",
              "\n",
              "    .dataframe tbody tr th {\n",
              "        vertical-align: top;\n",
              "    }\n",
              "\n",
              "    .dataframe thead th {\n",
              "        text-align: right;\n",
              "    }\n",
              "</style>\n",
              "<table border=\"1\" class=\"dataframe\">\n",
              "  <thead>\n",
              "    <tr style=\"text-align: right;\">\n",
              "      <th></th>\n",
              "      <th>query</th>\n",
              "      <th>document_at_a_time</th>\n",
              "      <th>term_at_a_time</th>\n",
              "      <th>compare</th>\n",
              "      <th>tempo_médio_document_at_a_time</th>\n",
              "      <th>tempo_médio_term_at_a_time</th>\n",
              "    </tr>\n",
              "  </thead>\n",
              "  <tbody>\n",
              "    <tr>\n",
              "      <th>0</th>\n",
              "      <td>bolsonaro</td>\n",
              "      <td>[(46, 151), (37, 166), (35, 207), (26, 19), (1...</td>\n",
              "      <td>[(46, 151), (37, 166), (35, 207), (26, 19), (1...</td>\n",
              "      <td>True</td>\n",
              "      <td>0.001195</td>\n",
              "      <td>0.000101</td>\n",
              "    </tr>\n",
              "    <tr>\n",
              "      <th>1</th>\n",
              "      <td>corrupção</td>\n",
              "      <td>[(7, 171), (4, 204), (3, 207), (3, 144), (3, 8...</td>\n",
              "      <td>[(7, 171), (4, 204), (3, 207), (3, 144), (3, 8...</td>\n",
              "      <td>True</td>\n",
              "      <td>0.000425</td>\n",
              "      <td>0.000030</td>\n",
              "    </tr>\n",
              "    <tr>\n",
              "      <th>2</th>\n",
              "      <td>economia</td>\n",
              "      <td>[(10, 138), (8, 125), (6, 127), (6, 69), (6, 3...</td>\n",
              "      <td>[(10, 138), (8, 125), (6, 127), (6, 69), (6, 3...</td>\n",
              "      <td>True</td>\n",
              "      <td>0.000840</td>\n",
              "      <td>0.000062</td>\n",
              "    </tr>\n",
              "    <tr>\n",
              "      <th>3</th>\n",
              "      <td>brasil</td>\n",
              "      <td>[(47, 151), (15, 166), (11, 19), (10, 26), (9,...</td>\n",
              "      <td>[(47, 151), (15, 166), (11, 19), (10, 26), (9,...</td>\n",
              "      <td>True</td>\n",
              "      <td>0.001878</td>\n",
              "      <td>0.000125</td>\n",
              "    </tr>\n",
              "    <tr>\n",
              "      <th>4</th>\n",
              "      <td>governo</td>\n",
              "      <td>[(15, 173), (13, 166), (10, 248), (10, 115), (...</td>\n",
              "      <td>[(15, 173), (13, 166), (10, 248), (10, 115), (...</td>\n",
              "      <td>True</td>\n",
              "      <td>0.001697</td>\n",
              "      <td>0.000124</td>\n",
              "    </tr>\n",
              "  </tbody>\n",
              "</table>\n",
              "</div>"
            ],
            "text/plain": [
              "       query  ... tempo_médio_term_at_a_time\n",
              "0  bolsonaro  ...                   0.000101\n",
              "1  corrupção  ...                   0.000030\n",
              "2   economia  ...                   0.000062\n",
              "3     brasil  ...                   0.000125\n",
              "4    governo  ...                   0.000124\n",
              "\n",
              "[5 rows x 6 columns]"
            ]
          },
          "metadata": {
            "tags": []
          },
          "execution_count": 67
        }
      ]
    },
    {
      "cell_type": "markdown",
      "metadata": {
        "id": "_BZgXIH6IyxI",
        "colab_type": "text"
      },
      "source": [
        "Descrição das colunas do dataframe:\n",
        "\n",
        "\n",
        "*   **query**: o termo na busca\n",
        "*   **document_at_a_time**: lista com os scores e documentos da busca utilizando o algoritmo document_at_a_time\n",
        "*   **term_at_a_time**: lista com os scores e documentos da busca utilizando o algoritmo term_at_a_time\n",
        "*   **compare**: contém ```True``` se os resultados dos dois algoritmos forem iguais\n",
        "*   **mean_time_document_at_a_time**: tempo médio que o algoritmo document_at_a_time levou para processar a busca\n",
        "*   **mean_time_term_at_a_time**: tempo médio que o algoritmo term_at_a_time levou para processar a busca"
      ]
    },
    {
      "cell_type": "code",
      "metadata": {
        "id": "OF4tFYimHCRF",
        "colab_type": "code",
        "colab": {}
      },
      "source": [
        "def document_at_a_time_conjunctive(query, inverted_index, k):\n",
        "  inverted_lists = {}\n",
        "  r = []\n",
        "  \n",
        "  for word in query.split(\" \"):\n",
        "    if word in inverted_index.keys():\n",
        "       inverted_lists[word] = inverted_index[word]\n",
        "        \n",
        "  first_key = list(inverted_lists.keys())[0]\n",
        "   \n",
        "  for post in inverted_lists[first_key]:\n",
        "    score = 0\n",
        "    document = -1\n",
        "    \n",
        "    for inverted_list in inverted_lists.values():\n",
        "      if post in inverted_list:\n",
        "        document = post[0]\n",
        "        score += post[1]\n",
        "      else:\n",
        "        document = -1\n",
        "        break\n",
        "    \n",
        "    if (document > -1):\n",
        "      if (score != 0):\n",
        "        heapq.heappush(r, (score, document))\n",
        "        \n",
        "  return heapq.nlargest(k, r)"
      ],
      "execution_count": 0,
      "outputs": []
    },
    {
      "cell_type": "code",
      "metadata": {
        "id": "_yfzaUBhWZvv",
        "colab_type": "code",
        "outputId": "ceb56cd4-5ddb-4c81-8279-99f26f2e4007",
        "colab": {
          "base_uri": "https://localhost:8080/",
          "height": 197
        }
      },
      "source": [
        "results_document = []\n",
        "results_term = []\n",
        "k = 10\n",
        "\n",
        "queries = [\"bolsonaro corrupção\", \"governo federal\", \"futebol brasil\", \"política mulheres\", \"tempo hoje\"]\n",
        "\n",
        "for query in queries:\n",
        "  result_document = document_at_a_time_conjunctive(query, inverted_index, k)\n",
        "  results_document.append(result_document)\n",
        "\n",
        "queries_df = pd.DataFrame()\n",
        "queries_df['query'] = queries\n",
        "queries_df['document_at_a_time_conjunctive'] = results_document\n",
        "  \n",
        "queries_df"
      ],
      "execution_count": 0,
      "outputs": [
        {
          "output_type": "execute_result",
          "data": {
            "text/html": [
              "<div>\n",
              "<style scoped>\n",
              "    .dataframe tbody tr th:only-of-type {\n",
              "        vertical-align: middle;\n",
              "    }\n",
              "\n",
              "    .dataframe tbody tr th {\n",
              "        vertical-align: top;\n",
              "    }\n",
              "\n",
              "    .dataframe thead th {\n",
              "        text-align: right;\n",
              "    }\n",
              "</style>\n",
              "<table border=\"1\" class=\"dataframe\">\n",
              "  <thead>\n",
              "    <tr style=\"text-align: right;\">\n",
              "      <th></th>\n",
              "      <th>query</th>\n",
              "      <th>document_at_a_time_conjunctive</th>\n",
              "    </tr>\n",
              "  </thead>\n",
              "  <tbody>\n",
              "    <tr>\n",
              "      <th>0</th>\n",
              "      <td>bolsonaro corrupção</td>\n",
              "      <td>[(2, 210), (2, 7)]</td>\n",
              "    </tr>\n",
              "    <tr>\n",
              "      <th>1</th>\n",
              "      <td>governo federal</td>\n",
              "      <td>[(4, 213), (4, 203), (2, 223), (2, 126), (2, 3...</td>\n",
              "    </tr>\n",
              "    <tr>\n",
              "      <th>2</th>\n",
              "      <td>futebol brasil</td>\n",
              "      <td>[(4, 121), (4, 76)]</td>\n",
              "    </tr>\n",
              "    <tr>\n",
              "      <th>3</th>\n",
              "      <td>política mulheres</td>\n",
              "      <td>[(2, 113), (2, 66), (2, 25)]</td>\n",
              "    </tr>\n",
              "    <tr>\n",
              "      <th>4</th>\n",
              "      <td>tempo hoje</td>\n",
              "      <td>[(4, 229), (4, 203), (4, 195), (4, 156), (4, 1...</td>\n",
              "    </tr>\n",
              "  </tbody>\n",
              "</table>\n",
              "</div>"
            ],
            "text/plain": [
              "                 query                     document_at_a_time_conjunctive\n",
              "0  bolsonaro corrupção                                 [(2, 210), (2, 7)]\n",
              "1      governo federal  [(4, 213), (4, 203), (2, 223), (2, 126), (2, 3...\n",
              "2       futebol brasil                                [(4, 121), (4, 76)]\n",
              "3    política mulheres                       [(2, 113), (2, 66), (2, 25)]\n",
              "4           tempo hoje  [(4, 229), (4, 203), (4, 195), (4, 156), (4, 1..."
            ]
          },
          "metadata": {
            "tags": []
          },
          "execution_count": 71
        }
      ]
    }
  ]
}