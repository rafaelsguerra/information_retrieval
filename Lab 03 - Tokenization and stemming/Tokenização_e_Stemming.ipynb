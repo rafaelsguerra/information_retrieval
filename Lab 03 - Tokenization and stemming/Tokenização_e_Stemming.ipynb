{
  "nbformat": 4,
  "nbformat_minor": 0,
  "metadata": {
    "colab": {
      "name": "Tokenização e Stemming.ipynb",
      "version": "0.3.2",
      "provenance": [],
      "collapsed_sections": []
    },
    "kernelspec": {
      "name": "python3",
      "display_name": "Python 3"
    }
  },
  "cells": [
    {
      "cell_type": "code",
      "metadata": {
        "id": "4zO_dVM2bnZ4",
        "colab_type": "code",
        "outputId": "62c0db0c-322c-48ce-dd00-cac07c52dcc9",
        "colab": {
          "base_uri": "https://localhost:8080/",
          "height": 70
        }
      },
      "source": [
        "import collections\n",
        "import pandas as pd\n",
        "import matplotlib.pyplot as plt\n",
        "import numpy as np\n",
        "import re\n",
        "import seaborn as sns\n",
        "import nltk\n",
        "\n",
        "from nltk.tokenize import RegexpTokenizer\n",
        "\n",
        "from nltk.corpus import stopwords\n",
        "nltk.download('stopwords')"
      ],
      "execution_count": 0,
      "outputs": [
        {
          "output_type": "stream",
          "text": [
            "[nltk_data] Downloading package stopwords to /root/nltk_data...\n",
            "[nltk_data]   Package stopwords is already up-to-date!\n"
          ],
          "name": "stdout"
        },
        {
          "output_type": "execute_result",
          "data": {
            "text/plain": [
              "True"
            ]
          },
          "metadata": {
            "tags": []
          },
          "execution_count": 1
        }
      ]
    },
    {
      "cell_type": "code",
      "metadata": {
        "id": "basqPBCwtfHq",
        "colab_type": "code",
        "colab": {}
      },
      "source": [
        "data = pd.read_csv('https://raw.githubusercontent.com/rafaelsguerra/information_retrieval/master/lab02/results.csv?token=AEGSL3DCLQXO62I7AAHDPD24Y5VZC')"
      ],
      "execution_count": 0,
      "outputs": []
    },
    {
      "cell_type": "code",
      "metadata": {
        "id": "h665K6Qddroe",
        "colab_type": "code",
        "colab": {}
      },
      "source": [
        "# Para a estratégia de tokenização, foi optado incluir números palavras compostas por hífen (sexta-feira é considerada como uma só palavra).\n",
        "\n",
        "tokenizer = RegexpTokenizer(r'\\b[A-zÀ-ú\\d\\-\\']+') \n",
        "tokens = []\n",
        "\n",
        "for document in data['text']:\n",
        "  tokens.extend(tokenizer.tokenize(document.lower())) "
      ],
      "execution_count": 0,
      "outputs": []
    },
    {
      "cell_type": "code",
      "metadata": {
        "id": "YjV7rjBawsQ-",
        "colab_type": "code",
        "colab": {}
      },
      "source": [
        "# Ainda como parte da estratégia, foi decidido retirar stopwords e palavras com tamanho 2 ou maior.\n",
        "# Todas as palavras estão escritas em caixa baixa.\n",
        "\n",
        "stopwords = stopwords.words('portuguese')\n",
        "\n",
        "filtered_tokens = []\n",
        "\n",
        "for token in tokens:\n",
        "  if token not in stopwords  and len(token) >= 2: # and len(token) > 2\n",
        "    filtered_tokens.append(token)\n"
      ],
      "execution_count": 0,
      "outputs": []
    },
    {
      "cell_type": "code",
      "metadata": {
        "id": "x7cgLcu-eGLu",
        "colab_type": "code",
        "colab": {}
      },
      "source": [
        "c = collections.Counter(filtered_tokens)"
      ],
      "execution_count": 0,
      "outputs": []
    },
    {
      "cell_type": "code",
      "metadata": {
        "id": "Arjn7H90hkSo",
        "colab_type": "code",
        "colab": {}
      },
      "source": [
        "count_more_than_1000 = 0\n",
        "\n",
        "values = sorted(c.values())\n",
        "\n",
        "for value in reversed(values):\n",
        "    if value >= 1000:\n",
        "        count_more_than_1000 += 1\n",
        "    else:\n",
        "        break"
      ],
      "execution_count": 0,
      "outputs": []
    },
    {
      "cell_type": "code",
      "metadata": {
        "id": "9oaiMnE8rWnf",
        "colab_type": "code",
        "colab": {}
      },
      "source": [
        "count_once = 0\n",
        "\n",
        "for value in values:\n",
        "    if value <= 1:\n",
        "        count_once += 1\n",
        "    else:\n",
        "        break"
      ],
      "execution_count": 0,
      "outputs": []
    },
    {
      "cell_type": "code",
      "metadata": {
        "id": "0Cq2oTPkUWKP",
        "colab_type": "code",
        "colab": {}
      },
      "source": [
        "total_documents = data['text'].size\n",
        "total_word_occurrencies = sum(c.values())\n",
        "vocabulary_size = len(c.keys())"
      ],
      "execution_count": 0,
      "outputs": []
    },
    {
      "cell_type": "code",
      "metadata": {
        "id": "5rUTq1-EWqc8",
        "colab_type": "code",
        "outputId": "014eded2-5ef3-439e-91a8-0a5302bf0ed2",
        "colab": {
          "base_uri": "https://localhost:8080/",
          "height": 105
        }
      },
      "source": [
        "print(\"Total documents:                            \" + str(total_documents) + \"\\n\" + \n",
        "      \"Total word occurencies:                     \" + str(total_word_occurrencies) + \"\\n\" +\n",
        "      \"Vocabulary size:                            \" + str(vocabulary_size) + \"\\n\" + \n",
        "      \"Words occurring more than 1000 times:       \" + str(count_more_than_1000) + \"\\n\" +\n",
        "      \"Words occurring once:                       \" + str(count_once))"
      ],
      "execution_count": 0,
      "outputs": [
        {
          "output_type": "stream",
          "text": [
            "Total documents:                            249\n",
            "Total word occurencies:                     119474\n",
            "Vocabulary size:                            23360\n",
            "Words occurring more than 1000 times:       0\n",
            "Words occurring once:                       11777\n"
          ],
          "name": "stdout"
        }
      ]
    },
    {
      "cell_type": "code",
      "metadata": {
        "id": "_G3EzFYzXH-6",
        "colab_type": "code",
        "outputId": "614fdbf5-fde6-4a8f-d5a3-c0f81bab18ac",
        "colab": {
          "base_uri": "https://localhost:8080/",
          "height": 1547
        }
      },
      "source": [
        "results = []\n",
        "\n",
        "for i in range(len(c.most_common(50))):\n",
        "    results.append((c.most_common(50)[i][0], c.most_common(50)[i][1], i + 1))\n",
        "\n",
        "labels = ['Word', 'Freq', 'Rank']\n",
        "df = pd.DataFrame.from_records(data = results, columns=labels)\n",
        "df['Pr(%)'] = df.Freq / total_word_occurrencies\n",
        "df['r*Pr'] = df.Rank * df['Pr(%)']\n",
        "df"
      ],
      "execution_count": 0,
      "outputs": [
        {
          "output_type": "execute_result",
          "data": {
            "text/html": [
              "<div>\n",
              "<style scoped>\n",
              "    .dataframe tbody tr th:only-of-type {\n",
              "        vertical-align: middle;\n",
              "    }\n",
              "\n",
              "    .dataframe tbody tr th {\n",
              "        vertical-align: top;\n",
              "    }\n",
              "\n",
              "    .dataframe thead th {\n",
              "        text-align: right;\n",
              "    }\n",
              "</style>\n",
              "<table border=\"1\" class=\"dataframe\">\n",
              "  <thead>\n",
              "    <tr style=\"text-align: right;\">\n",
              "      <th></th>\n",
              "      <th>Word</th>\n",
              "      <th>Freq</th>\n",
              "      <th>Rank</th>\n",
              "      <th>Pr(%)</th>\n",
              "      <th>r*Pr</th>\n",
              "    </tr>\n",
              "  </thead>\n",
              "  <tbody>\n",
              "    <tr>\n",
              "      <th>0</th>\n",
              "      <td>anos</td>\n",
              "      <td>584</td>\n",
              "      <td>1</td>\n",
              "      <td>0.004888</td>\n",
              "      <td>0.004888</td>\n",
              "    </tr>\n",
              "    <tr>\n",
              "      <th>1</th>\n",
              "      <td>ser</td>\n",
              "      <td>504</td>\n",
              "      <td>2</td>\n",
              "      <td>0.004218</td>\n",
              "      <td>0.008437</td>\n",
              "    </tr>\n",
              "    <tr>\n",
              "      <th>2</th>\n",
              "      <td>sobre</td>\n",
              "      <td>426</td>\n",
              "      <td>3</td>\n",
              "      <td>0.003566</td>\n",
              "      <td>0.010697</td>\n",
              "    </tr>\n",
              "    <tr>\n",
              "      <th>3</th>\n",
              "      <td>bolsonaro</td>\n",
              "      <td>372</td>\n",
              "      <td>4</td>\n",
              "      <td>0.003114</td>\n",
              "      <td>0.012455</td>\n",
              "    </tr>\n",
              "    <tr>\n",
              "      <th>4</th>\n",
              "      <td>presidente</td>\n",
              "      <td>370</td>\n",
              "      <td>5</td>\n",
              "      <td>0.003097</td>\n",
              "      <td>0.015485</td>\n",
              "    </tr>\n",
              "    <tr>\n",
              "      <th>5</th>\n",
              "      <td>governo</td>\n",
              "      <td>352</td>\n",
              "      <td>6</td>\n",
              "      <td>0.002946</td>\n",
              "      <td>0.017677</td>\n",
              "    </tr>\n",
              "    <tr>\n",
              "      <th>6</th>\n",
              "      <td>país</td>\n",
              "      <td>339</td>\n",
              "      <td>7</td>\n",
              "      <td>0.002837</td>\n",
              "      <td>0.019862</td>\n",
              "    </tr>\n",
              "    <tr>\n",
              "      <th>7</th>\n",
              "      <td>ainda</td>\n",
              "      <td>337</td>\n",
              "      <td>8</td>\n",
              "      <td>0.002821</td>\n",
              "      <td>0.022566</td>\n",
              "    </tr>\n",
              "    <tr>\n",
              "      <th>8</th>\n",
              "      <td>brasil</td>\n",
              "      <td>332</td>\n",
              "      <td>9</td>\n",
              "      <td>0.002779</td>\n",
              "      <td>0.025010</td>\n",
              "    </tr>\n",
              "    <tr>\n",
              "      <th>9</th>\n",
              "      <td>ter</td>\n",
              "      <td>256</td>\n",
              "      <td>10</td>\n",
              "      <td>0.002143</td>\n",
              "      <td>0.021427</td>\n",
              "    </tr>\n",
              "    <tr>\n",
              "      <th>10</th>\n",
              "      <td>porque</td>\n",
              "      <td>242</td>\n",
              "      <td>11</td>\n",
              "      <td>0.002026</td>\n",
              "      <td>0.022281</td>\n",
              "    </tr>\n",
              "    <tr>\n",
              "      <th>11</th>\n",
              "      <td>pessoas</td>\n",
              "      <td>239</td>\n",
              "      <td>12</td>\n",
              "      <td>0.002000</td>\n",
              "      <td>0.024005</td>\n",
              "    </tr>\n",
              "    <tr>\n",
              "      <th>12</th>\n",
              "      <td>contra</td>\n",
              "      <td>236</td>\n",
              "      <td>13</td>\n",
              "      <td>0.001975</td>\n",
              "      <td>0.025679</td>\n",
              "    </tr>\n",
              "    <tr>\n",
              "      <th>13</th>\n",
              "      <td>dois</td>\n",
              "      <td>232</td>\n",
              "      <td>14</td>\n",
              "      <td>0.001942</td>\n",
              "      <td>0.027186</td>\n",
              "    </tr>\n",
              "    <tr>\n",
              "      <th>14</th>\n",
              "      <td>segundo</td>\n",
              "      <td>231</td>\n",
              "      <td>15</td>\n",
              "      <td>0.001933</td>\n",
              "      <td>0.029002</td>\n",
              "    </tr>\n",
              "    <tr>\n",
              "      <th>15</th>\n",
              "      <td>diz</td>\n",
              "      <td>215</td>\n",
              "      <td>16</td>\n",
              "      <td>0.001800</td>\n",
              "      <td>0.028793</td>\n",
              "    </tr>\n",
              "    <tr>\n",
              "      <th>16</th>\n",
              "      <td>onde</td>\n",
              "      <td>214</td>\n",
              "      <td>17</td>\n",
              "      <td>0.001791</td>\n",
              "      <td>0.030450</td>\n",
              "    </tr>\n",
              "    <tr>\n",
              "      <th>17</th>\n",
              "      <td>todos</td>\n",
              "      <td>213</td>\n",
              "      <td>18</td>\n",
              "      <td>0.001783</td>\n",
              "      <td>0.032091</td>\n",
              "    </tr>\n",
              "    <tr>\n",
              "      <th>18</th>\n",
              "      <td>ano</td>\n",
              "      <td>212</td>\n",
              "      <td>19</td>\n",
              "      <td>0.001774</td>\n",
              "      <td>0.033714</td>\n",
              "    </tr>\n",
              "    <tr>\n",
              "      <th>19</th>\n",
              "      <td>pode</td>\n",
              "      <td>209</td>\n",
              "      <td>20</td>\n",
              "      <td>0.001749</td>\n",
              "      <td>0.034987</td>\n",
              "    </tr>\n",
              "    <tr>\n",
              "      <th>20</th>\n",
              "      <td>vez</td>\n",
              "      <td>203</td>\n",
              "      <td>21</td>\n",
              "      <td>0.001699</td>\n",
              "      <td>0.035681</td>\n",
              "    </tr>\n",
              "    <tr>\n",
              "      <th>21</th>\n",
              "      <td>desde</td>\n",
              "      <td>197</td>\n",
              "      <td>22</td>\n",
              "      <td>0.001649</td>\n",
              "      <td>0.036276</td>\n",
              "    </tr>\n",
              "    <tr>\n",
              "      <th>22</th>\n",
              "      <td>parte</td>\n",
              "      <td>195</td>\n",
              "      <td>23</td>\n",
              "      <td>0.001632</td>\n",
              "      <td>0.037540</td>\n",
              "    </tr>\n",
              "    <tr>\n",
              "      <th>23</th>\n",
              "      <td>mundo</td>\n",
              "      <td>194</td>\n",
              "      <td>24</td>\n",
              "      <td>0.001624</td>\n",
              "      <td>0.038971</td>\n",
              "    </tr>\n",
              "    <tr>\n",
              "      <th>24</th>\n",
              "      <td>mulheres</td>\n",
              "      <td>194</td>\n",
              "      <td>25</td>\n",
              "      <td>0.001624</td>\n",
              "      <td>0.040595</td>\n",
              "    </tr>\n",
              "    <tr>\n",
              "      <th>25</th>\n",
              "      <td>tempo</td>\n",
              "      <td>191</td>\n",
              "      <td>26</td>\n",
              "      <td>0.001599</td>\n",
              "      <td>0.041566</td>\n",
              "    </tr>\n",
              "    <tr>\n",
              "      <th>26</th>\n",
              "      <td>fazer</td>\n",
              "      <td>191</td>\n",
              "      <td>27</td>\n",
              "      <td>0.001599</td>\n",
              "      <td>0.043164</td>\n",
              "    </tr>\n",
              "    <tr>\n",
              "      <th>27</th>\n",
              "      <td>antes</td>\n",
              "      <td>190</td>\n",
              "      <td>28</td>\n",
              "      <td>0.001590</td>\n",
              "      <td>0.044529</td>\n",
              "    </tr>\n",
              "    <tr>\n",
              "      <th>28</th>\n",
              "      <td>durante</td>\n",
              "      <td>189</td>\n",
              "      <td>29</td>\n",
              "      <td>0.001582</td>\n",
              "      <td>0.045876</td>\n",
              "    </tr>\n",
              "    <tr>\n",
              "      <th>29</th>\n",
              "      <td>reais</td>\n",
              "      <td>188</td>\n",
              "      <td>30</td>\n",
              "      <td>0.001574</td>\n",
              "      <td>0.047207</td>\n",
              "    </tr>\n",
              "    <tr>\n",
              "      <th>30</th>\n",
              "      <td>menos</td>\n",
              "      <td>186</td>\n",
              "      <td>31</td>\n",
              "      <td>0.001557</td>\n",
              "      <td>0.048262</td>\n",
              "    </tr>\n",
              "    <tr>\n",
              "      <th>31</th>\n",
              "      <td>dia</td>\n",
              "      <td>185</td>\n",
              "      <td>32</td>\n",
              "      <td>0.001548</td>\n",
              "      <td>0.049551</td>\n",
              "    </tr>\n",
              "    <tr>\n",
              "      <th>32</th>\n",
              "      <td>agora</td>\n",
              "      <td>184</td>\n",
              "      <td>33</td>\n",
              "      <td>0.001540</td>\n",
              "      <td>0.050823</td>\n",
              "    </tr>\n",
              "    <tr>\n",
              "      <th>33</th>\n",
              "      <td>outros</td>\n",
              "      <td>183</td>\n",
              "      <td>34</td>\n",
              "      <td>0.001532</td>\n",
              "      <td>0.052078</td>\n",
              "    </tr>\n",
              "    <tr>\n",
              "      <th>34</th>\n",
              "      <td>disse</td>\n",
              "      <td>181</td>\n",
              "      <td>35</td>\n",
              "      <td>0.001515</td>\n",
              "      <td>0.053024</td>\n",
              "    </tr>\n",
              "    <tr>\n",
              "      <th>35</th>\n",
              "      <td>política</td>\n",
              "      <td>178</td>\n",
              "      <td>36</td>\n",
              "      <td>0.001490</td>\n",
              "      <td>0.053635</td>\n",
              "    </tr>\n",
              "    <tr>\n",
              "      <th>36</th>\n",
              "      <td>vida</td>\n",
              "      <td>174</td>\n",
              "      <td>37</td>\n",
              "      <td>0.001456</td>\n",
              "      <td>0.053886</td>\n",
              "    </tr>\n",
              "    <tr>\n",
              "      <th>37</th>\n",
              "      <td>três</td>\n",
              "      <td>173</td>\n",
              "      <td>38</td>\n",
              "      <td>0.001448</td>\n",
              "      <td>0.055025</td>\n",
              "    </tr>\n",
              "    <tr>\n",
              "      <th>38</th>\n",
              "      <td>hoje</td>\n",
              "      <td>170</td>\n",
              "      <td>39</td>\n",
              "      <td>0.001423</td>\n",
              "      <td>0.055493</td>\n",
              "    </tr>\n",
              "    <tr>\n",
              "      <th>39</th>\n",
              "      <td>apenas</td>\n",
              "      <td>169</td>\n",
              "      <td>40</td>\n",
              "      <td>0.001415</td>\n",
              "      <td>0.056581</td>\n",
              "    </tr>\n",
              "    <tr>\n",
              "      <th>40</th>\n",
              "      <td>caso</td>\n",
              "      <td>165</td>\n",
              "      <td>41</td>\n",
              "      <td>0.001381</td>\n",
              "      <td>0.056623</td>\n",
              "    </tr>\n",
              "    <tr>\n",
              "      <th>41</th>\n",
              "      <td>milhões</td>\n",
              "      <td>164</td>\n",
              "      <td>42</td>\n",
              "      <td>0.001373</td>\n",
              "      <td>0.057653</td>\n",
              "    </tr>\n",
              "    <tr>\n",
              "      <th>42</th>\n",
              "      <td>maior</td>\n",
              "      <td>163</td>\n",
              "      <td>43</td>\n",
              "      <td>0.001364</td>\n",
              "      <td>0.058665</td>\n",
              "    </tr>\n",
              "    <tr>\n",
              "      <th>43</th>\n",
              "      <td>além</td>\n",
              "      <td>163</td>\n",
              "      <td>44</td>\n",
              "      <td>0.001364</td>\n",
              "      <td>0.060030</td>\n",
              "    </tr>\n",
              "    <tr>\n",
              "      <th>44</th>\n",
              "      <td>assim</td>\n",
              "      <td>162</td>\n",
              "      <td>45</td>\n",
              "      <td>0.001356</td>\n",
              "      <td>0.061017</td>\n",
              "    </tr>\n",
              "    <tr>\n",
              "      <th>45</th>\n",
              "      <td>havia</td>\n",
              "      <td>162</td>\n",
              "      <td>46</td>\n",
              "      <td>0.001356</td>\n",
              "      <td>0.062373</td>\n",
              "    </tr>\n",
              "    <tr>\n",
              "      <th>46</th>\n",
              "      <td>outro</td>\n",
              "      <td>158</td>\n",
              "      <td>47</td>\n",
              "      <td>0.001322</td>\n",
              "      <td>0.062156</td>\n",
              "    </tr>\n",
              "    <tr>\n",
              "      <th>47</th>\n",
              "      <td>trabalho</td>\n",
              "      <td>155</td>\n",
              "      <td>48</td>\n",
              "      <td>0.001297</td>\n",
              "      <td>0.062273</td>\n",
              "    </tr>\n",
              "    <tr>\n",
              "      <th>48</th>\n",
              "      <td>grande</td>\n",
              "      <td>153</td>\n",
              "      <td>49</td>\n",
              "      <td>0.001281</td>\n",
              "      <td>0.062750</td>\n",
              "    </tr>\n",
              "    <tr>\n",
              "      <th>49</th>\n",
              "      <td>primeiro</td>\n",
              "      <td>151</td>\n",
              "      <td>50</td>\n",
              "      <td>0.001264</td>\n",
              "      <td>0.063194</td>\n",
              "    </tr>\n",
              "  </tbody>\n",
              "</table>\n",
              "</div>"
            ],
            "text/plain": [
              "          Word  Freq  Rank     Pr(%)      r*Pr\n",
              "0         anos   584     1  0.004888  0.004888\n",
              "1          ser   504     2  0.004218  0.008437\n",
              "2        sobre   426     3  0.003566  0.010697\n",
              "3    bolsonaro   372     4  0.003114  0.012455\n",
              "4   presidente   370     5  0.003097  0.015485\n",
              "5      governo   352     6  0.002946  0.017677\n",
              "6         país   339     7  0.002837  0.019862\n",
              "7        ainda   337     8  0.002821  0.022566\n",
              "8       brasil   332     9  0.002779  0.025010\n",
              "9          ter   256    10  0.002143  0.021427\n",
              "10      porque   242    11  0.002026  0.022281\n",
              "11     pessoas   239    12  0.002000  0.024005\n",
              "12      contra   236    13  0.001975  0.025679\n",
              "13        dois   232    14  0.001942  0.027186\n",
              "14     segundo   231    15  0.001933  0.029002\n",
              "15         diz   215    16  0.001800  0.028793\n",
              "16        onde   214    17  0.001791  0.030450\n",
              "17       todos   213    18  0.001783  0.032091\n",
              "18         ano   212    19  0.001774  0.033714\n",
              "19        pode   209    20  0.001749  0.034987\n",
              "20         vez   203    21  0.001699  0.035681\n",
              "21       desde   197    22  0.001649  0.036276\n",
              "22       parte   195    23  0.001632  0.037540\n",
              "23       mundo   194    24  0.001624  0.038971\n",
              "24    mulheres   194    25  0.001624  0.040595\n",
              "25       tempo   191    26  0.001599  0.041566\n",
              "26       fazer   191    27  0.001599  0.043164\n",
              "27       antes   190    28  0.001590  0.044529\n",
              "28     durante   189    29  0.001582  0.045876\n",
              "29       reais   188    30  0.001574  0.047207\n",
              "30       menos   186    31  0.001557  0.048262\n",
              "31         dia   185    32  0.001548  0.049551\n",
              "32       agora   184    33  0.001540  0.050823\n",
              "33      outros   183    34  0.001532  0.052078\n",
              "34       disse   181    35  0.001515  0.053024\n",
              "35    política   178    36  0.001490  0.053635\n",
              "36        vida   174    37  0.001456  0.053886\n",
              "37        três   173    38  0.001448  0.055025\n",
              "38        hoje   170    39  0.001423  0.055493\n",
              "39      apenas   169    40  0.001415  0.056581\n",
              "40        caso   165    41  0.001381  0.056623\n",
              "41     milhões   164    42  0.001373  0.057653\n",
              "42       maior   163    43  0.001364  0.058665\n",
              "43        além   163    44  0.001364  0.060030\n",
              "44       assim   162    45  0.001356  0.061017\n",
              "45       havia   162    46  0.001356  0.062373\n",
              "46       outro   158    47  0.001322  0.062156\n",
              "47    trabalho   155    48  0.001297  0.062273\n",
              "48      grande   153    49  0.001281  0.062750\n",
              "49    primeiro   151    50  0.001264  0.063194"
            ]
          },
          "metadata": {
            "tags": []
          },
          "execution_count": 10
        }
      ]
    },
    {
      "cell_type": "code",
      "metadata": {
        "id": "XvbIgrffXnTR",
        "colab_type": "code",
        "outputId": "3d11246c-dfde-44c4-ee67-00bb513bd74e",
        "colab": {
          "base_uri": "https://localhost:8080/",
          "height": 70
        }
      },
      "source": [
        "from nltk import stem\n",
        "nltk.download('rslp')"
      ],
      "execution_count": 0,
      "outputs": [
        {
          "output_type": "stream",
          "text": [
            "[nltk_data] Downloading package rslp to /root/nltk_data...\n",
            "[nltk_data]   Package rslp is already up-to-date!\n"
          ],
          "name": "stdout"
        },
        {
          "output_type": "execute_result",
          "data": {
            "text/plain": [
              "True"
            ]
          },
          "metadata": {
            "tags": []
          },
          "execution_count": 11
        }
      ]
    },
    {
      "cell_type": "code",
      "metadata": {
        "id": "iQt6zDiHXxhx",
        "colab_type": "code",
        "colab": {}
      },
      "source": [
        "stems = []\n",
        "stemmer = stem.RSLPStemmer()\n",
        "\n",
        "for token in filtered_tokens:\n",
        "  stems.append(stemmer.stem(token))"
      ],
      "execution_count": 0,
      "outputs": []
    },
    {
      "cell_type": "code",
      "metadata": {
        "id": "LJRUkwDnl4FA",
        "colab_type": "code",
        "colab": {}
      },
      "source": [
        "stem_counter = collections.Counter(stems)"
      ],
      "execution_count": 0,
      "outputs": []
    },
    {
      "cell_type": "code",
      "metadata": {
        "id": "Nv_215wypJhT",
        "colab_type": "code",
        "outputId": "9b0e6a36-850c-4f9d-c09b-7f7a55f4d9bb",
        "colab": {
          "base_uri": "https://localhost:8080/",
          "height": 905
        }
      },
      "source": [
        "c.most_common(50)"
      ],
      "execution_count": 0,
      "outputs": [
        {
          "output_type": "execute_result",
          "data": {
            "text/plain": [
              "[('anos', 584),\n",
              " ('ser', 504),\n",
              " ('sobre', 426),\n",
              " ('bolsonaro', 372),\n",
              " ('presidente', 370),\n",
              " ('governo', 352),\n",
              " ('país', 339),\n",
              " ('ainda', 337),\n",
              " ('brasil', 332),\n",
              " ('ter', 256),\n",
              " ('porque', 242),\n",
              " ('pessoas', 239),\n",
              " ('contra', 236),\n",
              " ('dois', 232),\n",
              " ('segundo', 231),\n",
              " ('diz', 215),\n",
              " ('onde', 214),\n",
              " ('todos', 213),\n",
              " ('ano', 212),\n",
              " ('pode', 209),\n",
              " ('vez', 203),\n",
              " ('desde', 197),\n",
              " ('parte', 195),\n",
              " ('mundo', 194),\n",
              " ('mulheres', 194),\n",
              " ('tempo', 191),\n",
              " ('fazer', 191),\n",
              " ('antes', 190),\n",
              " ('durante', 189),\n",
              " ('reais', 188),\n",
              " ('menos', 186),\n",
              " ('dia', 185),\n",
              " ('agora', 184),\n",
              " ('outros', 183),\n",
              " ('disse', 181),\n",
              " ('política', 178),\n",
              " ('vida', 174),\n",
              " ('três', 173),\n",
              " ('hoje', 170),\n",
              " ('apenas', 169),\n",
              " ('caso', 165),\n",
              " ('milhões', 164),\n",
              " ('maior', 163),\n",
              " ('além', 163),\n",
              " ('assim', 162),\n",
              " ('havia', 162),\n",
              " ('outro', 158),\n",
              " ('trabalho', 155),\n",
              " ('grande', 153),\n",
              " ('primeiro', 151)]"
            ]
          },
          "metadata": {
            "tags": []
          },
          "execution_count": 14
        }
      ]
    },
    {
      "cell_type": "code",
      "metadata": {
        "id": "DZ3t6ghjqN0A",
        "colab_type": "code",
        "colab": {}
      },
      "source": [
        "stemmed_tokens = []\n",
        "\n",
        "for token in filtered_tokens:\n",
        "  if stemmer.stem(token) == 'cas':\n",
        "    stemmed_tokens.append(token)"
      ],
      "execution_count": 0,
      "outputs": []
    },
    {
      "cell_type": "code",
      "metadata": {
        "id": "oniMT7SCqqii",
        "colab_type": "code",
        "outputId": "f2c904dc-a33c-4bad-beb7-8fe4a4043d4c",
        "colab": {
          "base_uri": "https://localhost:8080/",
          "height": 301
        }
      },
      "source": [
        "stemmed_tokensCounter = collections.Counter(stemmed_tokens)\n",
        "\n",
        "stemmed_tokensCounter"
      ],
      "execution_count": 0,
      "outputs": [
        {
          "output_type": "execute_result",
          "data": {
            "text/plain": [
              "Counter({'casa': 143,\n",
              "         'casada': 4,\n",
              "         'casado': 3,\n",
              "         'casamento': 14,\n",
              "         'casar': 3,\n",
              "         'casaram': 1,\n",
              "         'casarões': 3,\n",
              "         'casas': 17,\n",
              "         'case': 1,\n",
              "         'casinha': 1,\n",
              "         'casinhas': 1,\n",
              "         'caso': 165,\n",
              "         'casos': 49,\n",
              "         'casou': 4,\n",
              "         'casual': 2,\n",
              "         'casualmente': 1})"
            ]
          },
          "metadata": {
            "tags": []
          },
          "execution_count": 16
        }
      ]
    },
    {
      "cell_type": "code",
      "metadata": {
        "id": "CrQbe8pFBTwG",
        "colab_type": "code",
        "outputId": "d1e95a6c-ab0e-4f3e-dd1d-f201ade82e94",
        "colab": {
          "base_uri": "https://localhost:8080/",
          "height": 478
        }
      },
      "source": [
        "stemmed_tokens = []\n",
        "\n",
        "for token in filtered_tokens:\n",
        "  if stemmer.stem(token) == 'cont':\n",
        "    stemmed_tokens.append(token)\n",
        "    \n",
        "stemmed_tokensCounter = collections.Counter(stemmed_tokens)\n",
        "stemmed_tokensCounter"
      ],
      "execution_count": 0,
      "outputs": [
        {
          "output_type": "execute_result",
          "data": {
            "text/plain": [
              "Counter({'conta': 115,\n",
              "         'contada': 4,\n",
              "         'contadas': 1,\n",
              "         'contado': 3,\n",
              "         'contagem': 2,\n",
              "         'contam': 11,\n",
              "         'contando': 3,\n",
              "         'contar': 22,\n",
              "         'contaram': 3,\n",
              "         'contaria': 1,\n",
              "         'contará': 1,\n",
              "         'contarão': 1,\n",
              "         'contas': 47,\n",
              "         'contava': 7,\n",
              "         'contavam': 2,\n",
              "         'conte': 1,\n",
              "         'contem': 1,\n",
              "         'contemos': 1,\n",
              "         'contente': 2,\n",
              "         'contentes': 1,\n",
              "         'conter': 11,\n",
              "         'contida': 1,\n",
              "         'contidas': 1,\n",
              "         'contido': 1,\n",
              "         'conto': 9,\n",
              "         'contou': 17})"
            ]
          },
          "metadata": {
            "tags": []
          },
          "execution_count": 17
        }
      ]
    },
    {
      "cell_type": "code",
      "metadata": {
        "id": "ZGXQ8M1UBv_H",
        "colab_type": "code",
        "outputId": "0d2c38a2-c252-4017-d0b1-cc273783247a",
        "colab": {
          "base_uri": "https://localhost:8080/",
          "height": 372
        }
      },
      "source": [
        "stemmed_tokens = []\n",
        "\n",
        "for token in filtered_tokens:\n",
        "  if stemmer.stem(token) == 'est':\n",
        "    stemmed_tokens.append(token)\n",
        "    \n",
        "stemmed_tokensCounter = collections.Counter(stemmed_tokens)\n",
        "stemmed_tokensCounter"
      ],
      "execution_count": 0,
      "outputs": [
        {
          "output_type": "execute_result",
          "data": {
            "text/plain": [
              "Counter({'estada': 2,\n",
              "         'estado': 140,\n",
              "         'estados': 80,\n",
              "         'estando': 2,\n",
              "         'estante': 2,\n",
              "         'estar': 54,\n",
              "         'estarei': 1,\n",
              "         'estarem': 2,\n",
              "         'estaremos': 3,\n",
              "         'estaria': 8,\n",
              "         'estariam': 8,\n",
              "         'estarmos': 1,\n",
              "         'estará': 11,\n",
              "         'estarão': 1,\n",
              "         'estaríamos': 1,\n",
              "         'esteira': 2,\n",
              "         'ester': 1,\n",
              "         'estima': 6,\n",
              "         'estáveis': 2,\n",
              "         'estável': 6})"
            ]
          },
          "metadata": {
            "tags": []
          },
          "execution_count": 18
        }
      ]
    },
    {
      "cell_type": "markdown",
      "metadata": {
        "id": "OH1gL7LRESmv",
        "colab_type": "text"
      },
      "source": [
        "Aqui temos alguns exemplos de falsos positivos. para o radical 'cas' temos como exemplo casa, casado e casual. Para o radical 'cont', temos: conta, contente e contido. para o radical 'est', temos: estado, estar, estima, e estável."
      ]
    },
    {
      "cell_type": "code",
      "metadata": {
        "id": "3KPAxDMCN24e",
        "colab_type": "code",
        "outputId": "b311459a-c6a8-42ee-ac2d-61ab934aa3ca",
        "colab": {
          "base_uri": "https://localhost:8080/",
          "height": 301
        }
      },
      "source": [
        "stemmed_tokens = []\n",
        "\n",
        "for token in filtered_tokens:\n",
        "  if stemmer.stem(token) == 'segu': # Pode trocar por 'seg' \n",
        "    stemmed_tokens.append(token)\n",
        "    \n",
        "stemmed_tokensCounter = collections.Counter(stemmed_tokens)\n",
        "stemmed_tokensCounter"
      ],
      "execution_count": 0,
      "outputs": [
        {
          "output_type": "execute_result",
          "data": {
            "text/plain": [
              "Counter({'seguem': 9,\n",
              "         'seguia': 3,\n",
              "         'seguiam': 2,\n",
              "         'seguida': 22,\n",
              "         'seguidas': 1,\n",
              "         'seguido': 3,\n",
              "         'seguidor': 1,\n",
              "         'seguidores': 18,\n",
              "         'seguidos': 2,\n",
              "         'seguimento': 2,\n",
              "         'seguindo': 8,\n",
              "         'seguir': 26,\n",
              "         'seguiram': 7,\n",
              "         'seguiria': 1,\n",
              "         'seguisse': 1,\n",
              "         'seguiu': 11})"
            ]
          },
          "metadata": {
            "tags": []
          },
          "execution_count": 19
        }
      ]
    },
    {
      "cell_type": "code",
      "metadata": {
        "id": "jX5paLk8V0UM",
        "colab_type": "code",
        "outputId": "2ba6d783-952c-444c-dd9b-f6a74d705875",
        "colab": {
          "base_uri": "https://localhost:8080/",
          "height": 34
        }
      },
      "source": [
        "stemmed_tokens = []\n",
        "\n",
        "for token in filtered_tokens:\n",
        "  if stemmer.stem(token) == 'seguid':\n",
        "    stemmed_tokens.append(token)\n",
        "    \n",
        "stemmed_tokensCounter = collections.Counter(stemmed_tokens)\n",
        "stemmed_tokensCounter"
      ],
      "execution_count": 0,
      "outputs": [
        {
          "output_type": "execute_result",
          "data": {
            "text/plain": [
              "Counter({'seguidamente': 3})"
            ]
          },
          "metadata": {
            "tags": []
          },
          "execution_count": 20
        }
      ]
    },
    {
      "cell_type": "code",
      "metadata": {
        "id": "5jdI6g0gV9tC",
        "colab_type": "code",
        "outputId": "da4feea9-f233-4f0e-dae6-1e6bd3ace856",
        "colab": {
          "base_uri": "https://localhost:8080/",
          "height": 212
        }
      },
      "source": [
        "stemmed_tokens = []\n",
        "\n",
        "for token in filtered_tokens:\n",
        "  if stemmer.stem(token) == 'mor': # Pode trocar por 'morad'\n",
        "    stemmed_tokens.append(token)\n",
        "    \n",
        "stemmed_tokensCounter = collections.Counter(stemmed_tokens)\n",
        "stemmed_tokensCounter"
      ],
      "execution_count": 0,
      "outputs": [
        {
          "output_type": "execute_result",
          "data": {
            "text/plain": [
              "Counter({'mora': 5,\n",
              "         'moradores': 14,\n",
              "         'morando': 1,\n",
              "         'morar': 3,\n",
              "         'morava': 2,\n",
              "         'more': 1,\n",
              "         'morei': 1,\n",
              "         'moreira': 6,\n",
              "         'mori': 1,\n",
              "         'moro': 14,\n",
              "         'morou': 3})"
            ]
          },
          "metadata": {
            "tags": []
          },
          "execution_count": 21
        }
      ]
    },
    {
      "cell_type": "code",
      "metadata": {
        "id": "Vsp5y_locSYu",
        "colab_type": "code",
        "outputId": "c7c5ead8-bc0e-4928-e028-9558f803302a",
        "colab": {
          "base_uri": "https://localhost:8080/",
          "height": 34
        }
      },
      "source": [
        "stemmed_tokens = []\n",
        "\n",
        "for token in filtered_tokens:\n",
        "  if stemmer.stem(token) == 'temer': # Pode trocar por 'tem'\n",
        "    stemmed_tokens.append(token)\n",
        "    \n",
        "stemmed_tokensCounter = collections.Counter(stemmed_tokens)\n",
        "stemmed_tokensCounter"
      ],
      "execution_count": 0,
      "outputs": [
        {
          "output_type": "execute_result",
          "data": {
            "text/plain": [
              "Counter({'temerosa': 2})"
            ]
          },
          "metadata": {
            "tags": []
          },
          "execution_count": 22
        }
      ]
    },
    {
      "cell_type": "code",
      "metadata": {
        "id": "qA5WE_JmeDiB",
        "colab_type": "code",
        "outputId": "8b36124c-eb3a-43f0-91ba-4d7a90997e0a",
        "colab": {
          "base_uri": "https://localhost:8080/",
          "height": 34
        }
      },
      "source": [
        "stemmed_tokens = []\n",
        "\n",
        "for token in filtered_tokens:\n",
        "  if stemmer.stem(token) == 'pessoal': # POde trocar com 'pesso'\n",
        "    stemmed_tokens.append(token)\n",
        "    \n",
        "stemmed_tokensCounter = collections.Counter(stemmed_tokens)\n",
        "stemmed_tokensCounter"
      ],
      "execution_count": 0,
      "outputs": [
        {
          "output_type": "execute_result",
          "data": {
            "text/plain": [
              "Counter({'pessoais': 13, 'pessoal': 41, 'pessoalmente': 7})"
            ]
          },
          "metadata": {
            "tags": []
          },
          "execution_count": 23
        }
      ]
    },
    {
      "cell_type": "code",
      "metadata": {
        "id": "Op46NF1Lm2yp",
        "colab_type": "code",
        "outputId": "ad618b31-bc03-44e3-c9f1-22feec8386fb",
        "colab": {
          "base_uri": "https://localhost:8080/",
          "height": 34
        }
      },
      "source": [
        "stemmed_tokens = []\n",
        "\n",
        "for token in filtered_tokens:\n",
        "  if stemmer.stem(token) == 'europ': # Pode trocar por 'europe'\n",
        "    stemmed_tokens.append(token)\n",
        "    \n",
        "stemmed_tokensCounter = collections.Counter(stemmed_tokens)\n",
        "stemmed_tokensCounter"
      ],
      "execution_count": 0,
      "outputs": [
        {
          "output_type": "execute_result",
          "data": {
            "text/plain": [
              "Counter({'europa': 52, 'europeu': 33, 'europeus': 9})"
            ]
          },
          "metadata": {
            "tags": []
          },
          "execution_count": 24
        }
      ]
    },
    {
      "cell_type": "code",
      "metadata": {
        "id": "AnbHPjg-ngzM",
        "colab_type": "code",
        "outputId": "28138904-f5f2-42e9-a302-9dab66d8e59f",
        "colab": {
          "base_uri": "https://localhost:8080/",
          "height": 34
        }
      },
      "source": [
        "stemmed_tokens = []\n",
        "\n",
        "for token in filtered_tokens:\n",
        "  if stemmer.stem(token) == 'urgent': # POde trocar com 'urge'\n",
        "    stemmed_tokens.append(token)\n",
        "    \n",
        "stemmed_tokensCounter = collections.Counter(stemmed_tokens)\n",
        "stemmed_tokensCounter"
      ],
      "execution_count": 0,
      "outputs": [
        {
          "output_type": "execute_result",
          "data": {
            "text/plain": [
              "Counter({'urgente': 13, 'urgentemente': 4, 'urgentes': 6})"
            ]
          },
          "metadata": {
            "tags": []
          },
          "execution_count": 25
        }
      ]
    },
    {
      "cell_type": "markdown",
      "metadata": {
        "id": "6tjcRUsYiT3H",
        "colab_type": "text"
      },
      "source": [
        "Através de buscas manuais, foram obtidos alguns falsos negativos: pessoa/pessoalmente, pessoa/pessoal,  temer/temerosa, segue/seguem, seguido/seguidamente, morador/moradia, morando/moradias, europeu/europeia, europa/europeias e urgência/urgente"
      ]
    },
    {
      "cell_type": "code",
      "metadata": {
        "id": "dtwnGQE5oa6P",
        "colab_type": "code",
        "outputId": "d1a77b97-afd1-4de6-f566-4afbfb288227",
        "colab": {
          "base_uri": "https://localhost:8080/",
          "height": 1906
        }
      },
      "source": [
        "labels = [\"Stem\", \"Freq\"]\n",
        "all_stems_df = pd.DataFrame(stem_counter.most_common(), columns = labels)\n",
        "all_stems_df[\"Rank\"] = all_stems_df[\"Freq\"].rank(ascending = False)\n",
        "all_stems_df[\"Pr(%)\"] = all_stems_df.Freq / sum(stem_counter.values())\n",
        "all_stems_df[\"r*Pr\"] = all_stems_df.Rank * all_stems_df[\"Pr(%)\"]\n",
        "\n",
        "all_stems_df"
      ],
      "execution_count": 0,
      "outputs": [
        {
          "output_type": "execute_result",
          "data": {
            "text/html": [
              "<div>\n",
              "<style scoped>\n",
              "    .dataframe tbody tr th:only-of-type {\n",
              "        vertical-align: middle;\n",
              "    }\n",
              "\n",
              "    .dataframe tbody tr th {\n",
              "        vertical-align: top;\n",
              "    }\n",
              "\n",
              "    .dataframe thead th {\n",
              "        text-align: right;\n",
              "    }\n",
              "</style>\n",
              "<table border=\"1\" class=\"dataframe\">\n",
              "  <thead>\n",
              "    <tr style=\"text-align: right;\">\n",
              "      <th></th>\n",
              "      <th>Stem</th>\n",
              "      <th>Freq</th>\n",
              "      <th>Rank</th>\n",
              "      <th>Pr(%)</th>\n",
              "      <th>r*Pr</th>\n",
              "    </tr>\n",
              "  </thead>\n",
              "  <tbody>\n",
              "    <tr>\n",
              "      <th>0</th>\n",
              "      <td>ano</td>\n",
              "      <td>796</td>\n",
              "      <td>1.0</td>\n",
              "      <td>0.006663</td>\n",
              "      <td>0.006663</td>\n",
              "    </tr>\n",
              "    <tr>\n",
              "      <th>1</th>\n",
              "      <td>pod</td>\n",
              "      <td>636</td>\n",
              "      <td>2.0</td>\n",
              "      <td>0.005323</td>\n",
              "      <td>0.010647</td>\n",
              "    </tr>\n",
              "    <tr>\n",
              "      <th>2</th>\n",
              "      <td>brasil</td>\n",
              "      <td>596</td>\n",
              "      <td>3.0</td>\n",
              "      <td>0.004989</td>\n",
              "      <td>0.014966</td>\n",
              "    </tr>\n",
              "    <tr>\n",
              "      <th>3</th>\n",
              "      <td>ser</td>\n",
              "      <td>540</td>\n",
              "      <td>4.0</td>\n",
              "      <td>0.004520</td>\n",
              "      <td>0.018079</td>\n",
              "    </tr>\n",
              "    <tr>\n",
              "      <th>4</th>\n",
              "      <td>outr</td>\n",
              "      <td>536</td>\n",
              "      <td>5.0</td>\n",
              "      <td>0.004486</td>\n",
              "      <td>0.022432</td>\n",
              "    </tr>\n",
              "    <tr>\n",
              "      <th>5</th>\n",
              "      <td>part</td>\n",
              "      <td>497</td>\n",
              "      <td>6.0</td>\n",
              "      <td>0.004160</td>\n",
              "      <td>0.024959</td>\n",
              "    </tr>\n",
              "    <tr>\n",
              "      <th>6</th>\n",
              "      <td>tod</td>\n",
              "      <td>494</td>\n",
              "      <td>7.0</td>\n",
              "      <td>0.004135</td>\n",
              "      <td>0.028944</td>\n",
              "    </tr>\n",
              "    <tr>\n",
              "      <th>7</th>\n",
              "      <td>presid</td>\n",
              "      <td>457</td>\n",
              "      <td>8.5</td>\n",
              "      <td>0.003825</td>\n",
              "      <td>0.032513</td>\n",
              "    </tr>\n",
              "    <tr>\n",
              "      <th>8</th>\n",
              "      <td>país</td>\n",
              "      <td>457</td>\n",
              "      <td>8.5</td>\n",
              "      <td>0.003825</td>\n",
              "      <td>0.032513</td>\n",
              "    </tr>\n",
              "    <tr>\n",
              "      <th>9</th>\n",
              "      <td>govern</td>\n",
              "      <td>447</td>\n",
              "      <td>10.0</td>\n",
              "      <td>0.003741</td>\n",
              "      <td>0.037414</td>\n",
              "    </tr>\n",
              "    <tr>\n",
              "      <th>10</th>\n",
              "      <td>sobr</td>\n",
              "      <td>436</td>\n",
              "      <td>11.0</td>\n",
              "      <td>0.003649</td>\n",
              "      <td>0.040143</td>\n",
              "    </tr>\n",
              "    <tr>\n",
              "      <th>11</th>\n",
              "      <td>polít</td>\n",
              "      <td>433</td>\n",
              "      <td>12.0</td>\n",
              "      <td>0.003624</td>\n",
              "      <td>0.043491</td>\n",
              "    </tr>\n",
              "    <tr>\n",
              "      <th>12</th>\n",
              "      <td>pass</td>\n",
              "      <td>412</td>\n",
              "      <td>13.5</td>\n",
              "      <td>0.003448</td>\n",
              "      <td>0.046554</td>\n",
              "    </tr>\n",
              "    <tr>\n",
              "      <th>13</th>\n",
              "      <td>cas</td>\n",
              "      <td>412</td>\n",
              "      <td>13.5</td>\n",
              "      <td>0.003448</td>\n",
              "      <td>0.046554</td>\n",
              "    </tr>\n",
              "    <tr>\n",
              "      <th>14</th>\n",
              "      <td>nov</td>\n",
              "      <td>400</td>\n",
              "      <td>15.0</td>\n",
              "      <td>0.003348</td>\n",
              "      <td>0.050220</td>\n",
              "    </tr>\n",
              "    <tr>\n",
              "      <th>15</th>\n",
              "      <td>diz</td>\n",
              "      <td>396</td>\n",
              "      <td>16.0</td>\n",
              "      <td>0.003315</td>\n",
              "      <td>0.053032</td>\n",
              "    </tr>\n",
              "    <tr>\n",
              "      <th>16</th>\n",
              "      <td>bolsonar</td>\n",
              "      <td>395</td>\n",
              "      <td>17.0</td>\n",
              "      <td>0.003306</td>\n",
              "      <td>0.056205</td>\n",
              "    </tr>\n",
              "    <tr>\n",
              "      <th>17</th>\n",
              "      <td>faz</td>\n",
              "      <td>374</td>\n",
              "      <td>18.0</td>\n",
              "      <td>0.003130</td>\n",
              "      <td>0.056347</td>\n",
              "    </tr>\n",
              "    <tr>\n",
              "      <th>18</th>\n",
              "      <td>prim</td>\n",
              "      <td>356</td>\n",
              "      <td>19.0</td>\n",
              "      <td>0.002980</td>\n",
              "      <td>0.056615</td>\n",
              "    </tr>\n",
              "    <tr>\n",
              "      <th>19</th>\n",
              "      <td>trabalh</td>\n",
              "      <td>353</td>\n",
              "      <td>20.0</td>\n",
              "      <td>0.002955</td>\n",
              "      <td>0.059092</td>\n",
              "    </tr>\n",
              "    <tr>\n",
              "      <th>20</th>\n",
              "      <td>real</td>\n",
              "      <td>343</td>\n",
              "      <td>21.0</td>\n",
              "      <td>0.002871</td>\n",
              "      <td>0.060289</td>\n",
              "    </tr>\n",
              "    <tr>\n",
              "      <th>21</th>\n",
              "      <td>aind</td>\n",
              "      <td>337</td>\n",
              "      <td>22.0</td>\n",
              "      <td>0.002821</td>\n",
              "      <td>0.062055</td>\n",
              "    </tr>\n",
              "    <tr>\n",
              "      <th>22</th>\n",
              "      <td>est</td>\n",
              "      <td>333</td>\n",
              "      <td>23.0</td>\n",
              "      <td>0.002787</td>\n",
              "      <td>0.064106</td>\n",
              "    </tr>\n",
              "    <tr>\n",
              "      <th>23</th>\n",
              "      <td>dia</td>\n",
              "      <td>330</td>\n",
              "      <td>24.0</td>\n",
              "      <td>0.002762</td>\n",
              "      <td>0.066291</td>\n",
              "    </tr>\n",
              "    <tr>\n",
              "      <th>24</th>\n",
              "      <td>vez</td>\n",
              "      <td>304</td>\n",
              "      <td>25.0</td>\n",
              "      <td>0.002544</td>\n",
              "      <td>0.063612</td>\n",
              "    </tr>\n",
              "    <tr>\n",
              "      <th>25</th>\n",
              "      <td>contr</td>\n",
              "      <td>298</td>\n",
              "      <td>26.0</td>\n",
              "      <td>0.002494</td>\n",
              "      <td>0.064851</td>\n",
              "    </tr>\n",
              "    <tr>\n",
              "      <th>26</th>\n",
              "      <td>diss</td>\n",
              "      <td>296</td>\n",
              "      <td>27.0</td>\n",
              "      <td>0.002478</td>\n",
              "      <td>0.066893</td>\n",
              "    </tr>\n",
              "    <tr>\n",
              "      <th>27</th>\n",
              "      <td>pesso</td>\n",
              "      <td>295</td>\n",
              "      <td>28.0</td>\n",
              "      <td>0.002469</td>\n",
              "      <td>0.069136</td>\n",
              "    </tr>\n",
              "    <tr>\n",
              "      <th>28</th>\n",
              "      <td>segund</td>\n",
              "      <td>279</td>\n",
              "      <td>29.0</td>\n",
              "      <td>0.002335</td>\n",
              "      <td>0.067722</td>\n",
              "    </tr>\n",
              "    <tr>\n",
              "      <th>29</th>\n",
              "      <td>milit</td>\n",
              "      <td>278</td>\n",
              "      <td>30.0</td>\n",
              "      <td>0.002327</td>\n",
              "      <td>0.069806</td>\n",
              "    </tr>\n",
              "    <tr>\n",
              "      <th>...</th>\n",
              "      <td>...</td>\n",
              "      <td>...</td>\n",
              "      <td>...</td>\n",
              "      <td>...</td>\n",
              "      <td>...</td>\n",
              "    </tr>\n",
              "    <tr>\n",
              "      <th>11619</th>\n",
              "      <td>yazidil</td>\n",
              "      <td>1</td>\n",
              "      <td>9158.5</td>\n",
              "      <td>0.000008</td>\n",
              "      <td>0.076657</td>\n",
              "    </tr>\n",
              "    <tr>\n",
              "      <th>11620</th>\n",
              "      <td>alepp</td>\n",
              "      <td>1</td>\n",
              "      <td>9158.5</td>\n",
              "      <td>0.000008</td>\n",
              "      <td>0.076657</td>\n",
              "    </tr>\n",
              "    <tr>\n",
              "      <th>11621</th>\n",
              "      <td>época]</td>\n",
              "      <td>1</td>\n",
              "      <td>9158.5</td>\n",
              "      <td>0.000008</td>\n",
              "      <td>0.076657</td>\n",
              "    </tr>\n",
              "    <tr>\n",
              "      <th>11622</th>\n",
              "      <td>alá</td>\n",
              "      <td>1</td>\n",
              "      <td>9158.5</td>\n",
              "      <td>0.000008</td>\n",
              "      <td>0.076657</td>\n",
              "    </tr>\n",
              "    <tr>\n",
              "      <th>11623</th>\n",
              "      <td>apraz</td>\n",
              "      <td>1</td>\n",
              "      <td>9158.5</td>\n",
              "      <td>0.000008</td>\n",
              "      <td>0.076657</td>\n",
              "    </tr>\n",
              "    <tr>\n",
              "      <th>11624</th>\n",
              "      <td>fend</td>\n",
              "      <td>1</td>\n",
              "      <td>9158.5</td>\n",
              "      <td>0.000008</td>\n",
              "      <td>0.076657</td>\n",
              "    </tr>\n",
              "    <tr>\n",
              "      <th>11625</th>\n",
              "      <td>retangul</td>\n",
              "      <td>1</td>\n",
              "      <td>9158.5</td>\n",
              "      <td>0.000008</td>\n",
              "      <td>0.076657</td>\n",
              "    </tr>\n",
              "    <tr>\n",
              "      <th>11626</th>\n",
              "      <td>pál</td>\n",
              "      <td>1</td>\n",
              "      <td>9158.5</td>\n",
              "      <td>0.000008</td>\n",
              "      <td>0.076657</td>\n",
              "    </tr>\n",
              "    <tr>\n",
              "      <th>11627</th>\n",
              "      <td>gesticul</td>\n",
              "      <td>1</td>\n",
              "      <td>9158.5</td>\n",
              "      <td>0.000008</td>\n",
              "      <td>0.076657</td>\n",
              "    </tr>\n",
              "    <tr>\n",
              "      <th>11628</th>\n",
              "      <td>istambul</td>\n",
              "      <td>1</td>\n",
              "      <td>9158.5</td>\n",
              "      <td>0.000008</td>\n",
              "      <td>0.076657</td>\n",
              "    </tr>\n",
              "    <tr>\n",
              "      <th>11629</th>\n",
              "      <td>salamanc</td>\n",
              "      <td>1</td>\n",
              "      <td>9158.5</td>\n",
              "      <td>0.000008</td>\n",
              "      <td>0.076657</td>\n",
              "    </tr>\n",
              "    <tr>\n",
              "      <th>11630</th>\n",
              "      <td>pat</td>\n",
              "      <td>1</td>\n",
              "      <td>9158.5</td>\n",
              "      <td>0.000008</td>\n",
              "      <td>0.076657</td>\n",
              "    </tr>\n",
              "    <tr>\n",
              "      <th>11631</th>\n",
              "      <td>atraí</td>\n",
              "      <td>1</td>\n",
              "      <td>9158.5</td>\n",
              "      <td>0.000008</td>\n",
              "      <td>0.076657</td>\n",
              "    </tr>\n",
              "    <tr>\n",
              "      <th>11632</th>\n",
              "      <td>gess</td>\n",
              "      <td>1</td>\n",
              "      <td>9158.5</td>\n",
              "      <td>0.000008</td>\n",
              "      <td>0.076657</td>\n",
              "    </tr>\n",
              "    <tr>\n",
              "      <th>11633</th>\n",
              "      <td>ceut</td>\n",
              "      <td>1</td>\n",
              "      <td>9158.5</td>\n",
              "      <td>0.000008</td>\n",
              "      <td>0.076657</td>\n",
              "    </tr>\n",
              "    <tr>\n",
              "      <th>11634</th>\n",
              "      <td>encrav</td>\n",
              "      <td>1</td>\n",
              "      <td>9158.5</td>\n",
              "      <td>0.000008</td>\n",
              "      <td>0.076657</td>\n",
              "    </tr>\n",
              "    <tr>\n",
              "      <th>11635</th>\n",
              "      <td>shadad</td>\n",
              "      <td>1</td>\n",
              "      <td>9158.5</td>\n",
              "      <td>0.000008</td>\n",
              "      <td>0.076657</td>\n",
              "    </tr>\n",
              "    <tr>\n",
              "      <th>11636</th>\n",
              "      <td>deram-n</td>\n",
              "      <td>1</td>\n",
              "      <td>9158.5</td>\n",
              "      <td>0.000008</td>\n",
              "      <td>0.076657</td>\n",
              "    </tr>\n",
              "    <tr>\n",
              "      <th>11637</th>\n",
              "      <td>mensag</td>\n",
              "      <td>1</td>\n",
              "      <td>9158.5</td>\n",
              "      <td>0.000008</td>\n",
              "      <td>0.076657</td>\n",
              "    </tr>\n",
              "    <tr>\n",
              "      <th>11638</th>\n",
              "      <td>aut</td>\n",
              "      <td>1</td>\n",
              "      <td>9158.5</td>\n",
              "      <td>0.000008</td>\n",
              "      <td>0.076657</td>\n",
              "    </tr>\n",
              "    <tr>\n",
              "      <th>11639</th>\n",
              "      <td>amin</td>\n",
              "      <td>1</td>\n",
              "      <td>9158.5</td>\n",
              "      <td>0.000008</td>\n",
              "      <td>0.076657</td>\n",
              "    </tr>\n",
              "    <tr>\n",
              "      <th>11640</th>\n",
              "      <td>casaram-s</td>\n",
              "      <td>1</td>\n",
              "      <td>9158.5</td>\n",
              "      <td>0.000008</td>\n",
              "      <td>0.076657</td>\n",
              "    </tr>\n",
              "    <tr>\n",
              "      <th>11641</th>\n",
              "      <td>han</td>\n",
              "      <td>1</td>\n",
              "      <td>9158.5</td>\n",
              "      <td>0.000008</td>\n",
              "      <td>0.076657</td>\n",
              "    </tr>\n",
              "    <tr>\n",
              "      <th>11642</th>\n",
              "      <td>selman</td>\n",
              "      <td>1</td>\n",
              "      <td>9158.5</td>\n",
              "      <td>0.000008</td>\n",
              "      <td>0.076657</td>\n",
              "    </tr>\n",
              "    <tr>\n",
              "      <th>11643</th>\n",
              "      <td>belisc</td>\n",
              "      <td>1</td>\n",
              "      <td>9158.5</td>\n",
              "      <td>0.000008</td>\n",
              "      <td>0.076657</td>\n",
              "    </tr>\n",
              "    <tr>\n",
              "      <th>11644</th>\n",
              "      <td>reneg</td>\n",
              "      <td>1</td>\n",
              "      <td>9158.5</td>\n",
              "      <td>0.000008</td>\n",
              "      <td>0.076657</td>\n",
              "    </tr>\n",
              "    <tr>\n",
              "      <th>11645</th>\n",
              "      <td>beit</td>\n",
              "      <td>1</td>\n",
              "      <td>9158.5</td>\n",
              "      <td>0.000008</td>\n",
              "      <td>0.076657</td>\n",
              "    </tr>\n",
              "    <tr>\n",
              "      <th>11646</th>\n",
              "      <td>cazaquist</td>\n",
              "      <td>1</td>\n",
              "      <td>9158.5</td>\n",
              "      <td>0.000008</td>\n",
              "      <td>0.076657</td>\n",
              "    </tr>\n",
              "    <tr>\n",
              "      <th>11647</th>\n",
              "      <td>madrilen</td>\n",
              "      <td>1</td>\n",
              "      <td>9158.5</td>\n",
              "      <td>0.000008</td>\n",
              "      <td>0.076657</td>\n",
              "    </tr>\n",
              "    <tr>\n",
              "      <th>11648</th>\n",
              "      <td>petrolífer</td>\n",
              "      <td>1</td>\n",
              "      <td>9158.5</td>\n",
              "      <td>0.000008</td>\n",
              "      <td>0.076657</td>\n",
              "    </tr>\n",
              "  </tbody>\n",
              "</table>\n",
              "<p>11649 rows × 5 columns</p>\n",
              "</div>"
            ],
            "text/plain": [
              "             Stem  Freq    Rank     Pr(%)      r*Pr\n",
              "0             ano   796     1.0  0.006663  0.006663\n",
              "1             pod   636     2.0  0.005323  0.010647\n",
              "2          brasil   596     3.0  0.004989  0.014966\n",
              "3             ser   540     4.0  0.004520  0.018079\n",
              "4            outr   536     5.0  0.004486  0.022432\n",
              "5            part   497     6.0  0.004160  0.024959\n",
              "6             tod   494     7.0  0.004135  0.028944\n",
              "7          presid   457     8.5  0.003825  0.032513\n",
              "8            país   457     8.5  0.003825  0.032513\n",
              "9          govern   447    10.0  0.003741  0.037414\n",
              "10           sobr   436    11.0  0.003649  0.040143\n",
              "11          polít   433    12.0  0.003624  0.043491\n",
              "12           pass   412    13.5  0.003448  0.046554\n",
              "13            cas   412    13.5  0.003448  0.046554\n",
              "14            nov   400    15.0  0.003348  0.050220\n",
              "15            diz   396    16.0  0.003315  0.053032\n",
              "16       bolsonar   395    17.0  0.003306  0.056205\n",
              "17            faz   374    18.0  0.003130  0.056347\n",
              "18           prim   356    19.0  0.002980  0.056615\n",
              "19        trabalh   353    20.0  0.002955  0.059092\n",
              "20           real   343    21.0  0.002871  0.060289\n",
              "21           aind   337    22.0  0.002821  0.062055\n",
              "22            est   333    23.0  0.002787  0.064106\n",
              "23            dia   330    24.0  0.002762  0.066291\n",
              "24            vez   304    25.0  0.002544  0.063612\n",
              "25          contr   298    26.0  0.002494  0.064851\n",
              "26           diss   296    27.0  0.002478  0.066893\n",
              "27          pesso   295    28.0  0.002469  0.069136\n",
              "28         segund   279    29.0  0.002335  0.067722\n",
              "29          milit   278    30.0  0.002327  0.069806\n",
              "...           ...   ...     ...       ...       ...\n",
              "11619     yazidil     1  9158.5  0.000008  0.076657\n",
              "11620       alepp     1  9158.5  0.000008  0.076657\n",
              "11621      época]     1  9158.5  0.000008  0.076657\n",
              "11622         alá     1  9158.5  0.000008  0.076657\n",
              "11623       apraz     1  9158.5  0.000008  0.076657\n",
              "11624        fend     1  9158.5  0.000008  0.076657\n",
              "11625    retangul     1  9158.5  0.000008  0.076657\n",
              "11626         pál     1  9158.5  0.000008  0.076657\n",
              "11627    gesticul     1  9158.5  0.000008  0.076657\n",
              "11628    istambul     1  9158.5  0.000008  0.076657\n",
              "11629    salamanc     1  9158.5  0.000008  0.076657\n",
              "11630         pat     1  9158.5  0.000008  0.076657\n",
              "11631       atraí     1  9158.5  0.000008  0.076657\n",
              "11632        gess     1  9158.5  0.000008  0.076657\n",
              "11633        ceut     1  9158.5  0.000008  0.076657\n",
              "11634      encrav     1  9158.5  0.000008  0.076657\n",
              "11635      shadad     1  9158.5  0.000008  0.076657\n",
              "11636     deram-n     1  9158.5  0.000008  0.076657\n",
              "11637      mensag     1  9158.5  0.000008  0.076657\n",
              "11638         aut     1  9158.5  0.000008  0.076657\n",
              "11639        amin     1  9158.5  0.000008  0.076657\n",
              "11640   casaram-s     1  9158.5  0.000008  0.076657\n",
              "11641         han     1  9158.5  0.000008  0.076657\n",
              "11642      selman     1  9158.5  0.000008  0.076657\n",
              "11643      belisc     1  9158.5  0.000008  0.076657\n",
              "11644       reneg     1  9158.5  0.000008  0.076657\n",
              "11645        beit     1  9158.5  0.000008  0.076657\n",
              "11646   cazaquist     1  9158.5  0.000008  0.076657\n",
              "11647    madrilen     1  9158.5  0.000008  0.076657\n",
              "11648  petrolífer     1  9158.5  0.000008  0.076657\n",
              "\n",
              "[11649 rows x 5 columns]"
            ]
          },
          "metadata": {
            "tags": []
          },
          "execution_count": 26
        }
      ]
    },
    {
      "cell_type": "code",
      "metadata": {
        "id": "tiDk9AR_tdM7",
        "colab_type": "code",
        "outputId": "b7a417c8-5650-400d-ce90-03f25c3524fe",
        "colab": {
          "base_uri": "https://localhost:8080/",
          "height": 34
        }
      },
      "source": [
        "print(\"Considerando todos os stems únicos, o maior valor c = Rank * Pr é de \" + str(all_stems_df['r*Pr'].max()))"
      ],
      "execution_count": 0,
      "outputs": [
        {
          "output_type": "stream",
          "text": [
            "Considerando todos os stems únicos, o maior valor c = Rank * Pr é de 0.2282086479066575\n"
          ],
          "name": "stdout"
        }
      ]
    },
    {
      "cell_type": "code",
      "metadata": {
        "id": "QdlTJxyFqgAy",
        "colab_type": "code",
        "outputId": "ba2b631f-ba1b-4f55-bd21-73e482228aae",
        "colab": {
          "base_uri": "https://localhost:8080/",
          "height": 480
        }
      },
      "source": [
        "f, ax = plt.subplots(figsize=(7, 7))\n",
        "ax.set(xscale=\"log\", yscale=\"log\")\n",
        "ax.set_title(\"Gráfico Rank-Frequencia considerando stems únicos\")\n",
        "sns.regplot(\"Rank\", \"Freq\", all_stems_df, ax=ax, fit_reg = False, scatter_kws={\"s\": 100})"
      ],
      "execution_count": 0,
      "outputs": [
        {
          "output_type": "execute_result",
          "data": {
            "text/plain": [
              "<matplotlib.axes._subplots.AxesSubplot at 0x7f1b8d8245c0>"
            ]
          },
          "metadata": {
            "tags": []
          },
          "execution_count": 28
        },
        {
          "output_type": "display_data",
          "data": {
            "image/png": "[encoded data removed]",
            "text/plain": [
              "<Figure size 504x504 with 1 Axes>"
            ]
          },
          "metadata": {
            "tags": []
          }
        }
      ]
    },
    {
      "cell_type": "markdown",
      "metadata": {
        "id": "K_0Hes42se_b",
        "colab_type": "text"
      },
      "source": [
        "Aqui é interessante notar que, diferentemente do lab anterior, o gráfico não tenta se adequar a uma reta, mas ele segue uma parábola. O maior valor para c é de aproximadamente 0,2282, enquanto que no lab anterior, era de  0,146"
      ]
    },
    {
      "cell_type": "code",
      "metadata": {
        "id": "0iQqHdLhrGiS",
        "colab_type": "code",
        "colab": {}
      },
      "source": [
        "stem_bigrams = nltk.bigrams(stems)\n",
        "stem_bigram_freq = nltk.FreqDist(stem_bigrams)\n",
        "\n",
        "stem_bigrams_df = pd.DataFrame(stem_bigram_freq.most_common(), columns = [\"Bigram\", \"Freq\"])\n",
        "stem_bigrams_df[\"Rank\"] = stem_bigrams_df[\"Freq\"].rank(ascending = False)\n",
        "stem_bigrams_df[\"Pr(%)\"] = stem_bigrams_df.Freq / sum(stem_counter.values())\n",
        "stem_bigrams_df[\"r*Pr\"] = stem_bigrams_df.Rank * stem_bigrams_df[\"Pr(%)\"]"
      ],
      "execution_count": 0,
      "outputs": []
    },
    {
      "cell_type": "code",
      "metadata": {
        "id": "dLPWxNGOtVD6",
        "colab_type": "code",
        "outputId": "3b9dccec-0a28-4d80-fc47-395b555490f3",
        "colab": {
          "base_uri": "https://localhost:8080/",
          "height": 34
        }
      },
      "source": [
        "print(\"Considerando todos os bigramas formados por stems, o maior valor c = Rank * Pr é de \" + str(stem_bigrams_df['r*Pr'].max()))"
      ],
      "execution_count": 0,
      "outputs": [
        {
          "output_type": "stream",
          "text": [
            "Considerando todos os bigramas formados por stems, o maior valor c = Rank * Pr é de 0.4667040527646183\n"
          ],
          "name": "stdout"
        }
      ]
    },
    {
      "cell_type": "code",
      "metadata": {
        "id": "lcAbRSa9rtJj",
        "colab_type": "code",
        "outputId": "0ee0b928-1cf4-4e0c-ebea-da8a9af8b510",
        "colab": {
          "base_uri": "https://localhost:8080/",
          "height": 480
        }
      },
      "source": [
        "f, ax = plt.subplots(figsize=(7, 7))\n",
        "ax.set(xscale=\"log\", yscale=\"log\")\n",
        "ax.set_title(\"Gráfico Rank-Frequencia considerando bigramas\")\n",
        "sns.regplot(\"Rank\", \"Freq\", stem_bigrams_df, ax=ax, fit_reg = False, scatter_kws={\"s\": 100})"
      ],
      "execution_count": 0,
      "outputs": [
        {
          "output_type": "execute_result",
          "data": {
            "text/plain": [
              "<matplotlib.axes._subplots.AxesSubplot at 0x7f1b89bd9e80>"
            ]
          },
          "metadata": {
            "tags": []
          },
          "execution_count": 31
        },
        {
          "output_type": "display_data",
          "data": {
            "image/png": "[encoded data removed]",
            "text/plain": [
              "<Figure size 504x504 with 1 Axes>"
            ]
          },
          "metadata": {
            "tags": []
          }
        }
      ]
    },
    {
      "cell_type": "markdown",
      "metadata": {
        "id": "gJE_ZOCPuThY",
        "colab_type": "text"
      },
      "source": [
        "Aqui o gráfico é mais semelhante ao do lab anterior, porem, neste lab, os bigramas estão mais concentrados no meio da reta. Existem mais concentrações isoladas quando o rank cresce, em relação ao gráfico anterior."
      ]
    }
  ]
}