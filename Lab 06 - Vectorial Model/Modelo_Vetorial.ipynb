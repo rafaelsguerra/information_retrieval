{
  "nbformat": 4,
  "nbformat_minor": 0,
  "metadata": {
    "colab": {
      "name": "Modelo Vetorial",
      "version": "0.3.2",
      "provenance": [],
      "collapsed_sections": [],
      "include_colab_link": true
    },
    "kernelspec": {
      "name": "python3",
      "display_name": "Python 3"
    }
  },
  "cells": [
    {
      "cell_type": "markdown",
      "metadata": {
        "id": "view-in-github",
        "colab_type": "text"
      },
      "source": [
        "<a href=\"https://colab.research.google.com/github/rafaelsguerra/information_retrieval/blob/master/Lab%2006%20-%20Vectorial%20Model/Modelo_Vetorial.ipynb\" target=\"_parent\"><img src=\"https://colab.research.google.com/assets/colab-badge.svg\" alt=\"Open In Colab\"/></a>"
      ]
    },
    {
      "cell_type": "code",
      "metadata": {
        "id": "IGKw5tA70uEu",
        "colab_type": "code",
        "outputId": "1ce9f14a-a30d-4cd0-c27e-d9d32f30708e",
        "colab": {
          "base_uri": "https://localhost:8080/",
          "height": 70
        }
      },
      "source": [
        "import collections\n",
        "import pandas as pd\n",
        "import numpy as np\n",
        "import re\n",
        "import nltk\n",
        "import heapq\n",
        "import math\n",
        "import itertools\n",
        "\n",
        "from nltk.tokenize import RegexpTokenizer\n",
        "from nltk.corpus import stopwords\n",
        "nltk.download('stopwords')"
      ],
      "execution_count": 1,
      "outputs": [
        {
          "output_type": "stream",
          "text": [
            "[nltk_data] Downloading package stopwords to /root/nltk_data...\n",
            "[nltk_data]   Package stopwords is already up-to-date!\n"
          ],
          "name": "stdout"
        },
        {
          "output_type": "execute_result",
          "data": {
            "text/plain": [
              "True"
            ]
          },
          "metadata": {
            "tags": []
          },
          "execution_count": 1
        }
      ]
    },
    {
      "cell_type": "code",
      "metadata": {
        "id": "X-evMNMx1BB7",
        "colab_type": "code",
        "colab": {}
      },
      "source": [
        "data = pd.read_csv('https://raw.githubusercontent.com/rafaelsguerra/information_retrieval/master/data/results.csv')\n",
        "data_title = data['title'].tolist()\n",
        "data_subtitle = data['subtitle'].tolist()\n",
        "data_text = data['text'].tolist()"
      ],
      "execution_count": 0,
      "outputs": []
    },
    {
      "cell_type": "code",
      "metadata": {
        "id": "Mi5D9ugs1Ttw",
        "colab_type": "code",
        "colab": {}
      },
      "source": [
        "def parse(document):  \n",
        "  tokenizer = RegexpTokenizer(r'\\b[A-zÀ-ú\\d\\-\\']+') \n",
        "  tokens = []\n",
        "\n",
        "  tokens.extend(tokenizer.tokenize(document.lower()))\n",
        "    \n",
        "  stop_words = stopwords.words('portuguese')\n",
        "\n",
        "  filtered_tokens = []\n",
        "\n",
        "  for token in tokens:\n",
        "    if token not in stop_words  and len(token) >= 2: # and len(token) > 2\n",
        "      filtered_tokens.append(token)\n",
        "  \n",
        "  return filtered_tokens"
      ],
      "execution_count": 0,
      "outputs": []
    },
    {
      "cell_type": "markdown",
      "metadata": {
        "id": "YHRRWoqm6rrc",
        "colab_type": "text"
      },
      "source": [
        "## Questões 1 e 2\n",
        "Reconstuir o índice invertido e incluir o IDF"
      ]
    },
    {
      "cell_type": "code",
      "metadata": {
        "id": "MlRSqF-71gX6",
        "colab_type": "code",
        "colab": {}
      },
      "source": [
        "# Retorna o índice invertido\n",
        "# Cada palavra tem uma lista invertida associada, no formato (score, documento)\n",
        "# O último elemento da lista invertida será o IDF associado à palavra\n",
        "\n",
        "def build_index(data): \n",
        "  inverted_list = {}\n",
        "  n = 0\n",
        "  number_of_docs = len(data_text)\n",
        "  \n",
        "  for document in data:\n",
        "    n = n + 1\n",
        "    tokens = parse(document)\n",
        "    \n",
        "    tokens_no_duplicates = collections.Counter(tokens)\n",
        "    \n",
        "    for token in tokens_no_duplicates.keys():\n",
        "      if token not in inverted_list:\n",
        "        inverted_list[token] = []\n",
        "      inverted_list[token].append((n, tokens_no_duplicates[token]))\n",
        "    \n",
        "  for token in inverted_list.keys():                                       # Neste laço é adicionado à lista invertida de cada palavra do documento seu respectivo idf\n",
        "    idf = math.log10((number_of_docs + 1) / len(inverted_list[token]))\n",
        "    inverted_list[token].append(idf)\n",
        "    \n",
        "    \n",
        "  return inverted_list"
      ],
      "execution_count": 0,
      "outputs": []
    },
    {
      "cell_type": "code",
      "metadata": {
        "id": "M1SjDP2h3vV3",
        "colab_type": "code",
        "colab": {}
      },
      "source": [
        "inverted_index = build_index(data_text)"
      ],
      "execution_count": 0,
      "outputs": []
    },
    {
      "cell_type": "code",
      "metadata": {
        "id": "ppu0IIQBDI1Z",
        "colab_type": "code",
        "colab": {}
      },
      "source": [
        "#Questão 3"
      ],
      "execution_count": 0,
      "outputs": []
    },
    {
      "cell_type": "markdown",
      "metadata": {
        "id": "WusorrKP7eQM",
        "colab_type": "text"
      },
      "source": [
        "## Questão 3\n",
        "Implementação das versões do modelo vetorial: representação binária, TF, TF-IDF e BM25"
      ]
    },
    {
      "cell_type": "code",
      "metadata": {
        "id": "U5Q7efSADNd_",
        "colab_type": "code",
        "colab": {}
      },
      "source": [
        "def binary_rep(query, document_index, data):\n",
        "  score = 0\n",
        "  \n",
        "  query = parse(query)\n",
        "  \n",
        "  for word in set(query):\n",
        "    if word in data[document_index] :\n",
        "      score += 1\n",
        "  \n",
        "  return score"
      ],
      "execution_count": 0,
      "outputs": []
    },
    {
      "cell_type": "code",
      "metadata": {
        "id": "37e28t2dr3S5",
        "colab_type": "code",
        "colab": {}
      },
      "source": [
        "def tf(query, document_index, data):\n",
        "  score = 0\n",
        "  \n",
        "  query = parse(query)  \n",
        "  document = parse(data[document_index])\n",
        "  \n",
        "  counter_query = collections.Counter(query)\n",
        "  counter_doc = collections.Counter(document)\n",
        "  \n",
        "  for word in set(query):\n",
        "    if word in data[document_index]:\n",
        "      score += counter_query[word] * counter_doc[word]\n",
        "      \n",
        "  return score  "
      ],
      "execution_count": 0,
      "outputs": []
    },
    {
      "cell_type": "code",
      "metadata": {
        "id": "7WU7hQcK0cH9",
        "colab_type": "code",
        "colab": {}
      },
      "source": [
        "def tf_idf(query, document_index, data, inverted_index):\n",
        "  score = 0\n",
        "  \n",
        "  query = parse(query)  \n",
        "  document = parse(data[document_index])\n",
        "  \n",
        "  counter_query = collections.Counter(query)\n",
        "  counter_doc = collections.Counter(document)\n",
        "  \n",
        "  for word in set(query):\n",
        "    if word in data[document_index]:\n",
        "      score += counter_query[word] * (counter_doc[word] * inverted_index[word][-1])\n",
        "      \n",
        "  return score  "
      ],
      "execution_count": 0,
      "outputs": []
    },
    {
      "cell_type": "code",
      "metadata": {
        "id": "KBSl2MfHAPpg",
        "colab_type": "code",
        "colab": {}
      },
      "source": [
        "def bm_25(query, document_index, data, inverted_index, k):\n",
        "  score = 0\n",
        "  \n",
        "  query = parse(query)\n",
        "  document = parse(data[document_index])\n",
        "  \n",
        "  for word in list(set(query)):\n",
        "    count_word_query = query.count(word)\n",
        "    count_word_doc = document.count(word)\n",
        "    y = ((k + 1) * count_word_doc) / (count_word_doc + k)\n",
        "    document_frequency = len(inverted_index[word]) - 1\n",
        "    \n",
        "    score += count_word_query * y * math.log10((len(data) + 1) / document_frequency)\n",
        "    \n",
        "  return score  "
      ],
      "execution_count": 0,
      "outputs": []
    },
    {
      "cell_type": "markdown",
      "metadata": {
        "id": "jwNvIlL8Lr7V",
        "colab_type": "text"
      },
      "source": [
        "Aqui foi determinado um valor para k de modo a obter uma suavização dos resultados para scores muito grandes. Para isso, foi escolhida uma consulta e um documento aleatórios. Vejamos como o resultado da consulta se altera, dado determinado k. Observe como o ritmo de crescimento do resultado diminui, à medida que o valor de k cresce: a diferença dos resultados entre k = 1 e k = 10 é de aproximadamente 3.8, enquanto que a diferença entre k = 10 e k = 20 é aproximadamente 0.78."
      ]
    },
    {
      "cell_type": "code",
      "metadata": {
        "id": "PSBps7U-L_ck",
        "colab_type": "code",
        "colab": {
          "base_uri": "https://localhost:8080/",
          "height": 677
        },
        "outputId": "e9947db5-126b-4af9-bd5d-1efb7dc4ae73"
      },
      "source": [
        "k = 1\n",
        "k_values = []\n",
        "results = []\n",
        "\n",
        "for k in [x * 0.1 for x in range(0,201,10)]:\n",
        "  res = bm_25(\"golpe de estado\",165, data_text, inverted_index, k)\n",
        "  results.append(res)\n",
        "  k_values.append(k)\n",
        "  \n",
        "df = pd.DataFrame({'k':k_values, 'resultado bm25':results})\n",
        "df"
      ],
      "execution_count": 11,
      "outputs": [
        {
          "output_type": "execute_result",
          "data": {
            "text/html": [
              "<div>\n",
              "<style scoped>\n",
              "    .dataframe tbody tr th:only-of-type {\n",
              "        vertical-align: middle;\n",
              "    }\n",
              "\n",
              "    .dataframe tbody tr th {\n",
              "        vertical-align: top;\n",
              "    }\n",
              "\n",
              "    .dataframe thead th {\n",
              "        text-align: right;\n",
              "    }\n",
              "</style>\n",
              "<table border=\"1\" class=\"dataframe\">\n",
              "  <thead>\n",
              "    <tr style=\"text-align: right;\">\n",
              "      <th></th>\n",
              "      <th>k</th>\n",
              "      <th>resultado bm25</th>\n",
              "    </tr>\n",
              "  </thead>\n",
              "  <tbody>\n",
              "    <tr>\n",
              "      <th>0</th>\n",
              "      <td>0.0</td>\n",
              "      <td>1.561363</td>\n",
              "    </tr>\n",
              "    <tr>\n",
              "      <th>1</th>\n",
              "      <td>1.0</td>\n",
              "      <td>2.483919</td>\n",
              "    </tr>\n",
              "    <tr>\n",
              "      <th>2</th>\n",
              "      <td>2.0</td>\n",
              "      <td>3.133682</td>\n",
              "    </tr>\n",
              "    <tr>\n",
              "      <th>3</th>\n",
              "      <td>3.0</td>\n",
              "      <td>3.624066</td>\n",
              "    </tr>\n",
              "    <tr>\n",
              "      <th>4</th>\n",
              "      <td>4.0</td>\n",
              "      <td>4.009628</td>\n",
              "    </tr>\n",
              "    <tr>\n",
              "      <th>5</th>\n",
              "      <td>5.0</td>\n",
              "      <td>4.321584</td>\n",
              "    </tr>\n",
              "    <tr>\n",
              "      <th>6</th>\n",
              "      <td>6.0</td>\n",
              "      <td>4.579540</td>\n",
              "    </tr>\n",
              "    <tr>\n",
              "      <th>7</th>\n",
              "      <td>7.0</td>\n",
              "      <td>4.796575</td>\n",
              "    </tr>\n",
              "    <tr>\n",
              "      <th>8</th>\n",
              "      <td>8.0</td>\n",
              "      <td>4.981803</td>\n",
              "    </tr>\n",
              "    <tr>\n",
              "      <th>9</th>\n",
              "      <td>9.0</td>\n",
              "      <td>5.141788</td>\n",
              "    </tr>\n",
              "    <tr>\n",
              "      <th>10</th>\n",
              "      <td>10.0</td>\n",
              "      <td>5.281392</td>\n",
              "    </tr>\n",
              "    <tr>\n",
              "      <th>11</th>\n",
              "      <td>11.0</td>\n",
              "      <td>5.404295</td>\n",
              "    </tr>\n",
              "    <tr>\n",
              "      <th>12</th>\n",
              "      <td>12.0</td>\n",
              "      <td>5.513336</td>\n",
              "    </tr>\n",
              "    <tr>\n",
              "      <th>13</th>\n",
              "      <td>13.0</td>\n",
              "      <td>5.610742</td>\n",
              "    </tr>\n",
              "    <tr>\n",
              "      <th>14</th>\n",
              "      <td>14.0</td>\n",
              "      <td>5.698288</td>\n",
              "    </tr>\n",
              "    <tr>\n",
              "      <th>15</th>\n",
              "      <td>15.0</td>\n",
              "      <td>5.777402</td>\n",
              "    </tr>\n",
              "    <tr>\n",
              "      <th>16</th>\n",
              "      <td>16.0</td>\n",
              "      <td>5.849248</td>\n",
              "    </tr>\n",
              "    <tr>\n",
              "      <th>17</th>\n",
              "      <td>17.0</td>\n",
              "      <td>5.914786</td>\n",
              "    </tr>\n",
              "    <tr>\n",
              "      <th>18</th>\n",
              "      <td>18.0</td>\n",
              "      <td>5.974814</td>\n",
              "    </tr>\n",
              "    <tr>\n",
              "      <th>19</th>\n",
              "      <td>19.0</td>\n",
              "      <td>6.029998</td>\n",
              "    </tr>\n",
              "    <tr>\n",
              "      <th>20</th>\n",
              "      <td>20.0</td>\n",
              "      <td>6.080904</td>\n",
              "    </tr>\n",
              "  </tbody>\n",
              "</table>\n",
              "</div>"
            ],
            "text/plain": [
              "       k  resultado bm25\n",
              "0    0.0        1.561363\n",
              "1    1.0        2.483919\n",
              "2    2.0        3.133682\n",
              "3    3.0        3.624066\n",
              "4    4.0        4.009628\n",
              "5    5.0        4.321584\n",
              "6    6.0        4.579540\n",
              "7    7.0        4.796575\n",
              "8    8.0        4.981803\n",
              "9    9.0        5.141788\n",
              "10  10.0        5.281392\n",
              "11  11.0        5.404295\n",
              "12  12.0        5.513336\n",
              "13  13.0        5.610742\n",
              "14  14.0        5.698288\n",
              "15  15.0        5.777402\n",
              "16  16.0        5.849248\n",
              "17  17.0        5.914786\n",
              "18  18.0        5.974814\n",
              "19  19.0        6.029998\n",
              "20  20.0        6.080904"
            ]
          },
          "metadata": {
            "tags": []
          },
          "execution_count": 11
        }
      ]
    },
    {
      "cell_type": "markdown",
      "metadata": {
        "id": "JeCygIJoSnMt",
        "colab_type": "text"
      },
      "source": [
        "Neste lab não foi feita normalização do tamanho dos documentos, visto que eles não se alteram muito. Portanto, ao desconsiderar essa normalização, um valor muito comum para K, de acordo com experimentos feitos pela TREC, é 1.2, que será usado de agora em diante."
      ]
    },
    {
      "cell_type": "markdown",
      "metadata": {
        "id": "1V-ZFaIx79Tv",
        "colab_type": "text"
      },
      "source": [
        "## Questão 4\n",
        "Executar as implementações em 3 queries diferentes, retornando os top 5 documentos mais similares a cada query"
      ]
    },
    {
      "cell_type": "code",
      "metadata": {
        "id": "DMkzWhwVOSUI",
        "colab_type": "code",
        "colab": {}
      },
      "source": [
        "from IPython.display import display, HTML\n",
        "pd.options.display.max_colwidth = 500"
      ],
      "execution_count": 0,
      "outputs": []
    },
    {
      "cell_type": "code",
      "metadata": {
        "id": "xWu3urizniKE",
        "colab_type": "code",
        "colab": {}
      },
      "source": [
        "def generate_table(docs, titles, subtitles):\n",
        "  df = {'title': [], 'subtitle': []}\n",
        "  for document in docs:\n",
        "    df['title'].append(titles[document])\n",
        "    df['subtitle'].append(subtitles[document])\n",
        "\n",
        "  df = pd.DataFrame.from_dict(df)\n",
        "  return df"
      ],
      "execution_count": 0,
      "outputs": []
    },
    {
      "cell_type": "code",
      "metadata": {
        "id": "QGirCDwunsYp",
        "colab_type": "code",
        "colab": {
          "base_uri": "https://localhost:8080/",
          "height": 3716
        },
        "outputId": "810d7c43-63d1-4e3e-b1c8-4f88fa11dacc"
      },
      "source": [
        "queries = ['golpe de estado', 'campeonato brasileiro', 'crise na venezuela']\n",
        "\n",
        "for query in queries:\n",
        "  \n",
        "  scores_br = {}\n",
        "  scores_tf = {}\n",
        "  scores_tf_idf = {}\n",
        "  scores_bm_25 = {}\n",
        "\n",
        "  for document in list(range(len(data_text))):\n",
        "  \n",
        "    scores_br[document] = binary_rep(query, document, data_text)\n",
        "    scores_tf[document] = tf(query, document, data_text)\n",
        "    scores_tf_idf[document] = tf_idf(query, document, data_text, inverted_index)\n",
        "    scores_bm_25[document] = bm_25(query, document, data_text, inverted_index, 1.2)\n",
        "\n",
        "  top5_scores_br_docs = heapq.nlargest(5, scores_br, key=scores_br.get)\n",
        "  top5_scores_tf_docs = heapq.nlargest(5, scores_tf, key=scores_tf.get)\n",
        "  top5_scores_tf_idf_docs = heapq.nlargest(5, scores_tf_idf, key=scores_tf_idf.get)\n",
        "  top5_scores_bm_25_docs = heapq.nlargest(5, scores_bm_25, key=scores_bm_25.get)\n",
        "  \n",
        "  print('Utilizando a query \\\"' + query + '\\\":')\n",
        "  print(\"Método da representação binária\")\n",
        "  display(generate_table(top5_scores_br_docs, data_title, data_subtitle))\n",
        "  print('\\n')\n",
        "\n",
        "  print(\"Método tf\")\n",
        "  display(generate_table(top5_scores_tf_docs, data_title, data_subtitle))\n",
        "  print('\\n')\n",
        "\n",
        "  print(\"Método tf-idf\")\n",
        "  display(generate_table(top5_scores_tf_idf_docs, data_title, data_subtitle))\n",
        "  print('\\n')\n",
        "\n",
        "  print(\"Método bm-25\")\n",
        "  display(generate_table(top5_scores_bm_25_docs, data_title, data_subtitle))\n",
        "  print('\\n')"
      ],
      "execution_count": 14,
      "outputs": [
        {
          "output_type": "stream",
          "text": [
            "Utilizando a query \"golpe de estado\":\n",
            "Método da representação binária\n"
          ],
          "name": "stdout"
        },
        {
          "output_type": "display_data",
          "data": {
            "text/html": [
              "<div>\n",
              "<style scoped>\n",
              "    .dataframe tbody tr th:only-of-type {\n",
              "        vertical-align: middle;\n",
              "    }\n",
              "\n",
              "    .dataframe tbody tr th {\n",
              "        vertical-align: top;\n",
              "    }\n",
              "\n",
              "    .dataframe thead th {\n",
              "        text-align: right;\n",
              "    }\n",
              "</style>\n",
              "<table border=\"1\" class=\"dataframe\">\n",
              "  <thead>\n",
              "    <tr style=\"text-align: right;\">\n",
              "      <th></th>\n",
              "      <th>title</th>\n",
              "      <th>subtitle</th>\n",
              "    </tr>\n",
              "  </thead>\n",
              "  <tbody>\n",
              "    <tr>\n",
              "      <th>0</th>\n",
              "      <td>Boris Fausto e o golpe de 64: “É impossível ir contra fatos estabelecidos”</td>\n",
              "      <td>Historiador diz que as Forças Armadas nunca reconheceram os aspectos mais negativos do regime militar e que não havia ameaça imediata de implantação de um regime comunista</td>\n",
              "    </tr>\n",
              "    <tr>\n",
              "      <th>1</th>\n",
              "      <td>Milícia  o exército popular a serviço de Maduro</td>\n",
              "      <td>O poder do líder bolivariano na Venezuela se baseia no exército e nas milícias  um corpo de um milhão de pessoas treinadas com vassouras e rifles  que prometem dar suas vidas pela Revolução</td>\n",
              "    </tr>\n",
              "    <tr>\n",
              "      <th>2</th>\n",
              "      <td>“Não me arrependo de nada”</td>\n",
              "      <td>Procurador do caso Herzog que acobertou torturadores e pediu pena de morte para militantes  Durval Ayrton Moura de Araújo  de 99 anos  conversa com o EL PAÍS</td>\n",
              "    </tr>\n",
              "    <tr>\n",
              "      <th>3</th>\n",
              "      <td>Quem pagou pelo vídeo revisionista da ditadura distribuído pelo Governo Bolsonaro?</td>\n",
              "      <td>“É preciso saber se foi pago com recursos públicos”  diz Gil Castello Branco  do Contas Abertas. Ao 'Globo'  ator disse ter sido pago. Mourão disse que ideia foi de Bolsonaro</td>\n",
              "    </tr>\n",
              "    <tr>\n",
              "      <th>4</th>\n",
              "      <td>Ministro promete mudar livros didáticos por “visão mais ampla” da ditadura</td>\n",
              "      <td>Em entrevista ao 'Valor'  Ricardo Vélez  da Educação  diz que não ocorreu um golpe em 1964</td>\n",
              "    </tr>\n",
              "  </tbody>\n",
              "</table>\n",
              "</div>"
            ],
            "text/plain": [
              "                                                                                title                                                                                                                                                                                       subtitle\n",
              "0          Boris Fausto e o golpe de 64: “É impossível ir contra fatos estabelecidos”                    Historiador diz que as Forças Armadas nunca reconheceram os aspectos mais negativos do regime militar e que não havia ameaça imediata de implantação de um regime comunista\n",
              "1                                     Milícia  o exército popular a serviço de Maduro  O poder do líder bolivariano na Venezuela se baseia no exército e nas milícias  um corpo de um milhão de pessoas treinadas com vassouras e rifles  que prometem dar suas vidas pela Revolução\n",
              "2                                                          “Não me arrependo de nada”                                  Procurador do caso Herzog que acobertou torturadores e pediu pena de morte para militantes  Durval Ayrton Moura de Araújo  de 99 anos  conversa com o EL PAÍS\n",
              "3  Quem pagou pelo vídeo revisionista da ditadura distribuído pelo Governo Bolsonaro?                 “É preciso saber se foi pago com recursos públicos”  diz Gil Castello Branco  do Contas Abertas. Ao 'Globo'  ator disse ter sido pago. Mourão disse que ideia foi de Bolsonaro\n",
              "4          Ministro promete mudar livros didáticos por “visão mais ampla” da ditadura                                                                                                     Em entrevista ao 'Valor'  Ricardo Vélez  da Educação  diz que não ocorreu um golpe em 1964"
            ]
          },
          "metadata": {
            "tags": []
          }
        },
        {
          "output_type": "stream",
          "text": [
            "\n",
            "\n",
            "Método tf\n"
          ],
          "name": "stdout"
        },
        {
          "output_type": "display_data",
          "data": {
            "text/html": [
              "<div>\n",
              "<style scoped>\n",
              "    .dataframe tbody tr th:only-of-type {\n",
              "        vertical-align: middle;\n",
              "    }\n",
              "\n",
              "    .dataframe tbody tr th {\n",
              "        vertical-align: top;\n",
              "    }\n",
              "\n",
              "    .dataframe thead th {\n",
              "        text-align: right;\n",
              "    }\n",
              "</style>\n",
              "<table border=\"1\" class=\"dataframe\">\n",
              "  <thead>\n",
              "    <tr style=\"text-align: right;\">\n",
              "      <th></th>\n",
              "      <th>title</th>\n",
              "      <th>subtitle</th>\n",
              "    </tr>\n",
              "  </thead>\n",
              "  <tbody>\n",
              "    <tr>\n",
              "      <th>0</th>\n",
              "      <td>Boris Fausto e o golpe de 64: “É impossível ir contra fatos estabelecidos”</td>\n",
              "      <td>Historiador diz que as Forças Armadas nunca reconheceram os aspectos mais negativos do regime militar e que não havia ameaça imediata de implantação de um regime comunista</td>\n",
              "    </tr>\n",
              "    <tr>\n",
              "      <th>1</th>\n",
              "      <td>“Lógica de usar torturadores da ditadura no crime foi usada nas milícias”</td>\n",
              "      <td>Aloy Jupiara  coautor de 'Os porões da contravenção'  fala sobre o legado de profissionalização do crime deixado pelos anos de chumbo que perdura até hoje</td>\n",
              "    </tr>\n",
              "    <tr>\n",
              "      <th>2</th>\n",
              "      <td>As três espanholas do Estado Islâmico: “Só queremos ir embora”</td>\n",
              "      <td>EL PAÍS localiza  em meio a milhares de famílias jihadistas num campo de acolhida  três mulheres que viajaram com seus maridos para a Síria em 2014 e sobreviveram ao desmoronamento do califado</td>\n",
              "    </tr>\n",
              "    <tr>\n",
              "      <th>3</th>\n",
              "      <td>Governo Bolsonaro prega “negacionismo histórico” sobre a ditadura</td>\n",
              "      <td>Marcos Napolitano  professor da USP  diz que o discurso do Governo Bolsonaro sobre o golpe de 64 está mais para negacionismo  pois “tem um ponto de partida ideológico  com objetivo de ocultar o passado”</td>\n",
              "    </tr>\n",
              "    <tr>\n",
              "      <th>4</th>\n",
              "      <td>Bolsonaro manda festejar o crime</td>\n",
              "      <td>Ao determinar a comemoração do golpe militar de 1964  o antipresidente busca manter o ódio ativo e barrar qualquer possibilidade de justiça</td>\n",
              "    </tr>\n",
              "  </tbody>\n",
              "</table>\n",
              "</div>"
            ],
            "text/plain": [
              "                                                                        title                                                                                                                                                                                                    subtitle\n",
              "0  Boris Fausto e o golpe de 64: “É impossível ir contra fatos estabelecidos”                                 Historiador diz que as Forças Armadas nunca reconheceram os aspectos mais negativos do regime militar e que não havia ameaça imediata de implantação de um regime comunista\n",
              "1   “Lógica de usar torturadores da ditadura no crime foi usada nas milícias”                                                  Aloy Jupiara  coautor de 'Os porões da contravenção'  fala sobre o legado de profissionalização do crime deixado pelos anos de chumbo que perdura até hoje\n",
              "2              As três espanholas do Estado Islâmico: “Só queremos ir embora”            EL PAÍS localiza  em meio a milhares de famílias jihadistas num campo de acolhida  três mulheres que viajaram com seus maridos para a Síria em 2014 e sobreviveram ao desmoronamento do califado\n",
              "3           Governo Bolsonaro prega “negacionismo histórico” sobre a ditadura  Marcos Napolitano  professor da USP  diz que o discurso do Governo Bolsonaro sobre o golpe de 64 está mais para negacionismo  pois “tem um ponto de partida ideológico  com objetivo de ocultar o passado”\n",
              "4                                            Bolsonaro manda festejar o crime                                                                 Ao determinar a comemoração do golpe militar de 1964  o antipresidente busca manter o ódio ativo e barrar qualquer possibilidade de justiça"
            ]
          },
          "metadata": {
            "tags": []
          }
        },
        {
          "output_type": "stream",
          "text": [
            "\n",
            "\n",
            "Método tf-idf\n"
          ],
          "name": "stdout"
        },
        {
          "output_type": "display_data",
          "data": {
            "text/html": [
              "<div>\n",
              "<style scoped>\n",
              "    .dataframe tbody tr th:only-of-type {\n",
              "        vertical-align: middle;\n",
              "    }\n",
              "\n",
              "    .dataframe tbody tr th {\n",
              "        vertical-align: top;\n",
              "    }\n",
              "\n",
              "    .dataframe thead th {\n",
              "        text-align: right;\n",
              "    }\n",
              "</style>\n",
              "<table border=\"1\" class=\"dataframe\">\n",
              "  <thead>\n",
              "    <tr style=\"text-align: right;\">\n",
              "      <th></th>\n",
              "      <th>title</th>\n",
              "      <th>subtitle</th>\n",
              "    </tr>\n",
              "  </thead>\n",
              "  <tbody>\n",
              "    <tr>\n",
              "      <th>0</th>\n",
              "      <td>Boris Fausto e o golpe de 64: “É impossível ir contra fatos estabelecidos”</td>\n",
              "      <td>Historiador diz que as Forças Armadas nunca reconheceram os aspectos mais negativos do regime militar e que não havia ameaça imediata de implantação de um regime comunista</td>\n",
              "    </tr>\n",
              "    <tr>\n",
              "      <th>1</th>\n",
              "      <td>Governo Bolsonaro prega “negacionismo histórico” sobre a ditadura</td>\n",
              "      <td>Marcos Napolitano  professor da USP  diz que o discurso do Governo Bolsonaro sobre o golpe de 64 está mais para negacionismo  pois “tem um ponto de partida ideológico  com objetivo de ocultar o passado”</td>\n",
              "    </tr>\n",
              "    <tr>\n",
              "      <th>2</th>\n",
              "      <td>Bolsonaro manda festejar o crime</td>\n",
              "      <td>Ao determinar a comemoração do golpe militar de 1964  o antipresidente busca manter o ódio ativo e barrar qualquer possibilidade de justiça</td>\n",
              "    </tr>\n",
              "    <tr>\n",
              "      <th>3</th>\n",
              "      <td>Celebrar o golpe representa uma derrota para a democracia</td>\n",
              "      <td>A eleição de Bolsonaro e sua decisão de comemorar o golpe representam simbólica e  espero  provisoriamente  a vitória da memória e do sentimento autoritário</td>\n",
              "    </tr>\n",
              "    <tr>\n",
              "      <th>4</th>\n",
              "      <td>Bolsonaro escancara cadáver insepulto da ditadura com celebração do golpe</td>\n",
              "      <td>Com medida simbólica  presidente determinou que Forças Armadas façam \"comemorações devidas\" da data</td>\n",
              "    </tr>\n",
              "  </tbody>\n",
              "</table>\n",
              "</div>"
            ],
            "text/plain": [
              "                                                                        title                                                                                                                                                                                                    subtitle\n",
              "0  Boris Fausto e o golpe de 64: “É impossível ir contra fatos estabelecidos”                                 Historiador diz que as Forças Armadas nunca reconheceram os aspectos mais negativos do regime militar e que não havia ameaça imediata de implantação de um regime comunista\n",
              "1           Governo Bolsonaro prega “negacionismo histórico” sobre a ditadura  Marcos Napolitano  professor da USP  diz que o discurso do Governo Bolsonaro sobre o golpe de 64 está mais para negacionismo  pois “tem um ponto de partida ideológico  com objetivo de ocultar o passado”\n",
              "2                                            Bolsonaro manda festejar o crime                                                                 Ao determinar a comemoração do golpe militar de 1964  o antipresidente busca manter o ódio ativo e barrar qualquer possibilidade de justiça\n",
              "3                   Celebrar o golpe representa uma derrota para a democracia                                                A eleição de Bolsonaro e sua decisão de comemorar o golpe representam simbólica e  espero  provisoriamente  a vitória da memória e do sentimento autoritário\n",
              "4   Bolsonaro escancara cadáver insepulto da ditadura com celebração do golpe                                                                                                         Com medida simbólica  presidente determinou que Forças Armadas façam \"comemorações devidas\" da data"
            ]
          },
          "metadata": {
            "tags": []
          }
        },
        {
          "output_type": "stream",
          "text": [
            "\n",
            "\n",
            "Método bm-25\n"
          ],
          "name": "stdout"
        },
        {
          "output_type": "display_data",
          "data": {
            "text/html": [
              "<div>\n",
              "<style scoped>\n",
              "    .dataframe tbody tr th:only-of-type {\n",
              "        vertical-align: middle;\n",
              "    }\n",
              "\n",
              "    .dataframe tbody tr th {\n",
              "        vertical-align: top;\n",
              "    }\n",
              "\n",
              "    .dataframe thead th {\n",
              "        text-align: right;\n",
              "    }\n",
              "</style>\n",
              "<table border=\"1\" class=\"dataframe\">\n",
              "  <thead>\n",
              "    <tr style=\"text-align: right;\">\n",
              "      <th></th>\n",
              "      <th>title</th>\n",
              "      <th>subtitle</th>\n",
              "    </tr>\n",
              "  </thead>\n",
              "  <tbody>\n",
              "    <tr>\n",
              "      <th>0</th>\n",
              "      <td>Boris Fausto e o golpe de 64: “É impossível ir contra fatos estabelecidos”</td>\n",
              "      <td>Historiador diz que as Forças Armadas nunca reconheceram os aspectos mais negativos do regime militar e que não havia ameaça imediata de implantação de um regime comunista</td>\n",
              "    </tr>\n",
              "    <tr>\n",
              "      <th>1</th>\n",
              "      <td>Bolsonaro manda festejar o crime</td>\n",
              "      <td>Ao determinar a comemoração do golpe militar de 1964  o antipresidente busca manter o ódio ativo e barrar qualquer possibilidade de justiça</td>\n",
              "    </tr>\n",
              "    <tr>\n",
              "      <th>2</th>\n",
              "      <td>Celebrar o golpe representa uma derrota para a democracia</td>\n",
              "      <td>A eleição de Bolsonaro e sua decisão de comemorar o golpe representam simbólica e  espero  provisoriamente  a vitória da memória e do sentimento autoritário</td>\n",
              "    </tr>\n",
              "    <tr>\n",
              "      <th>3</th>\n",
              "      <td>Governo Bolsonaro prega “negacionismo histórico” sobre a ditadura</td>\n",
              "      <td>Marcos Napolitano  professor da USP  diz que o discurso do Governo Bolsonaro sobre o golpe de 64 está mais para negacionismo  pois “tem um ponto de partida ideológico  com objetivo de ocultar o passado”</td>\n",
              "    </tr>\n",
              "    <tr>\n",
              "      <th>4</th>\n",
              "      <td>“A sociedade foi Rubens Paiva  não os facínoras que o mataram”</td>\n",
              "      <td>A decisão da juíza que proíbe as Forças Armadas de celebrarem golpe de 1964 contrapõe texto de militares ao de Ulysses Guimarães na Constituinte. Gilmar Mendes rejeita análise do tema</td>\n",
              "    </tr>\n",
              "  </tbody>\n",
              "</table>\n",
              "</div>"
            ],
            "text/plain": [
              "                                                                        title                                                                                                                                                                                                    subtitle\n",
              "0  Boris Fausto e o golpe de 64: “É impossível ir contra fatos estabelecidos”                                 Historiador diz que as Forças Armadas nunca reconheceram os aspectos mais negativos do regime militar e que não havia ameaça imediata de implantação de um regime comunista\n",
              "1                                            Bolsonaro manda festejar o crime                                                                 Ao determinar a comemoração do golpe militar de 1964  o antipresidente busca manter o ódio ativo e barrar qualquer possibilidade de justiça\n",
              "2                   Celebrar o golpe representa uma derrota para a democracia                                                A eleição de Bolsonaro e sua decisão de comemorar o golpe representam simbólica e  espero  provisoriamente  a vitória da memória e do sentimento autoritário\n",
              "3           Governo Bolsonaro prega “negacionismo histórico” sobre a ditadura  Marcos Napolitano  professor da USP  diz que o discurso do Governo Bolsonaro sobre o golpe de 64 está mais para negacionismo  pois “tem um ponto de partida ideológico  com objetivo de ocultar o passado”\n",
              "4              “A sociedade foi Rubens Paiva  não os facínoras que o mataram”                     A decisão da juíza que proíbe as Forças Armadas de celebrarem golpe de 1964 contrapõe texto de militares ao de Ulysses Guimarães na Constituinte. Gilmar Mendes rejeita análise do tema"
            ]
          },
          "metadata": {
            "tags": []
          }
        },
        {
          "output_type": "stream",
          "text": [
            "\n",
            "\n",
            "Utilizando a query \"campeonato brasileiro\":\n",
            "Método da representação binária\n"
          ],
          "name": "stdout"
        },
        {
          "output_type": "display_data",
          "data": {
            "text/html": [
              "<div>\n",
              "<style scoped>\n",
              "    .dataframe tbody tr th:only-of-type {\n",
              "        vertical-align: middle;\n",
              "    }\n",
              "\n",
              "    .dataframe tbody tr th {\n",
              "        vertical-align: top;\n",
              "    }\n",
              "\n",
              "    .dataframe thead th {\n",
              "        text-align: right;\n",
              "    }\n",
              "</style>\n",
              "<table border=\"1\" class=\"dataframe\">\n",
              "  <thead>\n",
              "    <tr style=\"text-align: right;\">\n",
              "      <th></th>\n",
              "      <th>title</th>\n",
              "      <th>subtitle</th>\n",
              "    </tr>\n",
              "  </thead>\n",
              "  <tbody>\n",
              "    <tr>\n",
              "      <th>0</th>\n",
              "      <td>Eder Militão  o zagueiro mais caro da história do Real Madrid e primeiro reforço de Zidane</td>\n",
              "      <td>Revelado pelo São Paulo  o versátil defensor foi comprado do Porto por 50 milhões de euros e chega ao fim da temporada</td>\n",
              "    </tr>\n",
              "    <tr>\n",
              "      <th>1</th>\n",
              "      <td>Ajax faz um carnaval no Bernabéu  goleia o Real Madrid e avança às quartas da Champions League</td>\n",
              "      <td>Time merengue perde Vinicius Junior  machucado  e volta a dar vexame em casa.</td>\n",
              "    </tr>\n",
              "    <tr>\n",
              "      <th>2</th>\n",
              "      <td>Rosângela  uma das crianças sequestradas por famílias de militares na ditadura</td>\n",
              "      <td>“Roubaram minha identidade”  diz Rosângela Paraná  cuja certidão de nascimento foi forjada pelo avô sargento.</td>\n",
              "    </tr>\n",
              "    <tr>\n",
              "      <th>3</th>\n",
              "      <td>Bolsonaro troca embaixada por escritório em Jerusalém  mas não evita retaliação palestina</td>\n",
              "      <td>Autoridade Palestina convoca embaixador no Brasil para consultas. Em visita ao Muro das Lamentações  presidente diz que palestinos têm o “direito de reclamar\"</td>\n",
              "    </tr>\n",
              "    <tr>\n",
              "      <th>4</th>\n",
              "      <td>A morte do inocente neto de Lula soltou os monstros do ódio</td>\n",
              "      <td>Cai sobre nossa consciência de adultos a infâmia de transformar em piadas baratas  em ironia e sarcasmo a dor de um avô pela perda de seu neto</td>\n",
              "    </tr>\n",
              "  </tbody>\n",
              "</table>\n",
              "</div>"
            ],
            "text/plain": [
              "                                                                                            title                                                                                                                                                        subtitle\n",
              "0      Eder Militão  o zagueiro mais caro da história do Real Madrid e primeiro reforço de Zidane                                          Revelado pelo São Paulo  o versátil defensor foi comprado do Porto por 50 milhões de euros e chega ao fim da temporada\n",
              "1  Ajax faz um carnaval no Bernabéu  goleia o Real Madrid e avança às quartas da Champions League                                                                                   Time merengue perde Vinicius Junior  machucado  e volta a dar vexame em casa.\n",
              "2                  Rosângela  uma das crianças sequestradas por famílias de militares na ditadura                                                   “Roubaram minha identidade”  diz Rosângela Paraná  cuja certidão de nascimento foi forjada pelo avô sargento.\n",
              "3       Bolsonaro troca embaixada por escritório em Jerusalém  mas não evita retaliação palestina  Autoridade Palestina convoca embaixador no Brasil para consultas. Em visita ao Muro das Lamentações  presidente diz que palestinos têm o “direito de reclamar\"\n",
              "4                                     A morte do inocente neto de Lula soltou os monstros do ódio                  Cai sobre nossa consciência de adultos a infâmia de transformar em piadas baratas  em ironia e sarcasmo a dor de um avô pela perda de seu neto"
            ]
          },
          "metadata": {
            "tags": []
          }
        },
        {
          "output_type": "stream",
          "text": [
            "\n",
            "\n",
            "Método tf\n"
          ],
          "name": "stdout"
        },
        {
          "output_type": "display_data",
          "data": {
            "text/html": [
              "<div>\n",
              "<style scoped>\n",
              "    .dataframe tbody tr th:only-of-type {\n",
              "        vertical-align: middle;\n",
              "    }\n",
              "\n",
              "    .dataframe tbody tr th {\n",
              "        vertical-align: top;\n",
              "    }\n",
              "\n",
              "    .dataframe thead th {\n",
              "        text-align: right;\n",
              "    }\n",
              "</style>\n",
              "<table border=\"1\" class=\"dataframe\">\n",
              "  <thead>\n",
              "    <tr style=\"text-align: right;\">\n",
              "      <th></th>\n",
              "      <th>title</th>\n",
              "      <th>subtitle</th>\n",
              "    </tr>\n",
              "  </thead>\n",
              "  <tbody>\n",
              "    <tr>\n",
              "      <th>0</th>\n",
              "      <td>Eder Militão  o zagueiro mais caro da história do Real Madrid e primeiro reforço de Zidane</td>\n",
              "      <td>Revelado pelo São Paulo  o versátil defensor foi comprado do Porto por 50 milhões de euros e chega ao fim da temporada</td>\n",
              "    </tr>\n",
              "    <tr>\n",
              "      <th>1</th>\n",
              "      <td>Em gesto inédito  Bolsonaro visita o Muro das Lamentações com Netanyahu</td>\n",
              "      <td>Gesto pode ser tido como reconhecimento tácito da soberania israelense nessa parte de Jerusalém.</td>\n",
              "    </tr>\n",
              "    <tr>\n",
              "      <th>2</th>\n",
              "      <td>Após acenar com embaixada  Bolsonaro anuncia escritório comercial em Jerusalém</td>\n",
              "      <td>Presidente anuncia espaço para promoção comercial na cidade que tem peso estratégico para o Governo de Benjamin Netanyahu. Israel anuncia “forte apoio” à entrada do Brasil na OCDE</td>\n",
              "    </tr>\n",
              "    <tr>\n",
              "      <th>3</th>\n",
              "      <td>Esportes vivem paralisia sem planos detalhados e nomeações travadas</td>\n",
              "      <td>Rebaixada de ministério a secretaria  política esportiva de Bolsonaro espelha modelo do regime ditatorial  com militares na linha de frente  engessada pela falta de autonomia</td>\n",
              "    </tr>\n",
              "    <tr>\n",
              "      <th>4</th>\n",
              "      <td>Querer matar o Carnaval é um atentado à alma do Brasil</td>\n",
              "      <td>Diante do que já foram os carnavais medievais na Igreja  os de hoje poderiam ser considerados até excessivamente castos</td>\n",
              "    </tr>\n",
              "  </tbody>\n",
              "</table>\n",
              "</div>"
            ],
            "text/plain": [
              "                                                                                        title                                                                                                                                                                             subtitle\n",
              "0  Eder Militão  o zagueiro mais caro da história do Real Madrid e primeiro reforço de Zidane                                                               Revelado pelo São Paulo  o versátil defensor foi comprado do Porto por 50 milhões de euros e chega ao fim da temporada\n",
              "1                     Em gesto inédito  Bolsonaro visita o Muro das Lamentações com Netanyahu                                                                                     Gesto pode ser tido como reconhecimento tácito da soberania israelense nessa parte de Jerusalém.\n",
              "2              Após acenar com embaixada  Bolsonaro anuncia escritório comercial em Jerusalém  Presidente anuncia espaço para promoção comercial na cidade que tem peso estratégico para o Governo de Benjamin Netanyahu. Israel anuncia “forte apoio” à entrada do Brasil na OCDE\n",
              "3                         Esportes vivem paralisia sem planos detalhados e nomeações travadas       Rebaixada de ministério a secretaria  política esportiva de Bolsonaro espelha modelo do regime ditatorial  com militares na linha de frente  engessada pela falta de autonomia\n",
              "4                                      Querer matar o Carnaval é um atentado à alma do Brasil                                                              Diante do que já foram os carnavais medievais na Igreja  os de hoje poderiam ser considerados até excessivamente castos"
            ]
          },
          "metadata": {
            "tags": []
          }
        },
        {
          "output_type": "stream",
          "text": [
            "\n",
            "\n",
            "Método tf-idf\n"
          ],
          "name": "stdout"
        },
        {
          "output_type": "display_data",
          "data": {
            "text/html": [
              "<div>\n",
              "<style scoped>\n",
              "    .dataframe tbody tr th:only-of-type {\n",
              "        vertical-align: middle;\n",
              "    }\n",
              "\n",
              "    .dataframe tbody tr th {\n",
              "        vertical-align: top;\n",
              "    }\n",
              "\n",
              "    .dataframe thead th {\n",
              "        text-align: right;\n",
              "    }\n",
              "</style>\n",
              "<table border=\"1\" class=\"dataframe\">\n",
              "  <thead>\n",
              "    <tr style=\"text-align: right;\">\n",
              "      <th></th>\n",
              "      <th>title</th>\n",
              "      <th>subtitle</th>\n",
              "    </tr>\n",
              "  </thead>\n",
              "  <tbody>\n",
              "    <tr>\n",
              "      <th>0</th>\n",
              "      <td>Eder Militão  o zagueiro mais caro da história do Real Madrid e primeiro reforço de Zidane</td>\n",
              "      <td>Revelado pelo São Paulo  o versátil defensor foi comprado do Porto por 50 milhões de euros e chega ao fim da temporada</td>\n",
              "    </tr>\n",
              "    <tr>\n",
              "      <th>1</th>\n",
              "      <td>Em gesto inédito  Bolsonaro visita o Muro das Lamentações com Netanyahu</td>\n",
              "      <td>Gesto pode ser tido como reconhecimento tácito da soberania israelense nessa parte de Jerusalém.</td>\n",
              "    </tr>\n",
              "    <tr>\n",
              "      <th>2</th>\n",
              "      <td>Barcelona vence partida com recorde mundial de público para o futebol feminino</td>\n",
              "      <td>60.739 espectadores lotam as arquibancadas do Wanda Metropolitano.</td>\n",
              "    </tr>\n",
              "    <tr>\n",
              "      <th>3</th>\n",
              "      <td>Após acenar com embaixada  Bolsonaro anuncia escritório comercial em Jerusalém</td>\n",
              "      <td>Presidente anuncia espaço para promoção comercial na cidade que tem peso estratégico para o Governo de Benjamin Netanyahu. Israel anuncia “forte apoio” à entrada do Brasil na OCDE</td>\n",
              "    </tr>\n",
              "    <tr>\n",
              "      <th>4</th>\n",
              "      <td>Esportes vivem paralisia sem planos detalhados e nomeações travadas</td>\n",
              "      <td>Rebaixada de ministério a secretaria  política esportiva de Bolsonaro espelha modelo do regime ditatorial  com militares na linha de frente  engessada pela falta de autonomia</td>\n",
              "    </tr>\n",
              "  </tbody>\n",
              "</table>\n",
              "</div>"
            ],
            "text/plain": [
              "                                                                                        title                                                                                                                                                                             subtitle\n",
              "0  Eder Militão  o zagueiro mais caro da história do Real Madrid e primeiro reforço de Zidane                                                               Revelado pelo São Paulo  o versátil defensor foi comprado do Porto por 50 milhões de euros e chega ao fim da temporada\n",
              "1                     Em gesto inédito  Bolsonaro visita o Muro das Lamentações com Netanyahu                                                                                     Gesto pode ser tido como reconhecimento tácito da soberania israelense nessa parte de Jerusalém.\n",
              "2              Barcelona vence partida com recorde mundial de público para o futebol feminino                                                                                                                   60.739 espectadores lotam as arquibancadas do Wanda Metropolitano.\n",
              "3              Após acenar com embaixada  Bolsonaro anuncia escritório comercial em Jerusalém  Presidente anuncia espaço para promoção comercial na cidade que tem peso estratégico para o Governo de Benjamin Netanyahu. Israel anuncia “forte apoio” à entrada do Brasil na OCDE\n",
              "4                         Esportes vivem paralisia sem planos detalhados e nomeações travadas       Rebaixada de ministério a secretaria  política esportiva de Bolsonaro espelha modelo do regime ditatorial  com militares na linha de frente  engessada pela falta de autonomia"
            ]
          },
          "metadata": {
            "tags": []
          }
        },
        {
          "output_type": "stream",
          "text": [
            "\n",
            "\n",
            "Método bm-25\n"
          ],
          "name": "stdout"
        },
        {
          "output_type": "display_data",
          "data": {
            "text/html": [
              "<div>\n",
              "<style scoped>\n",
              "    .dataframe tbody tr th:only-of-type {\n",
              "        vertical-align: middle;\n",
              "    }\n",
              "\n",
              "    .dataframe tbody tr th {\n",
              "        vertical-align: top;\n",
              "    }\n",
              "\n",
              "    .dataframe thead th {\n",
              "        text-align: right;\n",
              "    }\n",
              "</style>\n",
              "<table border=\"1\" class=\"dataframe\">\n",
              "  <thead>\n",
              "    <tr style=\"text-align: right;\">\n",
              "      <th></th>\n",
              "      <th>title</th>\n",
              "      <th>subtitle</th>\n",
              "    </tr>\n",
              "  </thead>\n",
              "  <tbody>\n",
              "    <tr>\n",
              "      <th>0</th>\n",
              "      <td>Eder Militão  o zagueiro mais caro da história do Real Madrid e primeiro reforço de Zidane</td>\n",
              "      <td>Revelado pelo São Paulo  o versátil defensor foi comprado do Porto por 50 milhões de euros e chega ao fim da temporada</td>\n",
              "    </tr>\n",
              "    <tr>\n",
              "      <th>1</th>\n",
              "      <td>Esportes vivem paralisia sem planos detalhados e nomeações travadas</td>\n",
              "      <td>Rebaixada de ministério a secretaria  política esportiva de Bolsonaro espelha modelo do regime ditatorial  com militares na linha de frente  engessada pela falta de autonomia</td>\n",
              "    </tr>\n",
              "    <tr>\n",
              "      <th>2</th>\n",
              "      <td>Crianças condenadas ao fogo e ao descaso</td>\n",
              "      <td>Creche em Janaúba  Museu Nacional e os garotos do Ninho. Retratos de uma nação que queima o passado com a mesma passividade que destrói suas perspectivas de futuro</td>\n",
              "    </tr>\n",
              "    <tr>\n",
              "      <th>3</th>\n",
              "      <td>Barcelona vence partida com recorde mundial de público para o futebol feminino</td>\n",
              "      <td>60.739 espectadores lotam as arquibancadas do Wanda Metropolitano.</td>\n",
              "    </tr>\n",
              "    <tr>\n",
              "      <th>4</th>\n",
              "      <td>Vinicius Junior decola no Real Madrid e chega à seleção</td>\n",
              "      <td>Agora referência do ataque merengue  o jogador de 18 anos é o mais novo a ser convocado para o Brasil desde 2011</td>\n",
              "    </tr>\n",
              "  </tbody>\n",
              "</table>\n",
              "</div>"
            ],
            "text/plain": [
              "                                                                                        title                                                                                                                                                                        subtitle\n",
              "0  Eder Militão  o zagueiro mais caro da história do Real Madrid e primeiro reforço de Zidane                                                          Revelado pelo São Paulo  o versátil defensor foi comprado do Porto por 50 milhões de euros e chega ao fim da temporada\n",
              "1                         Esportes vivem paralisia sem planos detalhados e nomeações travadas  Rebaixada de ministério a secretaria  política esportiva de Bolsonaro espelha modelo do regime ditatorial  com militares na linha de frente  engessada pela falta de autonomia\n",
              "2                                                    Crianças condenadas ao fogo e ao descaso             Creche em Janaúba  Museu Nacional e os garotos do Ninho. Retratos de uma nação que queima o passado com a mesma passividade que destrói suas perspectivas de futuro\n",
              "3              Barcelona vence partida com recorde mundial de público para o futebol feminino                                                                                                              60.739 espectadores lotam as arquibancadas do Wanda Metropolitano.\n",
              "4                                     Vinicius Junior decola no Real Madrid e chega à seleção                                                                Agora referência do ataque merengue  o jogador de 18 anos é o mais novo a ser convocado para o Brasil desde 2011"
            ]
          },
          "metadata": {
            "tags": []
          }
        },
        {
          "output_type": "stream",
          "text": [
            "\n",
            "\n",
            "Utilizando a query \"crise na venezuela\":\n",
            "Método da representação binária\n"
          ],
          "name": "stdout"
        },
        {
          "output_type": "display_data",
          "data": {
            "text/html": [
              "<div>\n",
              "<style scoped>\n",
              "    .dataframe tbody tr th:only-of-type {\n",
              "        vertical-align: middle;\n",
              "    }\n",
              "\n",
              "    .dataframe tbody tr th {\n",
              "        vertical-align: top;\n",
              "    }\n",
              "\n",
              "    .dataframe thead th {\n",
              "        text-align: right;\n",
              "    }\n",
              "</style>\n",
              "<table border=\"1\" class=\"dataframe\">\n",
              "  <thead>\n",
              "    <tr style=\"text-align: right;\">\n",
              "      <th></th>\n",
              "      <th>title</th>\n",
              "      <th>subtitle</th>\n",
              "    </tr>\n",
              "  </thead>\n",
              "  <tbody>\n",
              "    <tr>\n",
              "      <th>0</th>\n",
              "      <td>“O debate de políticas públicas na América Latina continua girando em torno de temas dos anos oitenta”</td>\n",
              "      <td>Responsável pelas Américas na instituição acredita em recuperação da economia brasileira com agenda econômica de Bolsonaro</td>\n",
              "    </tr>\n",
              "    <tr>\n",
              "      <th>1</th>\n",
              "      <td>Trump: “A Rússia tem que ir embora da Venezuela”</td>\n",
              "      <td>Presidente dos EUA recebe a mulher de Guaidó e sobe o tom de sua ameaça a Maduro:</td>\n",
              "    </tr>\n",
              "    <tr>\n",
              "      <th>2</th>\n",
              "      <td>Cruz Vermelha afirma que distribuirá ajuda humanitária na Venezuela em 15 dias</td>\n",
              "      <td>Operação  que pretende ajudar 650.000 pessoas  será \"muito semelhante à da Síria\"  afirma o presidente da organização internacional</td>\n",
              "    </tr>\n",
              "    <tr>\n",
              "      <th>3</th>\n",
              "      <td>Grupos que sustentam Maduro serão principal desafio a qualquer futuro governo na Venezuela</td>\n",
              "      <td>É erro grave presumir que queda de Maduro e promoção de eleições livres seriam garantia para resolver problemas do país vizinho</td>\n",
              "    </tr>\n",
              "    <tr>\n",
              "      <th>4</th>\n",
              "      <td>Bolsonaro (des)governa o Brasil pelo Twitter</td>\n",
              "      <td>Ao tomar decisões pelo volume dos gritos nas redes sociais  o presidente corrompe a democracia</td>\n",
              "    </tr>\n",
              "  </tbody>\n",
              "</table>\n",
              "</div>"
            ],
            "text/plain": [
              "                                                                                                    title                                                                                                                             subtitle\n",
              "0  “O debate de políticas públicas na América Latina continua girando em torno de temas dos anos oitenta”           Responsável pelas Américas na instituição acredita em recuperação da economia brasileira com agenda econômica de Bolsonaro\n",
              "1                                                        Trump: “A Rússia tem que ir embora da Venezuela”                                                    Presidente dos EUA recebe a mulher de Guaidó e sobe o tom de sua ameaça a Maduro:\n",
              "2                          Cruz Vermelha afirma que distribuirá ajuda humanitária na Venezuela em 15 dias  Operação  que pretende ajudar 650.000 pessoas  será \"muito semelhante à da Síria\"  afirma o presidente da organização internacional\n",
              "3              Grupos que sustentam Maduro serão principal desafio a qualquer futuro governo na Venezuela      É erro grave presumir que queda de Maduro e promoção de eleições livres seriam garantia para resolver problemas do país vizinho\n",
              "4                                                            Bolsonaro (des)governa o Brasil pelo Twitter                                       Ao tomar decisões pelo volume dos gritos nas redes sociais  o presidente corrompe a democracia"
            ]
          },
          "metadata": {
            "tags": []
          }
        },
        {
          "output_type": "stream",
          "text": [
            "\n",
            "\n",
            "Método tf\n"
          ],
          "name": "stdout"
        },
        {
          "output_type": "display_data",
          "data": {
            "text/html": [
              "<div>\n",
              "<style scoped>\n",
              "    .dataframe tbody tr th:only-of-type {\n",
              "        vertical-align: middle;\n",
              "    }\n",
              "\n",
              "    .dataframe tbody tr th {\n",
              "        vertical-align: top;\n",
              "    }\n",
              "\n",
              "    .dataframe thead th {\n",
              "        text-align: right;\n",
              "    }\n",
              "</style>\n",
              "<table border=\"1\" class=\"dataframe\">\n",
              "  <thead>\n",
              "    <tr style=\"text-align: right;\">\n",
              "      <th></th>\n",
              "      <th>title</th>\n",
              "      <th>subtitle</th>\n",
              "    </tr>\n",
              "  </thead>\n",
              "  <tbody>\n",
              "    <tr>\n",
              "      <th>0</th>\n",
              "      <td>Grupos que sustentam Maduro serão principal desafio a qualquer futuro governo na Venezuela</td>\n",
              "      <td>É erro grave presumir que queda de Maduro e promoção de eleições livres seriam garantia para resolver problemas do país vizinho</td>\n",
              "    </tr>\n",
              "    <tr>\n",
              "      <th>1</th>\n",
              "      <td>Steve Bannon: “Bolsonaro e Salvini são os melhores representantes do movimento nacional-populista”</td>\n",
              "      <td>Em entrevista ao EL PAÍS  o ideólogo da extrema direita diz que o vice-primeiro-ministro italiano e o premiê húngaro Viktor Orbán são os políticos mais importantes da Europa atualmente</td>\n",
              "    </tr>\n",
              "    <tr>\n",
              "      <th>2</th>\n",
              "      <td>O incerto futuro dos militares que desertaram na Venezuela</td>\n",
              "      <td>Mais de mil venezuelanos que desertaram há um mês aguardam em casas  hotéis e albergues sem esconder seu mal-estar quanto às condições em que vivem</td>\n",
              "    </tr>\n",
              "    <tr>\n",
              "      <th>3</th>\n",
              "      <td>Adam Tooze: “Bolsonaro é terrível  mas é a Itália que poderia quebrar a economia mundial”</td>\n",
              "      <td>Economista britânico Adam Tooze analisa os riscos da ascensão do populismo nas Américas e na Europa</td>\n",
              "    </tr>\n",
              "    <tr>\n",
              "      <th>4</th>\n",
              "      <td>Milícia  o exército popular a serviço de Maduro</td>\n",
              "      <td>O poder do líder bolivariano na Venezuela se baseia no exército e nas milícias  um corpo de um milhão de pessoas treinadas com vassouras e rifles  que prometem dar suas vidas pela Revolução</td>\n",
              "    </tr>\n",
              "  </tbody>\n",
              "</table>\n",
              "</div>"
            ],
            "text/plain": [
              "                                                                                                title                                                                                                                                                                                       subtitle\n",
              "0          Grupos que sustentam Maduro serão principal desafio a qualquer futuro governo na Venezuela                                                                É erro grave presumir que queda de Maduro e promoção de eleições livres seriam garantia para resolver problemas do país vizinho\n",
              "1  Steve Bannon: “Bolsonaro e Salvini são os melhores representantes do movimento nacional-populista”       Em entrevista ao EL PAÍS  o ideólogo da extrema direita diz que o vice-primeiro-ministro italiano e o premiê húngaro Viktor Orbán são os políticos mais importantes da Europa atualmente\n",
              "2                                          O incerto futuro dos militares que desertaram na Venezuela                                            Mais de mil venezuelanos que desertaram há um mês aguardam em casas  hotéis e albergues sem esconder seu mal-estar quanto às condições em que vivem\n",
              "3           Adam Tooze: “Bolsonaro é terrível  mas é a Itália que poderia quebrar a economia mundial”                                                                                            Economista britânico Adam Tooze analisa os riscos da ascensão do populismo nas Américas e na Europa\n",
              "4                                                     Milícia  o exército popular a serviço de Maduro  O poder do líder bolivariano na Venezuela se baseia no exército e nas milícias  um corpo de um milhão de pessoas treinadas com vassouras e rifles  que prometem dar suas vidas pela Revolução"
            ]
          },
          "metadata": {
            "tags": []
          }
        },
        {
          "output_type": "stream",
          "text": [
            "\n",
            "\n",
            "Método tf-idf\n"
          ],
          "name": "stdout"
        },
        {
          "output_type": "display_data",
          "data": {
            "text/html": [
              "<div>\n",
              "<style scoped>\n",
              "    .dataframe tbody tr th:only-of-type {\n",
              "        vertical-align: middle;\n",
              "    }\n",
              "\n",
              "    .dataframe tbody tr th {\n",
              "        vertical-align: top;\n",
              "    }\n",
              "\n",
              "    .dataframe thead th {\n",
              "        text-align: right;\n",
              "    }\n",
              "</style>\n",
              "<table border=\"1\" class=\"dataframe\">\n",
              "  <thead>\n",
              "    <tr style=\"text-align: right;\">\n",
              "      <th></th>\n",
              "      <th>title</th>\n",
              "      <th>subtitle</th>\n",
              "    </tr>\n",
              "  </thead>\n",
              "  <tbody>\n",
              "    <tr>\n",
              "      <th>0</th>\n",
              "      <td>Grupos que sustentam Maduro serão principal desafio a qualquer futuro governo na Venezuela</td>\n",
              "      <td>É erro grave presumir que queda de Maduro e promoção de eleições livres seriam garantia para resolver problemas do país vizinho</td>\n",
              "    </tr>\n",
              "    <tr>\n",
              "      <th>1</th>\n",
              "      <td>O incerto futuro dos militares que desertaram na Venezuela</td>\n",
              "      <td>Mais de mil venezuelanos que desertaram há um mês aguardam em casas  hotéis e albergues sem esconder seu mal-estar quanto às condições em que vivem</td>\n",
              "    </tr>\n",
              "    <tr>\n",
              "      <th>2</th>\n",
              "      <td>Milícia  o exército popular a serviço de Maduro</td>\n",
              "      <td>O poder do líder bolivariano na Venezuela se baseia no exército e nas milícias  um corpo de um milhão de pessoas treinadas com vassouras e rifles  que prometem dar suas vidas pela Revolução</td>\n",
              "    </tr>\n",
              "    <tr>\n",
              "      <th>3</th>\n",
              "      <td>Steve Bannon: “Bolsonaro e Salvini são os melhores representantes do movimento nacional-populista”</td>\n",
              "      <td>Em entrevista ao EL PAÍS  o ideólogo da extrema direita diz que o vice-primeiro-ministro italiano e o premiê húngaro Viktor Orbán são os políticos mais importantes da Europa atualmente</td>\n",
              "    </tr>\n",
              "    <tr>\n",
              "      <th>4</th>\n",
              "      <td>Adam Tooze: “Bolsonaro é terrível  mas é a Itália que poderia quebrar a economia mundial”</td>\n",
              "      <td>Economista britânico Adam Tooze analisa os riscos da ascensão do populismo nas Américas e na Europa</td>\n",
              "    </tr>\n",
              "  </tbody>\n",
              "</table>\n",
              "</div>"
            ],
            "text/plain": [
              "                                                                                                title                                                                                                                                                                                       subtitle\n",
              "0          Grupos que sustentam Maduro serão principal desafio a qualquer futuro governo na Venezuela                                                                É erro grave presumir que queda de Maduro e promoção de eleições livres seriam garantia para resolver problemas do país vizinho\n",
              "1                                          O incerto futuro dos militares que desertaram na Venezuela                                            Mais de mil venezuelanos que desertaram há um mês aguardam em casas  hotéis e albergues sem esconder seu mal-estar quanto às condições em que vivem\n",
              "2                                                     Milícia  o exército popular a serviço de Maduro  O poder do líder bolivariano na Venezuela se baseia no exército e nas milícias  um corpo de um milhão de pessoas treinadas com vassouras e rifles  que prometem dar suas vidas pela Revolução\n",
              "3  Steve Bannon: “Bolsonaro e Salvini são os melhores representantes do movimento nacional-populista”       Em entrevista ao EL PAÍS  o ideólogo da extrema direita diz que o vice-primeiro-ministro italiano e o premiê húngaro Viktor Orbán são os políticos mais importantes da Europa atualmente\n",
              "4           Adam Tooze: “Bolsonaro é terrível  mas é a Itália que poderia quebrar a economia mundial”                                                                                            Economista britânico Adam Tooze analisa os riscos da ascensão do populismo nas Américas e na Europa"
            ]
          },
          "metadata": {
            "tags": []
          }
        },
        {
          "output_type": "stream",
          "text": [
            "\n",
            "\n",
            "Método bm-25\n"
          ],
          "name": "stdout"
        },
        {
          "output_type": "display_data",
          "data": {
            "text/html": [
              "<div>\n",
              "<style scoped>\n",
              "    .dataframe tbody tr th:only-of-type {\n",
              "        vertical-align: middle;\n",
              "    }\n",
              "\n",
              "    .dataframe tbody tr th {\n",
              "        vertical-align: top;\n",
              "    }\n",
              "\n",
              "    .dataframe thead th {\n",
              "        text-align: right;\n",
              "    }\n",
              "</style>\n",
              "<table border=\"1\" class=\"dataframe\">\n",
              "  <thead>\n",
              "    <tr style=\"text-align: right;\">\n",
              "      <th></th>\n",
              "      <th>title</th>\n",
              "      <th>subtitle</th>\n",
              "    </tr>\n",
              "  </thead>\n",
              "  <tbody>\n",
              "    <tr>\n",
              "      <th>0</th>\n",
              "      <td>Grupos que sustentam Maduro serão principal desafio a qualquer futuro governo na Venezuela</td>\n",
              "      <td>É erro grave presumir que queda de Maduro e promoção de eleições livres seriam garantia para resolver problemas do país vizinho</td>\n",
              "    </tr>\n",
              "    <tr>\n",
              "      <th>1</th>\n",
              "      <td>Boeing enfrenta crise mais difícil de sua história</td>\n",
              "      <td>Empresa teme perda de confiança depois da morte de 345 pessoas em dois acidentes aéreos em cinco meses</td>\n",
              "    </tr>\n",
              "    <tr>\n",
              "      <th>2</th>\n",
              "      <td>Trump: “A Rússia tem que ir embora da Venezuela”</td>\n",
              "      <td>Presidente dos EUA recebe a mulher de Guaidó e sobe o tom de sua ameaça a Maduro:</td>\n",
              "    </tr>\n",
              "    <tr>\n",
              "      <th>3</th>\n",
              "      <td>A ética da solidariedade feminista</td>\n",
              "      <td>Se é preciso ouvir antes de falar  é também nosso dever falar com responsabilidade sobre as injustiças que assolam as mulheres e meninas</td>\n",
              "    </tr>\n",
              "    <tr>\n",
              "      <th>4</th>\n",
              "      <td>Cruz Vermelha afirma que distribuirá ajuda humanitária na Venezuela em 15 dias</td>\n",
              "      <td>Operação  que pretende ajudar 650.000 pessoas  será \"muito semelhante à da Síria\"  afirma o presidente da organização internacional</td>\n",
              "    </tr>\n",
              "  </tbody>\n",
              "</table>\n",
              "</div>"
            ],
            "text/plain": [
              "                                                                                        title                                                                                                                                  subtitle\n",
              "0  Grupos que sustentam Maduro serão principal desafio a qualquer futuro governo na Venezuela           É erro grave presumir que queda de Maduro e promoção de eleições livres seriam garantia para resolver problemas do país vizinho\n",
              "1                                          Boeing enfrenta crise mais difícil de sua história                                    Empresa teme perda de confiança depois da morte de 345 pessoas em dois acidentes aéreos em cinco meses\n",
              "2                                            Trump: “A Rússia tem que ir embora da Venezuela”                                                         Presidente dos EUA recebe a mulher de Guaidó e sobe o tom de sua ameaça a Maduro:\n",
              "3                                                          A ética da solidariedade feminista  Se é preciso ouvir antes de falar  é também nosso dever falar com responsabilidade sobre as injustiças que assolam as mulheres e meninas\n",
              "4              Cruz Vermelha afirma que distribuirá ajuda humanitária na Venezuela em 15 dias       Operação  que pretende ajudar 650.000 pessoas  será \"muito semelhante à da Síria\"  afirma o presidente da organização internacional"
            ]
          },
          "metadata": {
            "tags": []
          }
        },
        {
          "output_type": "stream",
          "text": [
            "\n",
            "\n"
          ],
          "name": "stdout"
        }
      ]
    },
    {
      "cell_type": "code",
      "metadata": {
        "id": "4IUpuy4gqhAR",
        "colab_type": "code",
        "colab": {}
      },
      "source": [
        "#Questão 5"
      ],
      "execution_count": 0,
      "outputs": []
    },
    {
      "cell_type": "markdown",
      "metadata": {
        "id": "1tiSkI1x8bcQ",
        "colab_type": "text"
      },
      "source": [
        "## Questão 5\n",
        "Comparar os resultados das versões implementadas e apresentar um relatório de overlap par a par entre os resultados de cada versão do modelo vetorial, utilizando o [índice de Jaccard](https://en.wikipedia.org/wiki/Jaccard_index)"
      ]
    },
    {
      "cell_type": "markdown",
      "metadata": {
        "id": "u2JGqIcU_0l6",
        "colab_type": "text"
      },
      "source": [
        "Para a consulta \"golpe de estado\", as melhores versões do modelo vetorial foram o TF-IDF e o BM25, pois seus resultados se assemelharam mais com a consulta, mas o TF-IDF neste caso possui uma leve vantagem, pois seu top 5 é mais relevante.\n",
        "\n",
        "Para a consulta \"campeonato brasileiro\", novamente as versões TF-IDF e BM25 se saíram melhor. É importante observar que, apenas o top 5 da versão BM25 apresentou somente notícias com assunto relacionado com a consulta, enquanto os outros modelos apresentado uma ou mais notícias com assuntos diferentes. Talvez isso se dê ao fato de que há poucos documentos que apresentam este assunto na coleção.\n",
        "\n",
        "Por ultimo, para a consulta \"crise na venezuela\", todas as versões mostraram resultados, mas ao meu ver, nenhum deles foi realmente satisfatório. Dentre as versões, o destaque é para o TF-IDF que, mesmo com seu top 5 apresentando notícias irrelevantes, suas 3 primeiras posições se assemelham bastante com a consulta."
      ]
    },
    {
      "cell_type": "code",
      "metadata": {
        "id": "mZyh6OD_uT5S",
        "colab_type": "code",
        "colab": {
          "base_uri": "https://localhost:8080/",
          "height": 496
        },
        "outputId": "70ebaae4-61f2-454e-b6dd-15c9b1c37e92"
      },
      "source": [
        "for query in queries:\n",
        "  \n",
        "  scores_br = {}\n",
        "  scores_tf = {}\n",
        "  scores_tf_idf = {}\n",
        "  scores_bm_25 = {}\n",
        "\n",
        "  for document in list(range(len(data_text))):\n",
        "  \n",
        "    scores_br[document] = binary_rep(query, document, data_text)\n",
        "    scores_tf[document] = tf(query, document, data_text)\n",
        "    scores_tf_idf[document] = tf_idf(query, document, data_text, inverted_index)\n",
        "    scores_bm_25[document] = bm_25(query, document, data_text, inverted_index, 1.2)\n",
        "\n",
        "  top5_scores_br_docs = heapq.nlargest(5, scores_br, key=scores_br.get)\n",
        "  top5_scores_tf_docs = heapq.nlargest(5, scores_tf, key=scores_tf.get)\n",
        "  top5_scores_tf_idf_docs = heapq.nlargest(5, scores_tf_idf, key=scores_tf_idf.get)\n",
        "  top5_scores_bm_25_docs = heapq.nlargest(5, scores_bm_25, key=scores_bm_25.get)\n",
        "\n",
        "  df = {'binary_rep': top5_scores_br_docs, 'tf': top5_scores_tf_docs, 'tf_idf': top5_scores_tf_idf_docs, 'bm_25': top5_scores_bm_25_docs}\n",
        "  df = pd.DataFrame.from_dict(df)\n",
        "  \n",
        "  funs = [binary_rep, tf, tf_idf, bm_25]\n",
        "  fun_names = [(x.__name__,y.__name__) for x,y in [tup for tup in list(itertools.combinations(funs,2))]]\n",
        "\n",
        "  print(f'Abaixo estão os resultados da consulta \"{query}\":')\n",
        "  for fun1,fun2 in fun_names:\n",
        "    inter = len(set(df[fun1]) & set(df[fun2]))\n",
        "    union = len(set(df[fun1])) + len(set(df[fun2])) - inter\n",
        "    jaccard = inter/union\n",
        "    print(f'O resultado entre {fun1} e {fun2} foi {jaccard:.3}.')\n",
        "  print('\\n')"
      ],
      "execution_count": 16,
      "outputs": [
        {
          "output_type": "stream",
          "text": [
            "Abaixo estão os resultados da consulta \"golpe de estado\":\n",
            "O resultado entre binary_rep e tf foi 0.111.\n",
            "O resultado entre binary_rep e tf_idf foi 0.111.\n",
            "O resultado entre binary_rep e bm_25 foi 0.111.\n",
            "O resultado entre tf e tf_idf foi 0.429.\n",
            "O resultado entre tf e bm_25 foi 0.429.\n",
            "O resultado entre tf_idf e bm_25 foi 0.667.\n",
            "\n",
            "\n",
            "Abaixo estão os resultados da consulta \"campeonato brasileiro\":\n",
            "O resultado entre binary_rep e tf foi 0.111.\n",
            "O resultado entre binary_rep e tf_idf foi 0.111.\n",
            "O resultado entre binary_rep e bm_25 foi 0.111.\n",
            "O resultado entre tf e tf_idf foi 0.667.\n",
            "O resultado entre tf e bm_25 foi 0.25.\n",
            "O resultado entre tf_idf e bm_25 foi 0.429.\n",
            "\n",
            "\n",
            "Abaixo estão os resultados da consulta \"crise na venezuela\":\n",
            "O resultado entre binary_rep e tf foi 0.111.\n",
            "O resultado entre binary_rep e tf_idf foi 0.111.\n",
            "O resultado entre binary_rep e bm_25 foi 0.429.\n",
            "O resultado entre tf e tf_idf foi 1.0.\n",
            "O resultado entre tf e bm_25 foi 0.111.\n",
            "O resultado entre tf_idf e bm_25 foi 0.111.\n",
            "\n",
            "\n"
          ],
          "name": "stdout"
        }
      ]
    }
  ]
}